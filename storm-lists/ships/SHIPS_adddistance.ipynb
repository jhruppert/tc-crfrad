{
 "cells": [
  {
   "cell_type": "code",
   "execution_count": 1,
   "id": "9ec1c450-5989-441a-97db-350f7839d6c1",
   "metadata": {},
   "outputs": [],
   "source": [
    "\"\"\"──────────────────────────────────────────────────────────────────────────┐\n",
    "│ Loading necessary libraries to build and train model                       │\n",
    "└──────────────────────────────────────────────────────────────────────────\"\"\"\n",
    "import warnings\n",
    "warnings.filterwarnings(\"ignore\", category=UserWarning)\n",
    "import os,sys,gc\n",
    "import numpy as np\n",
    "import pickle\n",
    "import proplot as plot\n",
    "import matplotlib.pyplot as plt\n",
    "from tqdm.auto import tqdm\n",
    "import pandas as pd\n",
    "import seaborn as sns\n",
    "import glob,gc\n",
    "sys.path.insert(1, '/work/FAC/FGSE/IDYST/tbeucler/default/freddy0218/TCGphy/2020_TC_CRF/dev/freddy0218/scikit/')\n",
    "from tools import derive_var,read_and_proc\n",
    "from copy import deepcopy\n",
    "%matplotlib inline\n",
    "plot.rc.update({'figure.facecolor':'w','axes.labelweight':'ultralight',\n",
    "                'tick.labelweight':'ultralight','gridminor.linestyle':'--','title.weight':'normal','linewidth':0.5})\n",
    "import ast\n",
    "import xarray as xr\n",
    "import SHIPS_func"
   ]
  },
  {
   "cell_type": "code",
   "execution_count": 2,
   "id": "0a16450a-85de-4785-b1b5-53a2ee386c61",
   "metadata": {},
   "outputs": [],
   "source": [
    "data2=\"/work/FAC/FGSE/IDYST/tbeucler/default/saranya/Data/ECMWF/ERA5_25kmx3hr/\"\n",
    "path=\"/work/FAC/FGSE/IDYST/tbeucler/default/saranya/causal/besttracks/\"\n",
    "\n",
    "finalstormlist = pd.read_csv('./store/stormlist_withMPI.csv')"
   ]
  },
  {
   "cell_type": "code",
   "execution_count": 4,
   "id": "96f95387-af21-4a3c-be15-190827a6cf5b",
   "metadata": {},
   "outputs": [],
   "source": [
    "era5 = SHIPS_func.readyear_automatic(data2,2000)"
   ]
  },
  {
   "cell_type": "code",
   "execution_count": 5,
   "id": "2b32c45c-83a6-4fdb-9e90-31daa477367c",
   "metadata": {},
   "outputs": [],
   "source": [
    "basin = [ast.literal_eval(obj)[1][:2] for obj in finalstormlist['id'].values]\n",
    "year  = [int(ast.literal_eval(obj)[0][-4:]) for obj in finalstormlist['id'].values]\n",
    "stormname = [obj.split('_')[1] for obj in finalstormlist['name'].values]\n",
    "time_before_tcg\t = [int(obj/6) for obj in finalstormlist['time_before_tcg'].values]"
   ]
  },
  {
   "cell_type": "code",
   "execution_count": null,
   "id": "543e2b77-5039-4327-a726-a77b8c600293",
   "metadata": {},
   "outputs": [],
   "source": [
    "track = sorted(glob.glob(path+f'wp/wp_{2012}.csv'))\n",
    "tracksDF = pd.read_csv(track[0])\n",
    "make_timeseries_onestorm(tracksDF,stormname,'WPAC')"
   ]
  },
  {
   "cell_type": "code",
   "execution_count": 12,
   "id": "8fc78b22-146a-4fd2-921f-a7c85d18506c",
   "metadata": {},
   "outputs": [
    {
     "data": {
      "application/json": {
       "ascii": false,
       "bar_format": null,
       "colour": null,
       "elapsed": 0.004038810729980469,
       "initial": 0,
       "n": 0,
       "ncols": null,
       "nrows": 48,
       "postfix": null,
       "prefix": "",
       "rate": null,
       "total": 263,
       "unit": "it",
       "unit_divisor": 1000,
       "unit_scale": false
      },
      "application/vnd.jupyter.widget-view+json": {
       "model_id": "d8488a792b6942509be8e5c9f8e793a1",
       "version_major": 2,
       "version_minor": 0
      },
      "text/plain": [
       "  0%|          | 0/263 [00:00<?, ?it/s]"
      ]
     },
     "metadata": {},
     "output_type": "display_data"
    },
    {
     "name": "stdout",
     "output_type": "stream",
     "text": [
      "index 4 is out of bounds for axis 0 with size 0\n",
      "index 15 is out of bounds for axis 0 with size 0\n",
      "index 4 is out of bounds for axis 0 with size 0\n"
     ]
    }
   ],
   "source": [
    "distances = []\n",
    "for i in tqdm(range(len(year))):\n",
    "    try:\n",
    "        _,TClocxy,landlocxy = SHIPS_func.get_closest_land_xy(path,era5,basin[i],year[i],stormname[i],time_before_tcg[i])\n",
    "        distance = SHIPS_func.get_distance_km(era5,TClocxy,landlocxy)\n",
    "        distances.append(distance)\n",
    "    except Exception as text:\n",
    "        print(text)\n",
    "        distances.append(np.nan)\n",
    "        continue"
   ]
  },
  {
   "cell_type": "code",
   "execution_count": 13,
   "id": "5686e4f9-aa18-4928-aaa5-8eb4a65f8319",
   "metadata": {},
   "outputs": [],
   "source": [
    "finalstormlist['distance'] = distances"
   ]
  },
  {
   "cell_type": "code",
   "execution_count": 14,
   "id": "06d5b940-9344-4958-b889-c5b01305aebf",
   "metadata": {},
   "outputs": [
    {
     "data": {
      "text/html": [
       "<div>\n",
       "<style scoped>\n",
       "    .dataframe tbody tr th:only-of-type {\n",
       "        vertical-align: middle;\n",
       "    }\n",
       "\n",
       "    .dataframe tbody tr th {\n",
       "        vertical-align: top;\n",
       "    }\n",
       "\n",
       "    .dataframe thead th {\n",
       "        text-align: right;\n",
       "    }\n",
       "</style>\n",
       "<table border=\"1\" class=\"dataframe\">\n",
       "  <thead>\n",
       "    <tr style=\"text-align: right;\">\n",
       "      <th></th>\n",
       "      <th>Unnamed: 0</th>\n",
       "      <th>index</th>\n",
       "      <th>name</th>\n",
       "      <th>id</th>\n",
       "      <th>mean_shear</th>\n",
       "      <th>time_before_tcg</th>\n",
       "      <th>mean_shear_hu</th>\n",
       "      <th>time_before_hu</th>\n",
       "      <th>lat</th>\n",
       "      <th>E_MPI</th>\n",
       "      <th>distance</th>\n",
       "    </tr>\n",
       "  </thead>\n",
       "  <tbody>\n",
       "    <tr>\n",
       "      <th>78</th>\n",
       "      <td>78</td>\n",
       "      <td>4</td>\n",
       "      <td>2012_SON-TINH</td>\n",
       "      <td>['wp242012', 'WP_24']</td>\n",
       "      <td>3.979401</td>\n",
       "      <td>36</td>\n",
       "      <td>6.277938</td>\n",
       "      <td>72</td>\n",
       "      <td>9.725</td>\n",
       "      <td>76.127868</td>\n",
       "      <td>61.184965</td>\n",
       "    </tr>\n",
       "  </tbody>\n",
       "</table>\n",
       "</div>"
      ],
      "text/plain": [
       "    Unnamed: 0  index           name                     id  mean_shear  \\\n",
       "78          78      4  2012_SON-TINH  ['wp242012', 'WP_24']    3.979401   \n",
       "\n",
       "    time_before_tcg  mean_shear_hu  time_before_hu    lat      E_MPI  \\\n",
       "78               36       6.277938              72  9.725  76.127868   \n",
       "\n",
       "     distance  \n",
       "78  61.184965  "
      ]
     },
     "execution_count": 14,
     "metadata": {},
     "output_type": "execute_result"
    }
   ],
   "source": [
    "finalstormlist[finalstormlist['name']=='2012_SON-TINH']"
   ]
  },
  {
   "cell_type": "code",
   "execution_count": 15,
   "id": "fc9001f7-f621-46d0-bd56-37e117338bf3",
   "metadata": {},
   "outputs": [],
   "source": [
    "finallist = finalstormlist.drop(columns=['Unnamed: 0'])\n",
    "finallist.to_csv('./store/stormlist_withMPIdistance.csv')"
   ]
  },
  {
   "cell_type": "markdown",
   "id": "7c00f31f-af13-4132-a650-03a89dc8f810",
   "metadata": {},
   "source": [
    "# Test"
   ]
  },
  {
   "cell_type": "code",
   "execution_count": 69,
   "id": "ad57fb3a-159a-40aa-849a-022651dc3608",
   "metadata": {},
   "outputs": [],
   "source": [
    "track = sorted(glob.glob(path+f'ep/EP_{2020}*.csv'))\n",
    "tracksDF = pd.read_csv(track[0])\n",
    "#stormloc = make_timeseries_onestorm(tracksDF,stormname,'EPAC')[int(time_before_tcg)]"
   ]
  },
  {
   "cell_type": "code",
   "execution_count": 68,
   "id": "33885a28-511d-4fd4-9359-ac9a37fc48e0",
   "metadata": {},
   "outputs": [
    {
     "ename": "IndexError",
     "evalue": "index 2 is out of bounds for axis 0 with size 0",
     "output_type": "error",
     "traceback": [
      "\u001b[0;31m---------------------------------------------------------------------------\u001b[0m",
      "\u001b[0;31mIndexError\u001b[0m                                Traceback (most recent call last)",
      "\u001b[0;32m/tmp/ipykernel_2454626/4068006701.py\u001b[0m in \u001b[0;36m<cell line: 1>\u001b[0;34m()\u001b[0m\n\u001b[0;32m----> 1\u001b[0;31m \u001b[0mTCloc\u001b[0m\u001b[0;34m,\u001b[0m\u001b[0mTClocxy\u001b[0m\u001b[0;34m,\u001b[0m\u001b[0mlandlocxy\u001b[0m \u001b[0;34m=\u001b[0m \u001b[0mSHIPS_func\u001b[0m\u001b[0;34m.\u001b[0m\u001b[0mget_closest_land_xy\u001b[0m\u001b[0;34m(\u001b[0m\u001b[0mpath\u001b[0m\u001b[0;34m,\u001b[0m\u001b[0mera5\u001b[0m\u001b[0;34m,\u001b[0m\u001b[0mbasin\u001b[0m\u001b[0;34m[\u001b[0m\u001b[0;36m221\u001b[0m\u001b[0;34m]\u001b[0m\u001b[0;34m,\u001b[0m\u001b[0myear\u001b[0m\u001b[0;34m[\u001b[0m\u001b[0;36m221\u001b[0m\u001b[0;34m]\u001b[0m\u001b[0;34m,\u001b[0m\u001b[0mstormname\u001b[0m\u001b[0;34m[\u001b[0m\u001b[0;36m221\u001b[0m\u001b[0;34m]\u001b[0m\u001b[0;34m,\u001b[0m\u001b[0mtime_before_tcg\u001b[0m\u001b[0;34m[\u001b[0m\u001b[0;36m221\u001b[0m\u001b[0;34m]\u001b[0m\u001b[0;34m)\u001b[0m\u001b[0;34m\u001b[0m\u001b[0;34m\u001b[0m\u001b[0m\n\u001b[0m",
      "\u001b[0;32m/work/FAC/FGSE/IDYST/tbeucler/default/freddy0218/2024_TCG_VED_WRFsen/ships/SHIPS_func.py\u001b[0m in \u001b[0;36mget_closest_land_xy\u001b[0;34m(path, era5, basin, year, stormname, time_before_tcg)\u001b[0m\n\u001b[1;32m     40\u001b[0m         \u001b[0mtrack\u001b[0m \u001b[0;34m=\u001b[0m \u001b[0msorted\u001b[0m\u001b[0;34m(\u001b[0m\u001b[0mglob\u001b[0m\u001b[0;34m.\u001b[0m\u001b[0mglob\u001b[0m\u001b[0;34m(\u001b[0m\u001b[0mpath\u001b[0m\u001b[0;34m+\u001b[0m\u001b[0;34mf'ep/EP_{year}*.csv'\u001b[0m\u001b[0;34m)\u001b[0m\u001b[0;34m)\u001b[0m\u001b[0;34m\u001b[0m\u001b[0;34m\u001b[0m\u001b[0m\n\u001b[1;32m     41\u001b[0m         \u001b[0mtracksDF\u001b[0m \u001b[0;34m=\u001b[0m \u001b[0mpd\u001b[0m\u001b[0;34m.\u001b[0m\u001b[0mread_csv\u001b[0m\u001b[0;34m(\u001b[0m\u001b[0mtrack\u001b[0m\u001b[0;34m[\u001b[0m\u001b[0;36m0\u001b[0m\u001b[0;34m]\u001b[0m\u001b[0;34m)\u001b[0m\u001b[0;34m\u001b[0m\u001b[0;34m\u001b[0m\u001b[0m\n\u001b[0;32m---> 42\u001b[0;31m         \u001b[0mstormloc\u001b[0m \u001b[0;34m=\u001b[0m \u001b[0mmake_timeseries_onestorm\u001b[0m\u001b[0;34m(\u001b[0m\u001b[0mtracksDF\u001b[0m\u001b[0;34m,\u001b[0m\u001b[0mstormname\u001b[0m\u001b[0;34m,\u001b[0m\u001b[0;34m'EPAC'\u001b[0m\u001b[0;34m)\u001b[0m\u001b[0;34m[\u001b[0m\u001b[0mint\u001b[0m\u001b[0;34m(\u001b[0m\u001b[0mtime_before_tcg\u001b[0m\u001b[0;34m)\u001b[0m\u001b[0;34m]\u001b[0m\u001b[0;34m\u001b[0m\u001b[0;34m\u001b[0m\u001b[0m\n\u001b[0m\u001b[1;32m     43\u001b[0m     \u001b[0;32melif\u001b[0m \u001b[0mbasin\u001b[0m\u001b[0;34m==\u001b[0m\u001b[0;34m'AL'\u001b[0m\u001b[0;34m:\u001b[0m\u001b[0;34m\u001b[0m\u001b[0;34m\u001b[0m\u001b[0m\n\u001b[1;32m     44\u001b[0m         \u001b[0mtrack\u001b[0m \u001b[0;34m=\u001b[0m \u001b[0msorted\u001b[0m\u001b[0;34m(\u001b[0m\u001b[0mglob\u001b[0m\u001b[0;34m.\u001b[0m\u001b[0mglob\u001b[0m\u001b[0;34m(\u001b[0m\u001b[0mpath\u001b[0m\u001b[0;34m+\u001b[0m\u001b[0;34mf'na/NA_{year}.csv'\u001b[0m\u001b[0;34m)\u001b[0m\u001b[0;34m)\u001b[0m\u001b[0;34m\u001b[0m\u001b[0;34m\u001b[0m\u001b[0m\n",
      "\u001b[0;31mIndexError\u001b[0m: index 2 is out of bounds for axis 0 with size 0"
     ]
    }
   ],
   "source": [
    "TCloc,TClocxy,landlocxy = SHIPS_func.get_closest_land_xy(path,era5,basin[221],year[221],stormname[221],time_before_tcg[221])"
   ]
  },
  {
   "cell_type": "code",
   "execution_count": 10,
   "id": "98e55666-28ea-4af9-8c14-257f77a31a23",
   "metadata": {
    "scrolled": true
   },
   "outputs": [],
   "source": [
    "probTCs = []\n",
    "for num in (list(np.argwhere(np.isnan(np.asarray(distances))))):\n",
    "    probTCs.append((basin[int(num)],year[int(num)],stormname[int(num)],num))\n",
    "\n",
    "read_and_proc.save_to_pickle('./store/probTClist.pkl',probTCs)"
   ]
  },
  {
   "cell_type": "code",
   "execution_count": null,
   "id": "efe08bc9-74ac-4bb3-be18-fa29bf59db9d",
   "metadata": {},
   "outputs": [],
   "source": []
  }
 ],
 "metadata": {
  "kernelspec": {
   "display_name": "Python 3 (ipykernel)",
   "language": "python",
   "name": "python3"
  },
  "language_info": {
   "codemirror_mode": {
    "name": "ipython",
    "version": 3
   },
   "file_extension": ".py",
   "mimetype": "text/x-python",
   "name": "python",
   "nbconvert_exporter": "python",
   "pygments_lexer": "ipython3",
   "version": "3.9.16"
  }
 },
 "nbformat": 4,
 "nbformat_minor": 5
}
