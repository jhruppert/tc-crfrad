{
 "cells": [
  {
   "cell_type": "code",
   "execution_count": 1,
   "id": "1d92da5d-a2a8-483e-a053-6458df37dee8",
   "metadata": {},
   "outputs": [],
   "source": [
    "\"\"\"──────────────────────────────────────────────────────────────────────────┐\n",
    "│ Loading necessary libraries to build and train model                       │\n",
    "└──────────────────────────────────────────────────────────────────────────\"\"\"\n",
    "import warnings\n",
    "warnings.filterwarnings(\"ignore\", category=UserWarning)\n",
    "import os,sys,gc\n",
    "import numpy as np\n",
    "import pickle\n",
    "import proplot as plot\n",
    "import matplotlib.pyplot as plt\n",
    "from tqdm.auto import tqdm\n",
    "import pandas as pd\n",
    "import seaborn as sns\n",
    "import glob,gc\n",
    "from copy import deepcopy\n",
    "import ast\n",
    "from ibtracs import Ibtracs"
   ]
  },
  {
   "cell_type": "markdown",
   "id": "68ca8674-0ae2-42ce-ac90-7aade5d4fb3e",
   "metadata": {},
   "source": [
    "# List of Storms "
   ]
  },
  {
   "cell_type": "code",
   "execution_count": 2,
   "id": "605252fe-007b-4ad5-b13b-a040252ca787",
   "metadata": {
    "scrolled": true
   },
   "outputs": [],
   "source": [
    "finalstormlist = pd.read_csv('./store/stormlist.csv')"
   ]
  },
  {
   "cell_type": "code",
   "execution_count": 3,
   "id": "9be52867-9fb4-4837-90dd-01e49645fb66",
   "metadata": {},
   "outputs": [],
   "source": [
    "basin = [ast.literal_eval(obj)[1][:2] for obj in finalstormlist['id'].values]\n",
    "year  = [int(ast.literal_eval(obj)[0][-4:]) for obj in finalstormlist['id'].values]\n",
    "stormname = [obj.split('_')[1] for obj in finalstormlist['name'].values]\n",
    "time_before_tcg\t = [int(obj/6) for obj in finalstormlist['time_before_tcg'].values]"
   ]
  },
  {
   "cell_type": "code",
   "execution_count": 13,
   "id": "20257d75-2e61-4d0f-8568-08bc85b06a9f",
   "metadata": {},
   "outputs": [
    {
     "data": {
      "text/plain": [
       "[78]"
      ]
     },
     "execution_count": 13,
     "metadata": {},
     "output_type": "execute_result"
    }
   ],
   "source": [
    "[index for index,element in enumerate(stormname) if element == 'SON-TINH']"
   ]
  },
  {
   "cell_type": "code",
   "execution_count": 15,
   "id": "89737718-a06b-4998-828f-ef4ebd1f075f",
   "metadata": {},
   "outputs": [],
   "source": [
    "i=78\n",
    "basinz,yearz,stormnamez,timeindex = basin[i],year[i],stormname[i],time_before_tcg[i]"
   ]
  },
  {
   "cell_type": "code",
   "execution_count": 18,
   "id": "1d5a19b8-9d08-43f0-bdc3-e3651a66fc7a",
   "metadata": {
    "scrolled": true
   },
   "outputs": [
    {
     "data": {
      "application/json": {
       "ascii": false,
       "bar_format": null,
       "colour": null,
       "elapsed": 0.003939151763916016,
       "initial": 0,
       "n": 0,
       "ncols": null,
       "nrows": 48,
       "postfix": null,
       "prefix": "",
       "rate": null,
       "total": 263,
       "unit": "it",
       "unit_divisor": 1000,
       "unit_scale": false
      },
      "application/vnd.jupyter.widget-view+json": {
       "model_id": "7856d3fb9a6848368b9ca0f580775dae",
       "version_major": 2,
       "version_minor": 0
      },
      "text/plain": [
       "  0%|          | 0/263 [00:00<?, ?it/s]"
      ]
     },
     "metadata": {},
     "output_type": "display_data"
    },
    {
     "name": "stdout",
     "output_type": "stream",
     "text": [
      "[Errno 2] No such file or directory: '/work/FAC/FGSE/IDYST/tbeucler/default/saranya/causal/ts_notebooks/ships/frederick_TCG/WPAC_timeseries/tcpypi_6hr/2001/2001_tcpi_wpac_KROSA.csv'\n",
      "[Errno 2] No such file or directory: '/work/FAC/FGSE/IDYST/tbeucler/default/saranya/causal/ts_notebooks/ships/frederick_TCG/WPAC_timeseries/tcpypi_6hr/2001/2001_tcpi_wpac_LINGLING.csv'\n",
      "[Errno 2] No such file or directory: '/work/FAC/FGSE/IDYST/tbeucler/default/saranya/causal/ts_notebooks/ships/frederick_TCG/WPAC_timeseries/tcpypi_6hr/2001/2001_tcpi_wpac_TORAJI.csv'\n",
      "[Errno 2] No such file or directory: '/work/FAC/FGSE/IDYST/tbeucler/default/saranya/causal/ts_notebooks/ships/frederick_TCG/WPAC_timeseries/tcpypi_6hr/2001/2001_tcpi_wpac_DANAS.csv'\n",
      "[Errno 2] No such file or directory: '/work/FAC/FGSE/IDYST/tbeucler/default/saranya/causal/ts_notebooks/ships/frederick_TCG/WPAC_timeseries/tcpypi_6hr/2001/2001_tcpi_wpac_FAXAI.csv'\n",
      "[Errno 2] No such file or directory: '/work/FAC/FGSE/IDYST/tbeucler/default/saranya/causal/ts_notebooks/ships/frederick_TCG/WPAC_timeseries/tcpypi_6hr/2001/2001_tcpi_wpac_CHEBI.csv'\n",
      "[Errno 2] No such file or directory: '/work/FAC/FGSE/IDYST/tbeucler/default/saranya/causal/ts_notebooks/ships/frederick_TCG/WPAC_timeseries/tcpypi_6hr/2001/2001_tcpi_wpac_LEKIMA.csv'\n",
      "[Errno 2] No such file or directory: '/work/FAC/FGSE/IDYST/tbeucler/default/saranya/causal/ts_notebooks/ships/frederick_TCG/WPAC_timeseries/tcpypi_6hr/2001/2001_tcpi_wpac_PODUL.csv'\n",
      "[Errno 2] No such file or directory: '/work/FAC/FGSE/IDYST/tbeucler/default/saranya/causal/ts_notebooks/ships/frederick_TCG/WPAC_timeseries/tcpypi_6hr/2001/2001_tcpi_wpac_WUTIP.csv'\n",
      "[Errno 2] No such file or directory: '/work/FAC/FGSE/IDYST/tbeucler/default/saranya/causal/ts_notebooks/ships/frederick_TCG/WPAC_timeseries/tcpypi_6hr/2001/2001_tcpi_wpac_FRANCISCO.csv'\n",
      "[Errno 2] No such file or directory: '/work/FAC/FGSE/IDYST/tbeucler/default/saranya/causal/ts_notebooks/ships/frederick_TCG/WPAC_timeseries/tcpypi_6hr/2001/2001_tcpi_wpac_MAN-YI.csv'\n",
      "[Errno 2] No such file or directory: '/work/FAC/FGSE/IDYST/tbeucler/default/saranya/causal/ts_notebooks/ships/frederick_TCG/WPAC_timeseries/tcpypi_6hr/2012/2012_tcpi_wpac_GUCHOL.csv'\n",
      "[Errno 2] No such file or directory: '/work/FAC/FGSE/IDYST/tbeucler/default/saranya/causal/ts_notebooks/ships/frederick_TCG/WPAC_timeseries/tcpypi_6hr/2012/2012_tcpi_wpac_BOPHA.csv'\n",
      "[Errno 2] No such file or directory: '/work/FAC/FGSE/IDYST/tbeucler/default/saranya/causal/ts_notebooks/ships/frederick_TCG/WPAC_timeseries/tcpypi_6hr/2014/2014_tcpi_wpac_HAGUPIT.csv'\n",
      "[Errno 2] No such file or directory: '/work/FAC/FGSE/IDYST/tbeucler/default/saranya/causal/ts_notebooks/ships/frederick_TCG/WPAC_timeseries/tcpypi_6hr/2016/2016_tcpi_wpac_CHABA.csv'\n",
      "[Errno 2] No such file or directory: '/work/FAC/FGSE/IDYST/tbeucler/default/saranya/causal/ts_notebooks/ships/frederick_TCG/WPAC_timeseries/tcpypi_6hr/2019/2019_tcpi_wpac_PHANFONE.csv'\n",
      "[Errno 2] No such file or directory: '/work/FAC/FGSE/IDYST/tbeucler/default/saranya/causal/ts_notebooks/ships/frederick_TCG/EPAC_timeseries/tcpypi_6hr/2002/2002_tcpi_epac_KENNA.csv'\n",
      "[Errno 2] No such file or directory: '/work/FAC/FGSE/IDYST/tbeucler/default/saranya/causal/ts_notebooks/ships/frederick_TCG/EPAC_timeseries/tcpypi_6hr/2006/2006_tcpi_epac_LANE.csv'\n",
      "[Errno 2] No such file or directory: '/work/FAC/FGSE/IDYST/tbeucler/default/saranya/causal/ts_notebooks/ships/frederick_TCG/EPAC_timeseries/tcpypi_6hr/2012/2012_tcpi_epac_CARLOTTA.csv'\n",
      "[Errno 2] No such file or directory: '/work/FAC/FGSE/IDYST/tbeucler/default/saranya/causal/ts_notebooks/ships/frederick_TCG/NATL_timeseries/tcpypi_6hr/2010/2010_tcpi_6hr_natl_KARL.csv'\n"
     ]
    }
   ],
   "source": [
    "empi = []\n",
    "for i in tqdm(range(len(year))):\n",
    "    basinz,yearz,stormnamez,timeindex = basin[i],year[i],stormname[i],time_before_tcg[i]\n",
    "    try:\n",
    "        if basinz=='WP':\n",
    "            prefix = '/work/FAC/FGSE/IDYST/tbeucler/default/saranya/causal/ts_notebooks/ships/frederick_TCG/WPAC_timeseries/tcpypi_6hr/'\n",
    "            periodvalues = pd.read_csv(prefix+f'{yearz}/{yearz}_tcpi_wpac_{stormnamez}.csv')['vmax'][:timeindex]\n",
    "            empi.append(periodvalues.mean())\n",
    "            del prefix\n",
    "            gc.collect()\n",
    "        elif basinz=='EP':\n",
    "            prefix = '/work/FAC/FGSE/IDYST/tbeucler/default/saranya/causal/ts_notebooks/ships/frederick_TCG/EPAC_timeseries/tcpypi_6hr/'\n",
    "            periodvalues = pd.read_csv(prefix+f'{yearz}/{yearz}_tcpi_epac_{stormnamez}.csv')['vmax'][:timeindex]\n",
    "            empi.append(periodvalues.mean())\n",
    "            del prefix\n",
    "            gc.collect()\n",
    "        elif basinz=='AL':\n",
    "            prefix = '/work/FAC/FGSE/IDYST/tbeucler/default/saranya/causal/ts_notebooks/ships/frederick_TCG/NATL_timeseries/tcpypi_6hr/'\n",
    "            periodvalues = pd.read_csv(prefix+f'{yearz}/{yearz}_tcpi_6hr_natl_{stormnamez}.csv')['vmax'][:timeindex]\n",
    "            empi.append(periodvalues.mean())\n",
    "            del prefix\n",
    "            gc.collect()\n",
    "    except Exception as text:\n",
    "        print(text)\n",
    "        empi.append(np.nan)\n",
    "        continue"
   ]
  },
  {
   "cell_type": "code",
   "execution_count": 19,
   "id": "f5793d55-f38f-4fb4-bfe8-27ef7f3b64e9",
   "metadata": {},
   "outputs": [],
   "source": [
    "finalstormlist['E_MPI'] = empi"
   ]
  },
  {
   "cell_type": "code",
   "execution_count": 20,
   "id": "665f5c88-d90b-4b56-822d-f6b1093b68b3",
   "metadata": {},
   "outputs": [],
   "source": [
    "finallist = finalstormlist.drop(columns=['Unnamed: 0', 'level_0'])"
   ]
  },
  {
   "cell_type": "code",
   "execution_count": 22,
   "id": "61a7cea1-1cf3-4a0d-b54f-825a96872e4b",
   "metadata": {},
   "outputs": [],
   "source": [
    "finallist.to_csv('./store/stormlist_withMPI.csv')"
   ]
  },
  {
   "cell_type": "code",
   "execution_count": null,
   "id": "73c1bf00-ec5b-4b91-a693-030cd2a4709e",
   "metadata": {},
   "outputs": [],
   "source": []
  }
 ],
 "metadata": {
  "kernelspec": {
   "display_name": "Python 3 (ipykernel)",
   "language": "python",
   "name": "python3"
  },
  "language_info": {
   "codemirror_mode": {
    "name": "ipython",
    "version": 3
   },
   "file_extension": ".py",
   "mimetype": "text/x-python",
   "name": "python",
   "nbconvert_exporter": "python",
   "pygments_lexer": "ipython3",
   "version": "3.9.16"
  }
 },
 "nbformat": 4,
 "nbformat_minor": 5
}
