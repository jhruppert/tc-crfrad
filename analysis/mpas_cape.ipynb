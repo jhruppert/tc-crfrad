{
 "cells": [
  {
   "cell_type": "markdown",
   "metadata": {},
   "source": [
    "Notebook to calculate CAPE using Daniel Gilford's CAPE code for Rosi's MPAS aquaplanet grid. Outputs in Zarr format per time step for entire grid.\n",
    "\n",
    "James Ruppert  \n",
    "9/1/2025"
   ]
  },
  {
   "cell_type": "markdown",
   "metadata": {},
   "source": [
    "### Main settings"
   ]
  },
  {
   "cell_type": "code",
   "execution_count": 1,
   "metadata": {},
   "outputs": [],
   "source": [
    "from numba import njit, prange\n",
    "import pyPI_main\n",
    "import numpy as np\n",
    "import pickle\n",
    "import xarray as xr\n",
    "# from precip_class_mpas import *\n",
    "import os, shutil\n",
    "# import matplotlib.pyplot as plt\n",
    "# from matplotlib import colors\n",
    "# import cartopy.crs as ccrs"
   ]
  },
  {
   "cell_type": "code",
   "execution_count": 2,
   "metadata": {},
   "outputs": [],
   "source": [
    "do_write = True\n",
    "# do_write = False\n",
    "\n",
    "pclass_names = ['DC', 'CG', 'SC', 'ST', 'AN', 'DSA']\n",
    "nclass = len(pclass_names)\n",
    "exp_names = [\"CTL\", \"HOMO_RAD\", \"CLIM_RAD\"]\n",
    "expName=exp_names[0]\n",
    "\n",
    "pickle_dir = f\"/glade/derecho/scratch/ruppert/tc-crfrad/pickle_out\"\n",
    "# pickle_dir = f\"../../../pickle_out/aquaplanet\"\n",
    "\n",
    "# Get list of desired file times\n",
    "file_times_arr = np.arange('2000-05-01T06:00:00', '2000-05-11T06:00:00', 6, dtype='datetime64[h]')\n",
    "file_times = [file_times_arr[i].astype('datetime64[D]').astype(str)+'_'+str(file_times_arr[i]).split('T')[1].split(':')[0]+'.00.00' for i in range(len(file_times_arr))]\n",
    "ntimes = len(file_times)"
   ]
  },
  {
   "cell_type": "markdown",
   "metadata": {},
   "source": [
    "#### Start cluster and scale it up"
   ]
  },
  {
   "cell_type": "code",
   "execution_count": 3,
   "metadata": {},
   "outputs": [
    {
     "name": "stdout",
     "output_type": "stream",
     "text": [
      "#!/usr/bin/env bash\n",
      "\n",
      "#PBS -N dask-wk23-hpc\n",
      "#PBS -q casper\n",
      "#PBS -A UOKL0049\n",
      "#PBS -l select=1:ncpus=1:mem=10GB\n",
      "#PBS -l walltime=12:00:00\n",
      "#PBS -e /glade/derecho/scratch/ruppert/dask//\n",
      "#PBS -o /glade/derecho/scratch/ruppert/dask//\n",
      "\n",
      "/glade/work/ruppert/conda-envs/plotting/bin/python -m distributed.cli.dask_worker tcp://128.117.211.222:38637 --name dummy-name --nthreads 1 --memory-limit 10.00GiB --nanny --death-timeout 60 --local-directory /glade/derecho/scratch/ruppert/dask/ --interface ext\n",
      "\n"
     ]
    }
   ],
   "source": [
    "# from ncar_jobqueue import NCARCluster\n",
    "# cluster = PBSCluster()\n",
    "# cluster.scale(4 * 9) # Ask for 4 x 9 workers\n",
    "# cluster\n",
    "\n",
    "from dask_jobqueue import PBSCluster\n",
    "# Create a PBS cluster object\n",
    "# cluster = PBSCluster(\n",
    "#     job_name = 'dask-wk23-hpc',\n",
    "#     cores = 1,\n",
    "#     processes = 1,\n",
    "#     log_directory = '/glade/derecho/scratch/rberrios/dask/',\n",
    "#     local_directory = '/glade/derecho/scratch/rberrios/dask/',\n",
    "#     resource_spec = 'select=1:ncpus=1:mem=10GB',\n",
    "#     queue = 'casper',\n",
    "#     walltime = '12:00:00',\n",
    "#     interface = 'mgt'\n",
    "# )\n",
    "cluster = PBSCluster(\n",
    "    job_name = 'dask-wk23-hpc',\n",
    "    cores = 1,\n",
    "    processes = 1,\n",
    "    memory = '10GiB',\n",
    "    account = 'UOKL0049',\n",
    "    log_directory = '/glade/derecho/scratch/ruppert/dask/',\n",
    "    local_directory = '/glade/derecho/scratch/ruppert/dask/',\n",
    "    resource_spec = 'select=1:ncpus=1:mem=10GB',\n",
    "    queue = 'casper',\n",
    "    # queue = 'main',\n",
    "    walltime = '12:00:00',\n",
    "    interface = 'ext'\n",
    ")\n",
    "print(cluster.job_script())"
   ]
  },
  {
   "cell_type": "code",
   "execution_count": 4,
   "metadata": {},
   "outputs": [
    {
     "data": {
      "text/html": [
       "<div>\n",
       "    <div style=\"width: 24px; height: 24px; background-color: #e1e1e1; border: 3px solid #9D9D9D; border-radius: 5px; position: absolute;\"> </div>\n",
       "    <div style=\"margin-left: 48px;\">\n",
       "        <h3 style=\"margin-bottom: 0px;\">Client</h3>\n",
       "        <p style=\"color: #9D9D9D; margin-bottom: 0px;\">Client-7552bb83-91ca-11f0-91b6-ac1f6bc7cc7e</p>\n",
       "        <table style=\"width: 100%; text-align: left;\">\n",
       "\n",
       "        <tr>\n",
       "        \n",
       "            <td style=\"text-align: left;\"><strong>Connection method:</strong> Cluster object</td>\n",
       "            <td style=\"text-align: left;\"><strong>Cluster type:</strong> dask_jobqueue.PBSCluster</td>\n",
       "        \n",
       "        </tr>\n",
       "\n",
       "        \n",
       "            <tr>\n",
       "                <td style=\"text-align: left;\">\n",
       "                    <strong>Dashboard: </strong> <a href=\"http://128.117.211.222:8787/status\" target=\"_blank\">http://128.117.211.222:8787/status</a>\n",
       "                </td>\n",
       "                <td style=\"text-align: left;\"></td>\n",
       "            </tr>\n",
       "        \n",
       "\n",
       "        </table>\n",
       "\n",
       "        \n",
       "\n",
       "        \n",
       "            <details>\n",
       "            <summary style=\"margin-bottom: 20px;\"><h3 style=\"display: inline;\">Cluster Info</h3></summary>\n",
       "            <div class=\"jp-RenderedHTMLCommon jp-RenderedHTML jp-mod-trusted jp-OutputArea-output\">\n",
       "    <div style=\"width: 24px; height: 24px; background-color: #e1e1e1; border: 3px solid #9D9D9D; border-radius: 5px; position: absolute;\">\n",
       "    </div>\n",
       "    <div style=\"margin-left: 48px;\">\n",
       "        <h3 style=\"margin-bottom: 0px; margin-top: 0px;\">PBSCluster</h3>\n",
       "        <p style=\"color: #9D9D9D; margin-bottom: 0px;\">aa9e8d53</p>\n",
       "        <table style=\"width: 100%; text-align: left;\">\n",
       "            <tr>\n",
       "                <td style=\"text-align: left;\">\n",
       "                    <strong>Dashboard:</strong> <a href=\"http://128.117.211.222:8787/status\" target=\"_blank\">http://128.117.211.222:8787/status</a>\n",
       "                </td>\n",
       "                <td style=\"text-align: left;\">\n",
       "                    <strong>Workers:</strong> 0\n",
       "                </td>\n",
       "            </tr>\n",
       "            <tr>\n",
       "                <td style=\"text-align: left;\">\n",
       "                    <strong>Total threads:</strong> 0\n",
       "                </td>\n",
       "                <td style=\"text-align: left;\">\n",
       "                    <strong>Total memory:</strong> 0 B\n",
       "                </td>\n",
       "            </tr>\n",
       "            \n",
       "        </table>\n",
       "\n",
       "        <details>\n",
       "            <summary style=\"margin-bottom: 20px;\">\n",
       "                <h3 style=\"display: inline;\">Scheduler Info</h3>\n",
       "            </summary>\n",
       "\n",
       "            <div style=\"\">\n",
       "    <div>\n",
       "        <div style=\"width: 24px; height: 24px; background-color: #FFF7E5; border: 3px solid #FF6132; border-radius: 5px; position: absolute;\"> </div>\n",
       "        <div style=\"margin-left: 48px;\">\n",
       "            <h3 style=\"margin-bottom: 0px;\">Scheduler</h3>\n",
       "            <p style=\"color: #9D9D9D; margin-bottom: 0px;\">Scheduler-2a762969-02c2-4ae0-836b-6e41ef9a9047</p>\n",
       "            <table style=\"width: 100%; text-align: left;\">\n",
       "                <tr>\n",
       "                    <td style=\"text-align: left;\">\n",
       "                        <strong>Comm:</strong> tcp://128.117.211.222:38637\n",
       "                    </td>\n",
       "                    <td style=\"text-align: left;\">\n",
       "                        <strong>Workers:</strong> 0\n",
       "                    </td>\n",
       "                </tr>\n",
       "                <tr>\n",
       "                    <td style=\"text-align: left;\">\n",
       "                        <strong>Dashboard:</strong> <a href=\"http://128.117.211.222:8787/status\" target=\"_blank\">http://128.117.211.222:8787/status</a>\n",
       "                    </td>\n",
       "                    <td style=\"text-align: left;\">\n",
       "                        <strong>Total threads:</strong> 0\n",
       "                    </td>\n",
       "                </tr>\n",
       "                <tr>\n",
       "                    <td style=\"text-align: left;\">\n",
       "                        <strong>Started:</strong> Just now\n",
       "                    </td>\n",
       "                    <td style=\"text-align: left;\">\n",
       "                        <strong>Total memory:</strong> 0 B\n",
       "                    </td>\n",
       "                </tr>\n",
       "            </table>\n",
       "        </div>\n",
       "    </div>\n",
       "\n",
       "    <details style=\"margin-left: 48px;\">\n",
       "        <summary style=\"margin-bottom: 20px;\">\n",
       "            <h3 style=\"display: inline;\">Workers</h3>\n",
       "        </summary>\n",
       "\n",
       "        \n",
       "\n",
       "    </details>\n",
       "</div>\n",
       "\n",
       "        </details>\n",
       "    </div>\n",
       "</div>\n",
       "            </details>\n",
       "        \n",
       "\n",
       "    </div>\n",
       "</div>"
      ],
      "text/plain": [
       "<Client: 'tcp://128.117.211.222:38637' processes=0 threads=0, memory=0 B>"
      ]
     },
     "execution_count": 4,
     "metadata": {},
     "output_type": "execute_result"
    }
   ],
   "source": [
    "from dask.distributed import Client\n",
    "client = Client(cluster) # Connect this local process to remote workers\n",
    "client"
   ]
  },
  {
   "cell_type": "code",
   "execution_count": 5,
   "metadata": {},
   "outputs": [],
   "source": [
    "# Scale the cluster to n workers (which will use n jobs here)\n",
    "ncpu = 36\n",
    "# ncpu = 24\n",
    "# ncpu = 10\n",
    "# ncpu = 18\n",
    "cluster.scale(ncpu)\n",
    "\n",
    "# Block progress until workers have spawned (typically only in demos and benchmarks!)\n",
    "client.wait_for_workers(ncpu)"
   ]
  },
  {
   "cell_type": "markdown",
   "metadata": {},
   "source": [
    "### Read/Write variable from MPAS output"
   ]
  },
  {
   "cell_type": "code",
   "execution_count": 6,
   "metadata": {},
   "outputs": [],
   "source": [
    "# Read grid data\n",
    "do_write_grid = False\n",
    "grid_pickle_file = f\"{pickle_dir}/grid_data.pickle\"\n",
    "if do_write_grid:\n",
    "    import xarray as xr\n",
    "    grid_path = \"/glade/work/rberrios/MPAS/aqua_sstmax10N_ASD/plus4K/TC_3km/x5.tropical_3km_10N.init.nc\"\n",
    "    grid = xr.open_dataset(grid_path)\n",
    "    areaCell = grid.areaCell\n",
    "    latCell = np.degrees(grid.latCell)\n",
    "    lonCell = np.degrees(grid.lonCell)\n",
    "    with open(grid_pickle_file, 'wb') as f:\n",
    "        pickle.dump([areaCell, latCell, lonCell], f)\n",
    "else:\n",
    "    with open(grid_pickle_file, 'rb') as f:\n",
    "        areaCell, latCell, lonCell = pickle.load(f)"
   ]
  },
  {
   "cell_type": "markdown",
   "metadata": {},
   "source": [
    "#### CAPE/CIN function"
   ]
  },
  {
   "cell_type": "code",
   "execution_count": 7,
   "metadata": {},
   "outputs": [],
   "source": [
    "def tmpk_from_theta(theta, pres):\n",
    "    # theta in K, pres in Pa\n",
    "    rd=287.04 # J/K/kg\n",
    "    cp=1004. # J/K/kg\n",
    "    rocp = rd/cp\n",
    "    return theta * ( 1e5 / pres ) ** (-rocp)\n",
    "\n",
    "\"\"\"\n",
    "    Args:\n",
    "        TP (float): Parcel temperature (K)\n",
    "        RP (float): Parcel mixing ratio (gram/gram)\n",
    "        PP (float): Parcel pressure (hPa)\n",
    "        T (array): Environmental temperature profile (K)\n",
    "        R (array): Environmental mixing ratio profile (gram/gram)\n",
    "        P (array): Environmental pressure profile (hPa)\n",
    "            The arrays MUST be arranged so that the lowest index corresponds\n",
    "            to the lowest model level, with increasing index corresponding to\n",
    "            decreasing pressure.\n",
    "    Returns:\n",
    "        tuple: (CAPED, TOB, LNB, IFLAG) where:\n",
    "            - CAPED (float): Convective Available Potential Energy (J/kg)\n",
    "            - TOB (float): Temperature at level of neutral buoyancy (K)\n",
    "            - LNB (float): Level of neutral buoyancy pressure (hPa)\n",
    "            - IFLAG (int): Status flag where:\n",
    "                1 = Success\n",
    "                0 = Improper sounding/parcel\n",
    "                2 = Did not converge\n",
    "                3 = Missing values in input profile\n",
    "\"\"\"\n",
    "\n",
    "@njit(parallel=True)\n",
    "def cape_driver(T, q, p):\n",
    "\n",
    "    ncol = T.shape[0]\n",
    "    cape_out = np.empty(ncol, dtype=np.float64)\n",
    "    cin_out  = np.empty(ncol, dtype=np.float64)\n",
    "\n",
    "    for i in prange(ncol):\n",
    "    # for i in range(ncol):\n",
    "        (CAPE,CIN,TOB,LNB,IFLAG)=pyPI_main.cape(T[i,0],q[i,0],p[i,0]*1e-2,\n",
    "                                                T[i,:],q[i,:],p[i,:]*1e-2,\n",
    "                                                ascent_flag=0,ptop=50,miss_handle=0)\n",
    "        cape_out[i] = CAPE\n",
    "        cin_out[i]  = CIN\n",
    "    return cape_out, cin_out\n",
    "\n",
    "def cape_wrapper(T, q, p):\n",
    "    # expects numpy arrays (Dask will pass chunks as np)\n",
    "    return cape_driver(T, q, p)"
   ]
  },
  {
   "cell_type": "markdown",
   "metadata": {},
   "source": [
    "#### Time loop"
   ]
  },
  {
   "cell_type": "code",
   "execution_count": 8,
   "metadata": {},
   "outputs": [
    {
     "name": "stdout",
     "output_type": "stream",
     "text": [
      "/glade/derecho/scratch/ruppert/tc-crfrad/mpas/CTL/CAPE_2000-05-01_06.00.00.zarr exists, skipping...\n",
      "/glade/derecho/scratch/ruppert/tc-crfrad/mpas/CTL/CAPE_2000-05-01_12.00.00.zarr exists, skipping...\n",
      "/glade/derecho/scratch/ruppert/tc-crfrad/mpas/CTL/CAPE_2000-05-01_18.00.00.zarr exists, skipping...\n",
      "/glade/derecho/scratch/ruppert/tc-crfrad/mpas/CTL/CAPE_2000-05-02_00.00.00.zarr exists, skipping...\n",
      "/glade/derecho/scratch/ruppert/tc-crfrad/mpas/CTL/CAPE_2000-05-02_06.00.00.zarr exists, skipping...\n",
      "/glade/derecho/scratch/ruppert/tc-crfrad/mpas/CTL/CAPE_2000-05-02_12.00.00.zarr exists, skipping...\n",
      "/glade/derecho/scratch/ruppert/tc-crfrad/mpas/CTL/CAPE_2000-05-02_18.00.00.zarr exists, skipping...\n",
      "/glade/derecho/scratch/ruppert/tc-crfrad/mpas/CTL/CAPE_2000-05-03_00.00.00.zarr exists, skipping...\n",
      "/glade/derecho/scratch/ruppert/tc-crfrad/mpas/CTL/CAPE_2000-05-03_06.00.00.zarr exists, skipping...\n",
      "/glade/derecho/scratch/ruppert/tc-crfrad/mpas/CTL/CAPE_2000-05-03_12.00.00.zarr exists, skipping...\n",
      "/glade/derecho/scratch/ruppert/tc-crfrad/mpas/CTL/CAPE_2000-05-03_18.00.00.zarr exists, skipping...\n",
      "/glade/derecho/scratch/ruppert/tc-crfrad/mpas/CTL/CAPE_2000-05-04_00.00.00.zarr exists, skipping...\n",
      "/glade/derecho/scratch/ruppert/tc-crfrad/mpas/CTL/CAPE_2000-05-04_06.00.00.zarr exists, skipping...\n",
      "/glade/derecho/scratch/ruppert/tc-crfrad/mpas/CTL/CAPE_2000-05-04_12.00.00.zarr exists, skipping...\n",
      "/glade/derecho/scratch/ruppert/tc-crfrad/mpas/CTL/CAPE_2000-05-04_18.00.00.zarr exists, skipping...\n",
      "/glade/derecho/scratch/ruppert/tc-crfrad/mpas/CTL/CAPE_2000-05-05_00.00.00.zarr exists, skipping...\n",
      "/glade/derecho/scratch/ruppert/tc-crfrad/mpas/CTL/CAPE_2000-05-05_06.00.00.zarr exists, skipping...\n",
      "/glade/derecho/scratch/ruppert/tc-crfrad/mpas/CTL/CAPE_2000-05-05_12.00.00.zarr exists, skipping...\n",
      "/glade/derecho/scratch/ruppert/tc-crfrad/mpas/CTL/CAPE_2000-05-05_18.00.00.zarr exists, skipping...\n",
      "/glade/derecho/scratch/ruppert/tc-crfrad/mpas/CTL/CAPE_2000-05-06_00.00.00.zarr exists, skipping...\n",
      "/glade/derecho/scratch/ruppert/tc-crfrad/mpas/CTL/CAPE_2000-05-06_06.00.00.zarr exists, skipping...\n",
      "/glade/derecho/scratch/ruppert/tc-crfrad/mpas/CTL/CAPE_2000-05-06_12.00.00.zarr exists, skipping...\n",
      "/glade/derecho/scratch/ruppert/tc-crfrad/mpas/CTL/CAPE_2000-05-06_18.00.00.zarr exists, skipping...\n",
      "/glade/derecho/scratch/ruppert/tc-crfrad/mpas/CTL/CAPE_2000-05-07_00.00.00.zarr exists, skipping...\n",
      "/glade/derecho/scratch/ruppert/tc-crfrad/mpas/CTL/CAPE_2000-05-07_06.00.00.zarr exists, skipping...\n",
      "/glade/derecho/scratch/ruppert/tc-crfrad/mpas/CTL/CAPE_2000-05-07_12.00.00.zarr exists, skipping...\n",
      "/glade/derecho/scratch/ruppert/tc-crfrad/mpas/CTL/CAPE_2000-05-07_18.00.00.zarr exists, skipping...\n",
      "/glade/derecho/scratch/ruppert/tc-crfrad/mpas/CTL/CAPE_2000-05-08_00.00.00.zarr exists, skipping...\n",
      "/glade/derecho/scratch/ruppert/tc-crfrad/mpas/CTL/CAPE_2000-05-08_06.00.00.zarr exists, skipping...\n",
      "/glade/derecho/scratch/ruppert/tc-crfrad/mpas/CTL/CAPE_2000-05-08_12.00.00.zarr exists, skipping...\n",
      "/glade/derecho/scratch/ruppert/tc-crfrad/mpas/CTL/CAPE_2000-05-08_18.00.00.zarr exists, skipping...\n",
      "/glade/derecho/scratch/ruppert/tc-crfrad/mpas/CTL/CAPE_2000-05-09_00.00.00.zarr exists, skipping...\n",
      "/glade/derecho/scratch/ruppert/tc-crfrad/mpas/CTL/CAPE_2000-05-09_06.00.00.zarr exists, skipping...\n",
      "/glade/derecho/scratch/ruppert/tc-crfrad/mpas/CTL/CAPE_2000-05-09_12.00.00.zarr exists, skipping...\n",
      "/glade/derecho/scratch/ruppert/tc-crfrad/mpas/CTL/CAPE_2000-05-09_18.00.00.zarr exists, skipping...\n",
      "/glade/derecho/scratch/ruppert/tc-crfrad/mpas/CTL/CAPE_2000-05-10_00.00.00.zarr exists, skipping...\n",
      "/glade/derecho/scratch/ruppert/tc-crfrad/mpas/CTL/CAPE_2000-05-10_06.00.00.zarr exists, skipping...\n",
      "/glade/derecho/scratch/ruppert/tc-crfrad/mpas/CTL/CAPE_2000-05-10_12.00.00.zarr exists, skipping...\n",
      "/glade/derecho/scratch/ruppert/tc-crfrad/mpas/CTL/CAPE_2000-05-10_18.00.00.zarr exists, skipping...\n",
      "/glade/derecho/scratch/ruppert/tc-crfrad/mpas/CTL/CAPE_2000-05-11_00.00.00.zarr exists, skipping...\n"
     ]
    },
    {
     "name": "stderr",
     "output_type": "stream",
     "text": [
      "/glade/work/ruppert/conda-envs/plotting/lib/python3.11/site-packages/zarr/core/group.py:2566: ZarrUserWarning: The `compressor` argument is deprecated. Use `compressors` instead.\n",
      "  compressors = _parse_deprecated_compressor(\n",
      "/glade/work/ruppert/conda-envs/plotting/lib/python3.11/site-packages/zarr/api/asynchronous.py:233: ZarrUserWarning: Consolidated metadata is currently not part in the Zarr format 3 specification. It may not be supported by other zarr implementations and may change in the future.\n",
      "  warnings.warn(\n",
      "/glade/work/ruppert/conda-envs/plotting/lib/python3.11/site-packages/distributed/client.py:3371: UserWarning: Sending large graph of size 19.78 MiB.\n",
      "This may cause some slowdown.\n",
      "Consider loading the data with Dask directly\n",
      " or using futures or delayed objects to embed the data into the graph without repetition.\n",
      "See also https://docs.dask.org/en/stable/best-practices.html#load-data-with-dask for more information.\n",
      "  warnings.warn(\n"
     ]
    },
    {
     "name": "stdout",
     "output_type": "stream",
     "text": [
      "Done writing /glade/derecho/scratch/ruppert/tc-crfrad/mpas/HOMO_RAD/CAPE_2000-05-01_06.00.00.zarr!\n"
     ]
    },
    {
     "name": "stderr",
     "output_type": "stream",
     "text": [
      "/glade/work/ruppert/conda-envs/plotting/lib/python3.11/site-packages/zarr/core/group.py:2566: ZarrUserWarning: The `compressor` argument is deprecated. Use `compressors` instead.\n",
      "  compressors = _parse_deprecated_compressor(\n",
      "/glade/work/ruppert/conda-envs/plotting/lib/python3.11/site-packages/zarr/api/asynchronous.py:233: ZarrUserWarning: Consolidated metadata is currently not part in the Zarr format 3 specification. It may not be supported by other zarr implementations and may change in the future.\n",
      "  warnings.warn(\n",
      "/glade/work/ruppert/conda-envs/plotting/lib/python3.11/site-packages/distributed/client.py:3371: UserWarning: Sending large graph of size 19.78 MiB.\n",
      "This may cause some slowdown.\n",
      "Consider loading the data with Dask directly\n",
      " or using futures or delayed objects to embed the data into the graph without repetition.\n",
      "See also https://docs.dask.org/en/stable/best-practices.html#load-data-with-dask for more information.\n",
      "  warnings.warn(\n"
     ]
    },
    {
     "name": "stdout",
     "output_type": "stream",
     "text": [
      "Done writing /glade/derecho/scratch/ruppert/tc-crfrad/mpas/HOMO_RAD/CAPE_2000-05-01_12.00.00.zarr!\n"
     ]
    },
    {
     "name": "stderr",
     "output_type": "stream",
     "text": [
      "/glade/work/ruppert/conda-envs/plotting/lib/python3.11/site-packages/zarr/core/group.py:2566: ZarrUserWarning: The `compressor` argument is deprecated. Use `compressors` instead.\n",
      "  compressors = _parse_deprecated_compressor(\n",
      "/glade/work/ruppert/conda-envs/plotting/lib/python3.11/site-packages/zarr/api/asynchronous.py:233: ZarrUserWarning: Consolidated metadata is currently not part in the Zarr format 3 specification. It may not be supported by other zarr implementations and may change in the future.\n",
      "  warnings.warn(\n",
      "/glade/work/ruppert/conda-envs/plotting/lib/python3.11/site-packages/distributed/client.py:3371: UserWarning: Sending large graph of size 19.78 MiB.\n",
      "This may cause some slowdown.\n",
      "Consider loading the data with Dask directly\n",
      " or using futures or delayed objects to embed the data into the graph without repetition.\n",
      "See also https://docs.dask.org/en/stable/best-practices.html#load-data-with-dask for more information.\n",
      "  warnings.warn(\n"
     ]
    },
    {
     "name": "stdout",
     "output_type": "stream",
     "text": [
      "Done writing /glade/derecho/scratch/ruppert/tc-crfrad/mpas/HOMO_RAD/CAPE_2000-05-01_18.00.00.zarr!\n"
     ]
    },
    {
     "name": "stderr",
     "output_type": "stream",
     "text": [
      "/glade/work/ruppert/conda-envs/plotting/lib/python3.11/site-packages/zarr/core/group.py:2566: ZarrUserWarning: The `compressor` argument is deprecated. Use `compressors` instead.\n",
      "  compressors = _parse_deprecated_compressor(\n",
      "/glade/work/ruppert/conda-envs/plotting/lib/python3.11/site-packages/zarr/api/asynchronous.py:233: ZarrUserWarning: Consolidated metadata is currently not part in the Zarr format 3 specification. It may not be supported by other zarr implementations and may change in the future.\n",
      "  warnings.warn(\n",
      "/glade/work/ruppert/conda-envs/plotting/lib/python3.11/site-packages/distributed/client.py:3371: UserWarning: Sending large graph of size 19.78 MiB.\n",
      "This may cause some slowdown.\n",
      "Consider loading the data with Dask directly\n",
      " or using futures or delayed objects to embed the data into the graph without repetition.\n",
      "See also https://docs.dask.org/en/stable/best-practices.html#load-data-with-dask for more information.\n",
      "  warnings.warn(\n"
     ]
    },
    {
     "name": "stdout",
     "output_type": "stream",
     "text": [
      "Done writing /glade/derecho/scratch/ruppert/tc-crfrad/mpas/HOMO_RAD/CAPE_2000-05-02_00.00.00.zarr!\n"
     ]
    },
    {
     "name": "stderr",
     "output_type": "stream",
     "text": [
      "/glade/work/ruppert/conda-envs/plotting/lib/python3.11/site-packages/zarr/core/group.py:2566: ZarrUserWarning: The `compressor` argument is deprecated. Use `compressors` instead.\n",
      "  compressors = _parse_deprecated_compressor(\n",
      "/glade/work/ruppert/conda-envs/plotting/lib/python3.11/site-packages/zarr/api/asynchronous.py:233: ZarrUserWarning: Consolidated metadata is currently not part in the Zarr format 3 specification. It may not be supported by other zarr implementations and may change in the future.\n",
      "  warnings.warn(\n",
      "/glade/work/ruppert/conda-envs/plotting/lib/python3.11/site-packages/distributed/client.py:3371: UserWarning: Sending large graph of size 19.78 MiB.\n",
      "This may cause some slowdown.\n",
      "Consider loading the data with Dask directly\n",
      " or using futures or delayed objects to embed the data into the graph without repetition.\n",
      "See also https://docs.dask.org/en/stable/best-practices.html#load-data-with-dask for more information.\n",
      "  warnings.warn(\n"
     ]
    },
    {
     "name": "stdout",
     "output_type": "stream",
     "text": [
      "Done writing /glade/derecho/scratch/ruppert/tc-crfrad/mpas/HOMO_RAD/CAPE_2000-05-02_06.00.00.zarr!\n"
     ]
    },
    {
     "name": "stderr",
     "output_type": "stream",
     "text": [
      "/glade/work/ruppert/conda-envs/plotting/lib/python3.11/site-packages/zarr/core/group.py:2566: ZarrUserWarning: The `compressor` argument is deprecated. Use `compressors` instead.\n",
      "  compressors = _parse_deprecated_compressor(\n",
      "/glade/work/ruppert/conda-envs/plotting/lib/python3.11/site-packages/zarr/api/asynchronous.py:233: ZarrUserWarning: Consolidated metadata is currently not part in the Zarr format 3 specification. It may not be supported by other zarr implementations and may change in the future.\n",
      "  warnings.warn(\n",
      "/glade/work/ruppert/conda-envs/plotting/lib/python3.11/site-packages/distributed/client.py:3371: UserWarning: Sending large graph of size 19.78 MiB.\n",
      "This may cause some slowdown.\n",
      "Consider loading the data with Dask directly\n",
      " or using futures or delayed objects to embed the data into the graph without repetition.\n",
      "See also https://docs.dask.org/en/stable/best-practices.html#load-data-with-dask for more information.\n",
      "  warnings.warn(\n"
     ]
    },
    {
     "name": "stdout",
     "output_type": "stream",
     "text": [
      "Done writing /glade/derecho/scratch/ruppert/tc-crfrad/mpas/HOMO_RAD/CAPE_2000-05-02_12.00.00.zarr!\n"
     ]
    },
    {
     "name": "stderr",
     "output_type": "stream",
     "text": [
      "/glade/work/ruppert/conda-envs/plotting/lib/python3.11/site-packages/zarr/core/group.py:2566: ZarrUserWarning: The `compressor` argument is deprecated. Use `compressors` instead.\n",
      "  compressors = _parse_deprecated_compressor(\n",
      "/glade/work/ruppert/conda-envs/plotting/lib/python3.11/site-packages/zarr/api/asynchronous.py:233: ZarrUserWarning: Consolidated metadata is currently not part in the Zarr format 3 specification. It may not be supported by other zarr implementations and may change in the future.\n",
      "  warnings.warn(\n",
      "/glade/work/ruppert/conda-envs/plotting/lib/python3.11/site-packages/distributed/client.py:3371: UserWarning: Sending large graph of size 19.78 MiB.\n",
      "This may cause some slowdown.\n",
      "Consider loading the data with Dask directly\n",
      " or using futures or delayed objects to embed the data into the graph without repetition.\n",
      "See also https://docs.dask.org/en/stable/best-practices.html#load-data-with-dask for more information.\n",
      "  warnings.warn(\n"
     ]
    },
    {
     "name": "stdout",
     "output_type": "stream",
     "text": [
      "Done writing /glade/derecho/scratch/ruppert/tc-crfrad/mpas/HOMO_RAD/CAPE_2000-05-02_18.00.00.zarr!\n"
     ]
    },
    {
     "name": "stderr",
     "output_type": "stream",
     "text": [
      "/glade/work/ruppert/conda-envs/plotting/lib/python3.11/site-packages/zarr/core/group.py:2566: ZarrUserWarning: The `compressor` argument is deprecated. Use `compressors` instead.\n",
      "  compressors = _parse_deprecated_compressor(\n",
      "/glade/work/ruppert/conda-envs/plotting/lib/python3.11/site-packages/zarr/api/asynchronous.py:233: ZarrUserWarning: Consolidated metadata is currently not part in the Zarr format 3 specification. It may not be supported by other zarr implementations and may change in the future.\n",
      "  warnings.warn(\n",
      "/glade/work/ruppert/conda-envs/plotting/lib/python3.11/site-packages/distributed/client.py:3371: UserWarning: Sending large graph of size 19.78 MiB.\n",
      "This may cause some slowdown.\n",
      "Consider loading the data with Dask directly\n",
      " or using futures or delayed objects to embed the data into the graph without repetition.\n",
      "See also https://docs.dask.org/en/stable/best-practices.html#load-data-with-dask for more information.\n",
      "  warnings.warn(\n"
     ]
    },
    {
     "name": "stdout",
     "output_type": "stream",
     "text": [
      "Done writing /glade/derecho/scratch/ruppert/tc-crfrad/mpas/HOMO_RAD/CAPE_2000-05-03_00.00.00.zarr!\n"
     ]
    },
    {
     "name": "stderr",
     "output_type": "stream",
     "text": [
      "/glade/work/ruppert/conda-envs/plotting/lib/python3.11/site-packages/zarr/core/group.py:2566: ZarrUserWarning: The `compressor` argument is deprecated. Use `compressors` instead.\n",
      "  compressors = _parse_deprecated_compressor(\n",
      "/glade/work/ruppert/conda-envs/plotting/lib/python3.11/site-packages/zarr/api/asynchronous.py:233: ZarrUserWarning: Consolidated metadata is currently not part in the Zarr format 3 specification. It may not be supported by other zarr implementations and may change in the future.\n",
      "  warnings.warn(\n",
      "/glade/work/ruppert/conda-envs/plotting/lib/python3.11/site-packages/distributed/client.py:3371: UserWarning: Sending large graph of size 19.78 MiB.\n",
      "This may cause some slowdown.\n",
      "Consider loading the data with Dask directly\n",
      " or using futures or delayed objects to embed the data into the graph without repetition.\n",
      "See also https://docs.dask.org/en/stable/best-practices.html#load-data-with-dask for more information.\n",
      "  warnings.warn(\n"
     ]
    },
    {
     "name": "stdout",
     "output_type": "stream",
     "text": [
      "Done writing /glade/derecho/scratch/ruppert/tc-crfrad/mpas/HOMO_RAD/CAPE_2000-05-03_06.00.00.zarr!\n"
     ]
    },
    {
     "name": "stderr",
     "output_type": "stream",
     "text": [
      "/glade/work/ruppert/conda-envs/plotting/lib/python3.11/site-packages/zarr/core/group.py:2566: ZarrUserWarning: The `compressor` argument is deprecated. Use `compressors` instead.\n",
      "  compressors = _parse_deprecated_compressor(\n",
      "/glade/work/ruppert/conda-envs/plotting/lib/python3.11/site-packages/zarr/api/asynchronous.py:233: ZarrUserWarning: Consolidated metadata is currently not part in the Zarr format 3 specification. It may not be supported by other zarr implementations and may change in the future.\n",
      "  warnings.warn(\n",
      "/glade/work/ruppert/conda-envs/plotting/lib/python3.11/site-packages/distributed/client.py:3371: UserWarning: Sending large graph of size 19.78 MiB.\n",
      "This may cause some slowdown.\n",
      "Consider loading the data with Dask directly\n",
      " or using futures or delayed objects to embed the data into the graph without repetition.\n",
      "See also https://docs.dask.org/en/stable/best-practices.html#load-data-with-dask for more information.\n",
      "  warnings.warn(\n"
     ]
    },
    {
     "name": "stdout",
     "output_type": "stream",
     "text": [
      "Done writing /glade/derecho/scratch/ruppert/tc-crfrad/mpas/HOMO_RAD/CAPE_2000-05-03_12.00.00.zarr!\n"
     ]
    },
    {
     "name": "stderr",
     "output_type": "stream",
     "text": [
      "/glade/work/ruppert/conda-envs/plotting/lib/python3.11/site-packages/zarr/core/group.py:2566: ZarrUserWarning: The `compressor` argument is deprecated. Use `compressors` instead.\n",
      "  compressors = _parse_deprecated_compressor(\n",
      "/glade/work/ruppert/conda-envs/plotting/lib/python3.11/site-packages/zarr/api/asynchronous.py:233: ZarrUserWarning: Consolidated metadata is currently not part in the Zarr format 3 specification. It may not be supported by other zarr implementations and may change in the future.\n",
      "  warnings.warn(\n",
      "/glade/work/ruppert/conda-envs/plotting/lib/python3.11/site-packages/distributed/client.py:3371: UserWarning: Sending large graph of size 19.78 MiB.\n",
      "This may cause some slowdown.\n",
      "Consider loading the data with Dask directly\n",
      " or using futures or delayed objects to embed the data into the graph without repetition.\n",
      "See also https://docs.dask.org/en/stable/best-practices.html#load-data-with-dask for more information.\n",
      "  warnings.warn(\n"
     ]
    },
    {
     "name": "stdout",
     "output_type": "stream",
     "text": [
      "Done writing /glade/derecho/scratch/ruppert/tc-crfrad/mpas/HOMO_RAD/CAPE_2000-05-03_18.00.00.zarr!\n"
     ]
    },
    {
     "name": "stderr",
     "output_type": "stream",
     "text": [
      "/glade/work/ruppert/conda-envs/plotting/lib/python3.11/site-packages/zarr/core/group.py:2566: ZarrUserWarning: The `compressor` argument is deprecated. Use `compressors` instead.\n",
      "  compressors = _parse_deprecated_compressor(\n",
      "/glade/work/ruppert/conda-envs/plotting/lib/python3.11/site-packages/zarr/api/asynchronous.py:233: ZarrUserWarning: Consolidated metadata is currently not part in the Zarr format 3 specification. It may not be supported by other zarr implementations and may change in the future.\n",
      "  warnings.warn(\n",
      "/glade/work/ruppert/conda-envs/plotting/lib/python3.11/site-packages/distributed/client.py:3371: UserWarning: Sending large graph of size 19.79 MiB.\n",
      "This may cause some slowdown.\n",
      "Consider loading the data with Dask directly\n",
      " or using futures or delayed objects to embed the data into the graph without repetition.\n",
      "See also https://docs.dask.org/en/stable/best-practices.html#load-data-with-dask for more information.\n",
      "  warnings.warn(\n"
     ]
    },
    {
     "name": "stdout",
     "output_type": "stream",
     "text": [
      "Done writing /glade/derecho/scratch/ruppert/tc-crfrad/mpas/HOMO_RAD/CAPE_2000-05-04_00.00.00.zarr!\n"
     ]
    },
    {
     "name": "stderr",
     "output_type": "stream",
     "text": [
      "/glade/work/ruppert/conda-envs/plotting/lib/python3.11/site-packages/zarr/core/group.py:2566: ZarrUserWarning: The `compressor` argument is deprecated. Use `compressors` instead.\n",
      "  compressors = _parse_deprecated_compressor(\n",
      "/glade/work/ruppert/conda-envs/plotting/lib/python3.11/site-packages/zarr/api/asynchronous.py:233: ZarrUserWarning: Consolidated metadata is currently not part in the Zarr format 3 specification. It may not be supported by other zarr implementations and may change in the future.\n",
      "  warnings.warn(\n",
      "/glade/work/ruppert/conda-envs/plotting/lib/python3.11/site-packages/distributed/client.py:3371: UserWarning: Sending large graph of size 19.79 MiB.\n",
      "This may cause some slowdown.\n",
      "Consider loading the data with Dask directly\n",
      " or using futures or delayed objects to embed the data into the graph without repetition.\n",
      "See also https://docs.dask.org/en/stable/best-practices.html#load-data-with-dask for more information.\n",
      "  warnings.warn(\n"
     ]
    },
    {
     "name": "stdout",
     "output_type": "stream",
     "text": [
      "Done writing /glade/derecho/scratch/ruppert/tc-crfrad/mpas/HOMO_RAD/CAPE_2000-05-04_06.00.00.zarr!\n"
     ]
    },
    {
     "name": "stderr",
     "output_type": "stream",
     "text": [
      "/glade/work/ruppert/conda-envs/plotting/lib/python3.11/site-packages/zarr/core/group.py:2566: ZarrUserWarning: The `compressor` argument is deprecated. Use `compressors` instead.\n",
      "  compressors = _parse_deprecated_compressor(\n",
      "/glade/work/ruppert/conda-envs/plotting/lib/python3.11/site-packages/zarr/api/asynchronous.py:233: ZarrUserWarning: Consolidated metadata is currently not part in the Zarr format 3 specification. It may not be supported by other zarr implementations and may change in the future.\n",
      "  warnings.warn(\n",
      "/glade/work/ruppert/conda-envs/plotting/lib/python3.11/site-packages/distributed/client.py:3371: UserWarning: Sending large graph of size 19.79 MiB.\n",
      "This may cause some slowdown.\n",
      "Consider loading the data with Dask directly\n",
      " or using futures or delayed objects to embed the data into the graph without repetition.\n",
      "See also https://docs.dask.org/en/stable/best-practices.html#load-data-with-dask for more information.\n",
      "  warnings.warn(\n"
     ]
    },
    {
     "name": "stdout",
     "output_type": "stream",
     "text": [
      "Done writing /glade/derecho/scratch/ruppert/tc-crfrad/mpas/HOMO_RAD/CAPE_2000-05-04_12.00.00.zarr!\n"
     ]
    },
    {
     "name": "stderr",
     "output_type": "stream",
     "text": [
      "/glade/work/ruppert/conda-envs/plotting/lib/python3.11/site-packages/zarr/core/group.py:2566: ZarrUserWarning: The `compressor` argument is deprecated. Use `compressors` instead.\n",
      "  compressors = _parse_deprecated_compressor(\n",
      "/glade/work/ruppert/conda-envs/plotting/lib/python3.11/site-packages/zarr/api/asynchronous.py:233: ZarrUserWarning: Consolidated metadata is currently not part in the Zarr format 3 specification. It may not be supported by other zarr implementations and may change in the future.\n",
      "  warnings.warn(\n",
      "/glade/work/ruppert/conda-envs/plotting/lib/python3.11/site-packages/distributed/client.py:3371: UserWarning: Sending large graph of size 19.79 MiB.\n",
      "This may cause some slowdown.\n",
      "Consider loading the data with Dask directly\n",
      " or using futures or delayed objects to embed the data into the graph without repetition.\n",
      "See also https://docs.dask.org/en/stable/best-practices.html#load-data-with-dask for more information.\n",
      "  warnings.warn(\n"
     ]
    },
    {
     "name": "stdout",
     "output_type": "stream",
     "text": [
      "Done writing /glade/derecho/scratch/ruppert/tc-crfrad/mpas/HOMO_RAD/CAPE_2000-05-04_18.00.00.zarr!\n"
     ]
    },
    {
     "name": "stderr",
     "output_type": "stream",
     "text": [
      "/glade/work/ruppert/conda-envs/plotting/lib/python3.11/site-packages/zarr/core/group.py:2566: ZarrUserWarning: The `compressor` argument is deprecated. Use `compressors` instead.\n",
      "  compressors = _parse_deprecated_compressor(\n",
      "/glade/work/ruppert/conda-envs/plotting/lib/python3.11/site-packages/zarr/api/asynchronous.py:233: ZarrUserWarning: Consolidated metadata is currently not part in the Zarr format 3 specification. It may not be supported by other zarr implementations and may change in the future.\n",
      "  warnings.warn(\n",
      "/glade/work/ruppert/conda-envs/plotting/lib/python3.11/site-packages/distributed/client.py:3371: UserWarning: Sending large graph of size 19.79 MiB.\n",
      "This may cause some slowdown.\n",
      "Consider loading the data with Dask directly\n",
      " or using futures or delayed objects to embed the data into the graph without repetition.\n",
      "See also https://docs.dask.org/en/stable/best-practices.html#load-data-with-dask for more information.\n",
      "  warnings.warn(\n"
     ]
    },
    {
     "name": "stdout",
     "output_type": "stream",
     "text": [
      "Done writing /glade/derecho/scratch/ruppert/tc-crfrad/mpas/HOMO_RAD/CAPE_2000-05-05_00.00.00.zarr!\n"
     ]
    },
    {
     "name": "stderr",
     "output_type": "stream",
     "text": [
      "/glade/work/ruppert/conda-envs/plotting/lib/python3.11/site-packages/zarr/core/group.py:2566: ZarrUserWarning: The `compressor` argument is deprecated. Use `compressors` instead.\n",
      "  compressors = _parse_deprecated_compressor(\n",
      "/glade/work/ruppert/conda-envs/plotting/lib/python3.11/site-packages/zarr/api/asynchronous.py:233: ZarrUserWarning: Consolidated metadata is currently not part in the Zarr format 3 specification. It may not be supported by other zarr implementations and may change in the future.\n",
      "  warnings.warn(\n",
      "/glade/work/ruppert/conda-envs/plotting/lib/python3.11/site-packages/distributed/client.py:3371: UserWarning: Sending large graph of size 19.79 MiB.\n",
      "This may cause some slowdown.\n",
      "Consider loading the data with Dask directly\n",
      " or using futures or delayed objects to embed the data into the graph without repetition.\n",
      "See also https://docs.dask.org/en/stable/best-practices.html#load-data-with-dask for more information.\n",
      "  warnings.warn(\n"
     ]
    },
    {
     "name": "stdout",
     "output_type": "stream",
     "text": [
      "Done writing /glade/derecho/scratch/ruppert/tc-crfrad/mpas/HOMO_RAD/CAPE_2000-05-05_06.00.00.zarr!\n"
     ]
    },
    {
     "name": "stderr",
     "output_type": "stream",
     "text": [
      "/glade/work/ruppert/conda-envs/plotting/lib/python3.11/site-packages/zarr/core/group.py:2566: ZarrUserWarning: The `compressor` argument is deprecated. Use `compressors` instead.\n",
      "  compressors = _parse_deprecated_compressor(\n",
      "/glade/work/ruppert/conda-envs/plotting/lib/python3.11/site-packages/zarr/api/asynchronous.py:233: ZarrUserWarning: Consolidated metadata is currently not part in the Zarr format 3 specification. It may not be supported by other zarr implementations and may change in the future.\n",
      "  warnings.warn(\n",
      "/glade/work/ruppert/conda-envs/plotting/lib/python3.11/site-packages/distributed/client.py:3371: UserWarning: Sending large graph of size 19.79 MiB.\n",
      "This may cause some slowdown.\n",
      "Consider loading the data with Dask directly\n",
      " or using futures or delayed objects to embed the data into the graph without repetition.\n",
      "See also https://docs.dask.org/en/stable/best-practices.html#load-data-with-dask for more information.\n",
      "  warnings.warn(\n"
     ]
    },
    {
     "name": "stdout",
     "output_type": "stream",
     "text": [
      "Done writing /glade/derecho/scratch/ruppert/tc-crfrad/mpas/HOMO_RAD/CAPE_2000-05-05_12.00.00.zarr!\n"
     ]
    },
    {
     "name": "stderr",
     "output_type": "stream",
     "text": [
      "/glade/work/ruppert/conda-envs/plotting/lib/python3.11/site-packages/zarr/core/group.py:2566: ZarrUserWarning: The `compressor` argument is deprecated. Use `compressors` instead.\n",
      "  compressors = _parse_deprecated_compressor(\n",
      "/glade/work/ruppert/conda-envs/plotting/lib/python3.11/site-packages/zarr/api/asynchronous.py:233: ZarrUserWarning: Consolidated metadata is currently not part in the Zarr format 3 specification. It may not be supported by other zarr implementations and may change in the future.\n",
      "  warnings.warn(\n",
      "/glade/work/ruppert/conda-envs/plotting/lib/python3.11/site-packages/distributed/client.py:3371: UserWarning: Sending large graph of size 19.79 MiB.\n",
      "This may cause some slowdown.\n",
      "Consider loading the data with Dask directly\n",
      " or using futures or delayed objects to embed the data into the graph without repetition.\n",
      "See also https://docs.dask.org/en/stable/best-practices.html#load-data-with-dask for more information.\n",
      "  warnings.warn(\n"
     ]
    },
    {
     "name": "stdout",
     "output_type": "stream",
     "text": [
      "Done writing /glade/derecho/scratch/ruppert/tc-crfrad/mpas/HOMO_RAD/CAPE_2000-05-05_18.00.00.zarr!\n"
     ]
    },
    {
     "name": "stderr",
     "output_type": "stream",
     "text": [
      "/glade/work/ruppert/conda-envs/plotting/lib/python3.11/site-packages/zarr/core/group.py:2566: ZarrUserWarning: The `compressor` argument is deprecated. Use `compressors` instead.\n",
      "  compressors = _parse_deprecated_compressor(\n",
      "/glade/work/ruppert/conda-envs/plotting/lib/python3.11/site-packages/zarr/api/asynchronous.py:233: ZarrUserWarning: Consolidated metadata is currently not part in the Zarr format 3 specification. It may not be supported by other zarr implementations and may change in the future.\n",
      "  warnings.warn(\n",
      "/glade/work/ruppert/conda-envs/plotting/lib/python3.11/site-packages/distributed/client.py:3371: UserWarning: Sending large graph of size 19.79 MiB.\n",
      "This may cause some slowdown.\n",
      "Consider loading the data with Dask directly\n",
      " or using futures or delayed objects to embed the data into the graph without repetition.\n",
      "See also https://docs.dask.org/en/stable/best-practices.html#load-data-with-dask for more information.\n",
      "  warnings.warn(\n"
     ]
    },
    {
     "name": "stdout",
     "output_type": "stream",
     "text": [
      "Done writing /glade/derecho/scratch/ruppert/tc-crfrad/mpas/HOMO_RAD/CAPE_2000-05-06_00.00.00.zarr!\n"
     ]
    },
    {
     "name": "stderr",
     "output_type": "stream",
     "text": [
      "/glade/work/ruppert/conda-envs/plotting/lib/python3.11/site-packages/zarr/core/group.py:2566: ZarrUserWarning: The `compressor` argument is deprecated. Use `compressors` instead.\n",
      "  compressors = _parse_deprecated_compressor(\n",
      "/glade/work/ruppert/conda-envs/plotting/lib/python3.11/site-packages/zarr/api/asynchronous.py:233: ZarrUserWarning: Consolidated metadata is currently not part in the Zarr format 3 specification. It may not be supported by other zarr implementations and may change in the future.\n",
      "  warnings.warn(\n",
      "/glade/work/ruppert/conda-envs/plotting/lib/python3.11/site-packages/distributed/client.py:3371: UserWarning: Sending large graph of size 19.79 MiB.\n",
      "This may cause some slowdown.\n",
      "Consider loading the data with Dask directly\n",
      " or using futures or delayed objects to embed the data into the graph without repetition.\n",
      "See also https://docs.dask.org/en/stable/best-practices.html#load-data-with-dask for more information.\n",
      "  warnings.warn(\n"
     ]
    },
    {
     "name": "stdout",
     "output_type": "stream",
     "text": [
      "Done writing /glade/derecho/scratch/ruppert/tc-crfrad/mpas/HOMO_RAD/CAPE_2000-05-06_06.00.00.zarr!\n"
     ]
    },
    {
     "name": "stderr",
     "output_type": "stream",
     "text": [
      "/glade/work/ruppert/conda-envs/plotting/lib/python3.11/site-packages/zarr/core/group.py:2566: ZarrUserWarning: The `compressor` argument is deprecated. Use `compressors` instead.\n",
      "  compressors = _parse_deprecated_compressor(\n",
      "/glade/work/ruppert/conda-envs/plotting/lib/python3.11/site-packages/zarr/api/asynchronous.py:233: ZarrUserWarning: Consolidated metadata is currently not part in the Zarr format 3 specification. It may not be supported by other zarr implementations and may change in the future.\n",
      "  warnings.warn(\n",
      "/glade/work/ruppert/conda-envs/plotting/lib/python3.11/site-packages/distributed/client.py:3371: UserWarning: Sending large graph of size 19.79 MiB.\n",
      "This may cause some slowdown.\n",
      "Consider loading the data with Dask directly\n",
      " or using futures or delayed objects to embed the data into the graph without repetition.\n",
      "See also https://docs.dask.org/en/stable/best-practices.html#load-data-with-dask for more information.\n",
      "  warnings.warn(\n"
     ]
    },
    {
     "name": "stdout",
     "output_type": "stream",
     "text": [
      "Done writing /glade/derecho/scratch/ruppert/tc-crfrad/mpas/HOMO_RAD/CAPE_2000-05-06_12.00.00.zarr!\n"
     ]
    },
    {
     "name": "stderr",
     "output_type": "stream",
     "text": [
      "/glade/work/ruppert/conda-envs/plotting/lib/python3.11/site-packages/zarr/core/group.py:2566: ZarrUserWarning: The `compressor` argument is deprecated. Use `compressors` instead.\n",
      "  compressors = _parse_deprecated_compressor(\n",
      "/glade/work/ruppert/conda-envs/plotting/lib/python3.11/site-packages/zarr/api/asynchronous.py:233: ZarrUserWarning: Consolidated metadata is currently not part in the Zarr format 3 specification. It may not be supported by other zarr implementations and may change in the future.\n",
      "  warnings.warn(\n",
      "/glade/work/ruppert/conda-envs/plotting/lib/python3.11/site-packages/distributed/client.py:3371: UserWarning: Sending large graph of size 19.79 MiB.\n",
      "This may cause some slowdown.\n",
      "Consider loading the data with Dask directly\n",
      " or using futures or delayed objects to embed the data into the graph without repetition.\n",
      "See also https://docs.dask.org/en/stable/best-practices.html#load-data-with-dask for more information.\n",
      "  warnings.warn(\n"
     ]
    },
    {
     "name": "stdout",
     "output_type": "stream",
     "text": [
      "Done writing /glade/derecho/scratch/ruppert/tc-crfrad/mpas/HOMO_RAD/CAPE_2000-05-06_18.00.00.zarr!\n"
     ]
    },
    {
     "name": "stderr",
     "output_type": "stream",
     "text": [
      "/glade/work/ruppert/conda-envs/plotting/lib/python3.11/site-packages/zarr/core/group.py:2566: ZarrUserWarning: The `compressor` argument is deprecated. Use `compressors` instead.\n",
      "  compressors = _parse_deprecated_compressor(\n",
      "/glade/work/ruppert/conda-envs/plotting/lib/python3.11/site-packages/zarr/api/asynchronous.py:233: ZarrUserWarning: Consolidated metadata is currently not part in the Zarr format 3 specification. It may not be supported by other zarr implementations and may change in the future.\n",
      "  warnings.warn(\n",
      "/glade/work/ruppert/conda-envs/plotting/lib/python3.11/site-packages/distributed/client.py:3371: UserWarning: Sending large graph of size 19.79 MiB.\n",
      "This may cause some slowdown.\n",
      "Consider loading the data with Dask directly\n",
      " or using futures or delayed objects to embed the data into the graph without repetition.\n",
      "See also https://docs.dask.org/en/stable/best-practices.html#load-data-with-dask for more information.\n",
      "  warnings.warn(\n"
     ]
    },
    {
     "name": "stdout",
     "output_type": "stream",
     "text": [
      "Done writing /glade/derecho/scratch/ruppert/tc-crfrad/mpas/HOMO_RAD/CAPE_2000-05-07_00.00.00.zarr!\n"
     ]
    },
    {
     "name": "stderr",
     "output_type": "stream",
     "text": [
      "/glade/work/ruppert/conda-envs/plotting/lib/python3.11/site-packages/zarr/core/group.py:2566: ZarrUserWarning: The `compressor` argument is deprecated. Use `compressors` instead.\n",
      "  compressors = _parse_deprecated_compressor(\n",
      "/glade/work/ruppert/conda-envs/plotting/lib/python3.11/site-packages/zarr/api/asynchronous.py:233: ZarrUserWarning: Consolidated metadata is currently not part in the Zarr format 3 specification. It may not be supported by other zarr implementations and may change in the future.\n",
      "  warnings.warn(\n",
      "/glade/work/ruppert/conda-envs/plotting/lib/python3.11/site-packages/distributed/client.py:3371: UserWarning: Sending large graph of size 19.79 MiB.\n",
      "This may cause some slowdown.\n",
      "Consider loading the data with Dask directly\n",
      " or using futures or delayed objects to embed the data into the graph without repetition.\n",
      "See also https://docs.dask.org/en/stable/best-practices.html#load-data-with-dask for more information.\n",
      "  warnings.warn(\n"
     ]
    },
    {
     "name": "stdout",
     "output_type": "stream",
     "text": [
      "Done writing /glade/derecho/scratch/ruppert/tc-crfrad/mpas/HOMO_RAD/CAPE_2000-05-07_06.00.00.zarr!\n"
     ]
    },
    {
     "name": "stderr",
     "output_type": "stream",
     "text": [
      "/glade/work/ruppert/conda-envs/plotting/lib/python3.11/site-packages/zarr/core/group.py:2566: ZarrUserWarning: The `compressor` argument is deprecated. Use `compressors` instead.\n",
      "  compressors = _parse_deprecated_compressor(\n",
      "/glade/work/ruppert/conda-envs/plotting/lib/python3.11/site-packages/zarr/api/asynchronous.py:233: ZarrUserWarning: Consolidated metadata is currently not part in the Zarr format 3 specification. It may not be supported by other zarr implementations and may change in the future.\n",
      "  warnings.warn(\n",
      "/glade/work/ruppert/conda-envs/plotting/lib/python3.11/site-packages/distributed/client.py:3371: UserWarning: Sending large graph of size 19.79 MiB.\n",
      "This may cause some slowdown.\n",
      "Consider loading the data with Dask directly\n",
      " or using futures or delayed objects to embed the data into the graph without repetition.\n",
      "See also https://docs.dask.org/en/stable/best-practices.html#load-data-with-dask for more information.\n",
      "  warnings.warn(\n"
     ]
    },
    {
     "name": "stdout",
     "output_type": "stream",
     "text": [
      "Done writing /glade/derecho/scratch/ruppert/tc-crfrad/mpas/HOMO_RAD/CAPE_2000-05-07_12.00.00.zarr!\n"
     ]
    },
    {
     "name": "stderr",
     "output_type": "stream",
     "text": [
      "/glade/work/ruppert/conda-envs/plotting/lib/python3.11/site-packages/zarr/core/group.py:2566: ZarrUserWarning: The `compressor` argument is deprecated. Use `compressors` instead.\n",
      "  compressors = _parse_deprecated_compressor(\n",
      "/glade/work/ruppert/conda-envs/plotting/lib/python3.11/site-packages/zarr/api/asynchronous.py:233: ZarrUserWarning: Consolidated metadata is currently not part in the Zarr format 3 specification. It may not be supported by other zarr implementations and may change in the future.\n",
      "  warnings.warn(\n",
      "/glade/work/ruppert/conda-envs/plotting/lib/python3.11/site-packages/distributed/client.py:3371: UserWarning: Sending large graph of size 19.79 MiB.\n",
      "This may cause some slowdown.\n",
      "Consider loading the data with Dask directly\n",
      " or using futures or delayed objects to embed the data into the graph without repetition.\n",
      "See also https://docs.dask.org/en/stable/best-practices.html#load-data-with-dask for more information.\n",
      "  warnings.warn(\n"
     ]
    },
    {
     "name": "stdout",
     "output_type": "stream",
     "text": [
      "Done writing /glade/derecho/scratch/ruppert/tc-crfrad/mpas/HOMO_RAD/CAPE_2000-05-07_18.00.00.zarr!\n"
     ]
    },
    {
     "name": "stderr",
     "output_type": "stream",
     "text": [
      "/glade/work/ruppert/conda-envs/plotting/lib/python3.11/site-packages/zarr/core/group.py:2566: ZarrUserWarning: The `compressor` argument is deprecated. Use `compressors` instead.\n",
      "  compressors = _parse_deprecated_compressor(\n",
      "/glade/work/ruppert/conda-envs/plotting/lib/python3.11/site-packages/zarr/api/asynchronous.py:233: ZarrUserWarning: Consolidated metadata is currently not part in the Zarr format 3 specification. It may not be supported by other zarr implementations and may change in the future.\n",
      "  warnings.warn(\n",
      "/glade/work/ruppert/conda-envs/plotting/lib/python3.11/site-packages/distributed/client.py:3371: UserWarning: Sending large graph of size 19.79 MiB.\n",
      "This may cause some slowdown.\n",
      "Consider loading the data with Dask directly\n",
      " or using futures or delayed objects to embed the data into the graph without repetition.\n",
      "See also https://docs.dask.org/en/stable/best-practices.html#load-data-with-dask for more information.\n",
      "  warnings.warn(\n"
     ]
    },
    {
     "name": "stdout",
     "output_type": "stream",
     "text": [
      "Done writing /glade/derecho/scratch/ruppert/tc-crfrad/mpas/HOMO_RAD/CAPE_2000-05-08_00.00.00.zarr!\n"
     ]
    },
    {
     "name": "stderr",
     "output_type": "stream",
     "text": [
      "/glade/work/ruppert/conda-envs/plotting/lib/python3.11/site-packages/zarr/core/group.py:2566: ZarrUserWarning: The `compressor` argument is deprecated. Use `compressors` instead.\n",
      "  compressors = _parse_deprecated_compressor(\n",
      "/glade/work/ruppert/conda-envs/plotting/lib/python3.11/site-packages/zarr/api/asynchronous.py:233: ZarrUserWarning: Consolidated metadata is currently not part in the Zarr format 3 specification. It may not be supported by other zarr implementations and may change in the future.\n",
      "  warnings.warn(\n",
      "/glade/work/ruppert/conda-envs/plotting/lib/python3.11/site-packages/distributed/client.py:3371: UserWarning: Sending large graph of size 19.79 MiB.\n",
      "This may cause some slowdown.\n",
      "Consider loading the data with Dask directly\n",
      " or using futures or delayed objects to embed the data into the graph without repetition.\n",
      "See also https://docs.dask.org/en/stable/best-practices.html#load-data-with-dask for more information.\n",
      "  warnings.warn(\n"
     ]
    },
    {
     "name": "stdout",
     "output_type": "stream",
     "text": [
      "Done writing /glade/derecho/scratch/ruppert/tc-crfrad/mpas/HOMO_RAD/CAPE_2000-05-08_06.00.00.zarr!\n"
     ]
    },
    {
     "name": "stderr",
     "output_type": "stream",
     "text": [
      "/glade/work/ruppert/conda-envs/plotting/lib/python3.11/site-packages/zarr/core/group.py:2566: ZarrUserWarning: The `compressor` argument is deprecated. Use `compressors` instead.\n",
      "  compressors = _parse_deprecated_compressor(\n",
      "/glade/work/ruppert/conda-envs/plotting/lib/python3.11/site-packages/zarr/api/asynchronous.py:233: ZarrUserWarning: Consolidated metadata is currently not part in the Zarr format 3 specification. It may not be supported by other zarr implementations and may change in the future.\n",
      "  warnings.warn(\n",
      "/glade/work/ruppert/conda-envs/plotting/lib/python3.11/site-packages/distributed/client.py:3371: UserWarning: Sending large graph of size 19.79 MiB.\n",
      "This may cause some slowdown.\n",
      "Consider loading the data with Dask directly\n",
      " or using futures or delayed objects to embed the data into the graph without repetition.\n",
      "See also https://docs.dask.org/en/stable/best-practices.html#load-data-with-dask for more information.\n",
      "  warnings.warn(\n"
     ]
    },
    {
     "name": "stdout",
     "output_type": "stream",
     "text": [
      "Done writing /glade/derecho/scratch/ruppert/tc-crfrad/mpas/HOMO_RAD/CAPE_2000-05-08_12.00.00.zarr!\n"
     ]
    },
    {
     "name": "stderr",
     "output_type": "stream",
     "text": [
      "/glade/work/ruppert/conda-envs/plotting/lib/python3.11/site-packages/zarr/core/group.py:2566: ZarrUserWarning: The `compressor` argument is deprecated. Use `compressors` instead.\n",
      "  compressors = _parse_deprecated_compressor(\n",
      "/glade/work/ruppert/conda-envs/plotting/lib/python3.11/site-packages/zarr/api/asynchronous.py:233: ZarrUserWarning: Consolidated metadata is currently not part in the Zarr format 3 specification. It may not be supported by other zarr implementations and may change in the future.\n",
      "  warnings.warn(\n",
      "/glade/work/ruppert/conda-envs/plotting/lib/python3.11/site-packages/distributed/client.py:3371: UserWarning: Sending large graph of size 19.79 MiB.\n",
      "This may cause some slowdown.\n",
      "Consider loading the data with Dask directly\n",
      " or using futures or delayed objects to embed the data into the graph without repetition.\n",
      "See also https://docs.dask.org/en/stable/best-practices.html#load-data-with-dask for more information.\n",
      "  warnings.warn(\n"
     ]
    },
    {
     "name": "stdout",
     "output_type": "stream",
     "text": [
      "Done writing /glade/derecho/scratch/ruppert/tc-crfrad/mpas/HOMO_RAD/CAPE_2000-05-08_18.00.00.zarr!\n"
     ]
    },
    {
     "name": "stderr",
     "output_type": "stream",
     "text": [
      "/glade/work/ruppert/conda-envs/plotting/lib/python3.11/site-packages/zarr/core/group.py:2566: ZarrUserWarning: The `compressor` argument is deprecated. Use `compressors` instead.\n",
      "  compressors = _parse_deprecated_compressor(\n",
      "/glade/work/ruppert/conda-envs/plotting/lib/python3.11/site-packages/zarr/api/asynchronous.py:233: ZarrUserWarning: Consolidated metadata is currently not part in the Zarr format 3 specification. It may not be supported by other zarr implementations and may change in the future.\n",
      "  warnings.warn(\n",
      "/glade/work/ruppert/conda-envs/plotting/lib/python3.11/site-packages/distributed/client.py:3371: UserWarning: Sending large graph of size 19.79 MiB.\n",
      "This may cause some slowdown.\n",
      "Consider loading the data with Dask directly\n",
      " or using futures or delayed objects to embed the data into the graph without repetition.\n",
      "See also https://docs.dask.org/en/stable/best-practices.html#load-data-with-dask for more information.\n",
      "  warnings.warn(\n"
     ]
    },
    {
     "name": "stdout",
     "output_type": "stream",
     "text": [
      "Done writing /glade/derecho/scratch/ruppert/tc-crfrad/mpas/HOMO_RAD/CAPE_2000-05-09_00.00.00.zarr!\n"
     ]
    },
    {
     "name": "stderr",
     "output_type": "stream",
     "text": [
      "/glade/work/ruppert/conda-envs/plotting/lib/python3.11/site-packages/zarr/core/group.py:2566: ZarrUserWarning: The `compressor` argument is deprecated. Use `compressors` instead.\n",
      "  compressors = _parse_deprecated_compressor(\n",
      "/glade/work/ruppert/conda-envs/plotting/lib/python3.11/site-packages/zarr/api/asynchronous.py:233: ZarrUserWarning: Consolidated metadata is currently not part in the Zarr format 3 specification. It may not be supported by other zarr implementations and may change in the future.\n",
      "  warnings.warn(\n",
      "/glade/work/ruppert/conda-envs/plotting/lib/python3.11/site-packages/distributed/client.py:3371: UserWarning: Sending large graph of size 19.79 MiB.\n",
      "This may cause some slowdown.\n",
      "Consider loading the data with Dask directly\n",
      " or using futures or delayed objects to embed the data into the graph without repetition.\n",
      "See also https://docs.dask.org/en/stable/best-practices.html#load-data-with-dask for more information.\n",
      "  warnings.warn(\n"
     ]
    },
    {
     "name": "stdout",
     "output_type": "stream",
     "text": [
      "Done writing /glade/derecho/scratch/ruppert/tc-crfrad/mpas/HOMO_RAD/CAPE_2000-05-09_06.00.00.zarr!\n"
     ]
    },
    {
     "name": "stderr",
     "output_type": "stream",
     "text": [
      "/glade/work/ruppert/conda-envs/plotting/lib/python3.11/site-packages/zarr/core/group.py:2566: ZarrUserWarning: The `compressor` argument is deprecated. Use `compressors` instead.\n",
      "  compressors = _parse_deprecated_compressor(\n",
      "/glade/work/ruppert/conda-envs/plotting/lib/python3.11/site-packages/zarr/api/asynchronous.py:233: ZarrUserWarning: Consolidated metadata is currently not part in the Zarr format 3 specification. It may not be supported by other zarr implementations and may change in the future.\n",
      "  warnings.warn(\n",
      "/glade/work/ruppert/conda-envs/plotting/lib/python3.11/site-packages/distributed/client.py:3371: UserWarning: Sending large graph of size 19.79 MiB.\n",
      "This may cause some slowdown.\n",
      "Consider loading the data with Dask directly\n",
      " or using futures or delayed objects to embed the data into the graph without repetition.\n",
      "See also https://docs.dask.org/en/stable/best-practices.html#load-data-with-dask for more information.\n",
      "  warnings.warn(\n"
     ]
    },
    {
     "name": "stdout",
     "output_type": "stream",
     "text": [
      "Done writing /glade/derecho/scratch/ruppert/tc-crfrad/mpas/HOMO_RAD/CAPE_2000-05-09_12.00.00.zarr!\n"
     ]
    },
    {
     "name": "stderr",
     "output_type": "stream",
     "text": [
      "/glade/work/ruppert/conda-envs/plotting/lib/python3.11/site-packages/zarr/core/group.py:2566: ZarrUserWarning: The `compressor` argument is deprecated. Use `compressors` instead.\n",
      "  compressors = _parse_deprecated_compressor(\n",
      "/glade/work/ruppert/conda-envs/plotting/lib/python3.11/site-packages/zarr/api/asynchronous.py:233: ZarrUserWarning: Consolidated metadata is currently not part in the Zarr format 3 specification. It may not be supported by other zarr implementations and may change in the future.\n",
      "  warnings.warn(\n",
      "/glade/work/ruppert/conda-envs/plotting/lib/python3.11/site-packages/distributed/client.py:3371: UserWarning: Sending large graph of size 19.79 MiB.\n",
      "This may cause some slowdown.\n",
      "Consider loading the data with Dask directly\n",
      " or using futures or delayed objects to embed the data into the graph without repetition.\n",
      "See also https://docs.dask.org/en/stable/best-practices.html#load-data-with-dask for more information.\n",
      "  warnings.warn(\n"
     ]
    },
    {
     "name": "stdout",
     "output_type": "stream",
     "text": [
      "Done writing /glade/derecho/scratch/ruppert/tc-crfrad/mpas/HOMO_RAD/CAPE_2000-05-09_18.00.00.zarr!\n"
     ]
    },
    {
     "name": "stderr",
     "output_type": "stream",
     "text": [
      "/glade/work/ruppert/conda-envs/plotting/lib/python3.11/site-packages/zarr/core/group.py:2566: ZarrUserWarning: The `compressor` argument is deprecated. Use `compressors` instead.\n",
      "  compressors = _parse_deprecated_compressor(\n",
      "/glade/work/ruppert/conda-envs/plotting/lib/python3.11/site-packages/zarr/api/asynchronous.py:233: ZarrUserWarning: Consolidated metadata is currently not part in the Zarr format 3 specification. It may not be supported by other zarr implementations and may change in the future.\n",
      "  warnings.warn(\n",
      "/glade/work/ruppert/conda-envs/plotting/lib/python3.11/site-packages/distributed/client.py:3371: UserWarning: Sending large graph of size 19.79 MiB.\n",
      "This may cause some slowdown.\n",
      "Consider loading the data with Dask directly\n",
      " or using futures or delayed objects to embed the data into the graph without repetition.\n",
      "See also https://docs.dask.org/en/stable/best-practices.html#load-data-with-dask for more information.\n",
      "  warnings.warn(\n"
     ]
    },
    {
     "name": "stdout",
     "output_type": "stream",
     "text": [
      "Done writing /glade/derecho/scratch/ruppert/tc-crfrad/mpas/HOMO_RAD/CAPE_2000-05-10_00.00.00.zarr!\n"
     ]
    },
    {
     "name": "stderr",
     "output_type": "stream",
     "text": [
      "/glade/work/ruppert/conda-envs/plotting/lib/python3.11/site-packages/zarr/core/group.py:2566: ZarrUserWarning: The `compressor` argument is deprecated. Use `compressors` instead.\n",
      "  compressors = _parse_deprecated_compressor(\n",
      "/glade/work/ruppert/conda-envs/plotting/lib/python3.11/site-packages/zarr/api/asynchronous.py:233: ZarrUserWarning: Consolidated metadata is currently not part in the Zarr format 3 specification. It may not be supported by other zarr implementations and may change in the future.\n",
      "  warnings.warn(\n",
      "/glade/work/ruppert/conda-envs/plotting/lib/python3.11/site-packages/distributed/client.py:3371: UserWarning: Sending large graph of size 19.79 MiB.\n",
      "This may cause some slowdown.\n",
      "Consider loading the data with Dask directly\n",
      " or using futures or delayed objects to embed the data into the graph without repetition.\n",
      "See also https://docs.dask.org/en/stable/best-practices.html#load-data-with-dask for more information.\n",
      "  warnings.warn(\n"
     ]
    },
    {
     "name": "stdout",
     "output_type": "stream",
     "text": [
      "Done writing /glade/derecho/scratch/ruppert/tc-crfrad/mpas/HOMO_RAD/CAPE_2000-05-10_06.00.00.zarr!\n"
     ]
    },
    {
     "name": "stderr",
     "output_type": "stream",
     "text": [
      "/glade/work/ruppert/conda-envs/plotting/lib/python3.11/site-packages/zarr/core/group.py:2566: ZarrUserWarning: The `compressor` argument is deprecated. Use `compressors` instead.\n",
      "  compressors = _parse_deprecated_compressor(\n",
      "/glade/work/ruppert/conda-envs/plotting/lib/python3.11/site-packages/zarr/api/asynchronous.py:233: ZarrUserWarning: Consolidated metadata is currently not part in the Zarr format 3 specification. It may not be supported by other zarr implementations and may change in the future.\n",
      "  warnings.warn(\n",
      "/glade/work/ruppert/conda-envs/plotting/lib/python3.11/site-packages/distributed/client.py:3371: UserWarning: Sending large graph of size 19.79 MiB.\n",
      "This may cause some slowdown.\n",
      "Consider loading the data with Dask directly\n",
      " or using futures or delayed objects to embed the data into the graph without repetition.\n",
      "See also https://docs.dask.org/en/stable/best-practices.html#load-data-with-dask for more information.\n",
      "  warnings.warn(\n"
     ]
    },
    {
     "name": "stdout",
     "output_type": "stream",
     "text": [
      "Done writing /glade/derecho/scratch/ruppert/tc-crfrad/mpas/HOMO_RAD/CAPE_2000-05-10_12.00.00.zarr!\n"
     ]
    },
    {
     "name": "stderr",
     "output_type": "stream",
     "text": [
      "/glade/work/ruppert/conda-envs/plotting/lib/python3.11/site-packages/zarr/core/group.py:2566: ZarrUserWarning: The `compressor` argument is deprecated. Use `compressors` instead.\n",
      "  compressors = _parse_deprecated_compressor(\n",
      "/glade/work/ruppert/conda-envs/plotting/lib/python3.11/site-packages/zarr/api/asynchronous.py:233: ZarrUserWarning: Consolidated metadata is currently not part in the Zarr format 3 specification. It may not be supported by other zarr implementations and may change in the future.\n",
      "  warnings.warn(\n",
      "/glade/work/ruppert/conda-envs/plotting/lib/python3.11/site-packages/distributed/client.py:3371: UserWarning: Sending large graph of size 19.79 MiB.\n",
      "This may cause some slowdown.\n",
      "Consider loading the data with Dask directly\n",
      " or using futures or delayed objects to embed the data into the graph without repetition.\n",
      "See also https://docs.dask.org/en/stable/best-practices.html#load-data-with-dask for more information.\n",
      "  warnings.warn(\n"
     ]
    },
    {
     "name": "stdout",
     "output_type": "stream",
     "text": [
      "Done writing /glade/derecho/scratch/ruppert/tc-crfrad/mpas/HOMO_RAD/CAPE_2000-05-10_18.00.00.zarr!\n"
     ]
    },
    {
     "name": "stderr",
     "output_type": "stream",
     "text": [
      "/glade/work/ruppert/conda-envs/plotting/lib/python3.11/site-packages/zarr/core/group.py:2566: ZarrUserWarning: The `compressor` argument is deprecated. Use `compressors` instead.\n",
      "  compressors = _parse_deprecated_compressor(\n",
      "/glade/work/ruppert/conda-envs/plotting/lib/python3.11/site-packages/zarr/api/asynchronous.py:233: ZarrUserWarning: Consolidated metadata is currently not part in the Zarr format 3 specification. It may not be supported by other zarr implementations and may change in the future.\n",
      "  warnings.warn(\n",
      "/glade/work/ruppert/conda-envs/plotting/lib/python3.11/site-packages/distributed/client.py:3371: UserWarning: Sending large graph of size 19.79 MiB.\n",
      "This may cause some slowdown.\n",
      "Consider loading the data with Dask directly\n",
      " or using futures or delayed objects to embed the data into the graph without repetition.\n",
      "See also https://docs.dask.org/en/stable/best-practices.html#load-data-with-dask for more information.\n",
      "  warnings.warn(\n"
     ]
    },
    {
     "name": "stdout",
     "output_type": "stream",
     "text": [
      "Done writing /glade/derecho/scratch/ruppert/tc-crfrad/mpas/HOMO_RAD/CAPE_2000-05-11_00.00.00.zarr!\n"
     ]
    },
    {
     "name": "stderr",
     "output_type": "stream",
     "text": [
      "/glade/work/ruppert/conda-envs/plotting/lib/python3.11/site-packages/zarr/core/group.py:2566: ZarrUserWarning: The `compressor` argument is deprecated. Use `compressors` instead.\n",
      "  compressors = _parse_deprecated_compressor(\n",
      "/glade/work/ruppert/conda-envs/plotting/lib/python3.11/site-packages/zarr/api/asynchronous.py:233: ZarrUserWarning: Consolidated metadata is currently not part in the Zarr format 3 specification. It may not be supported by other zarr implementations and may change in the future.\n",
      "  warnings.warn(\n",
      "/glade/work/ruppert/conda-envs/plotting/lib/python3.11/site-packages/distributed/client.py:3371: UserWarning: Sending large graph of size 19.79 MiB.\n",
      "This may cause some slowdown.\n",
      "Consider loading the data with Dask directly\n",
      " or using futures or delayed objects to embed the data into the graph without repetition.\n",
      "See also https://docs.dask.org/en/stable/best-practices.html#load-data-with-dask for more information.\n",
      "  warnings.warn(\n"
     ]
    },
    {
     "name": "stdout",
     "output_type": "stream",
     "text": [
      "Done writing /glade/derecho/scratch/ruppert/tc-crfrad/mpas/CLIM_RAD/CAPE_2000-05-01_06.00.00.zarr!\n"
     ]
    },
    {
     "name": "stderr",
     "output_type": "stream",
     "text": [
      "/glade/work/ruppert/conda-envs/plotting/lib/python3.11/site-packages/zarr/core/group.py:2566: ZarrUserWarning: The `compressor` argument is deprecated. Use `compressors` instead.\n",
      "  compressors = _parse_deprecated_compressor(\n",
      "/glade/work/ruppert/conda-envs/plotting/lib/python3.11/site-packages/zarr/api/asynchronous.py:233: ZarrUserWarning: Consolidated metadata is currently not part in the Zarr format 3 specification. It may not be supported by other zarr implementations and may change in the future.\n",
      "  warnings.warn(\n",
      "/glade/work/ruppert/conda-envs/plotting/lib/python3.11/site-packages/distributed/client.py:3371: UserWarning: Sending large graph of size 19.79 MiB.\n",
      "This may cause some slowdown.\n",
      "Consider loading the data with Dask directly\n",
      " or using futures or delayed objects to embed the data into the graph without repetition.\n",
      "See also https://docs.dask.org/en/stable/best-practices.html#load-data-with-dask for more information.\n",
      "  warnings.warn(\n"
     ]
    },
    {
     "name": "stdout",
     "output_type": "stream",
     "text": [
      "Done writing /glade/derecho/scratch/ruppert/tc-crfrad/mpas/CLIM_RAD/CAPE_2000-05-01_12.00.00.zarr!\n"
     ]
    },
    {
     "name": "stderr",
     "output_type": "stream",
     "text": [
      "/glade/work/ruppert/conda-envs/plotting/lib/python3.11/site-packages/zarr/core/group.py:2566: ZarrUserWarning: The `compressor` argument is deprecated. Use `compressors` instead.\n",
      "  compressors = _parse_deprecated_compressor(\n",
      "/glade/work/ruppert/conda-envs/plotting/lib/python3.11/site-packages/zarr/api/asynchronous.py:233: ZarrUserWarning: Consolidated metadata is currently not part in the Zarr format 3 specification. It may not be supported by other zarr implementations and may change in the future.\n",
      "  warnings.warn(\n",
      "/glade/work/ruppert/conda-envs/plotting/lib/python3.11/site-packages/distributed/client.py:3371: UserWarning: Sending large graph of size 19.79 MiB.\n",
      "This may cause some slowdown.\n",
      "Consider loading the data with Dask directly\n",
      " or using futures or delayed objects to embed the data into the graph without repetition.\n",
      "See also https://docs.dask.org/en/stable/best-practices.html#load-data-with-dask for more information.\n",
      "  warnings.warn(\n"
     ]
    },
    {
     "name": "stdout",
     "output_type": "stream",
     "text": [
      "Done writing /glade/derecho/scratch/ruppert/tc-crfrad/mpas/CLIM_RAD/CAPE_2000-05-01_18.00.00.zarr!\n"
     ]
    },
    {
     "name": "stderr",
     "output_type": "stream",
     "text": [
      "/glade/work/ruppert/conda-envs/plotting/lib/python3.11/site-packages/zarr/core/group.py:2566: ZarrUserWarning: The `compressor` argument is deprecated. Use `compressors` instead.\n",
      "  compressors = _parse_deprecated_compressor(\n",
      "/glade/work/ruppert/conda-envs/plotting/lib/python3.11/site-packages/zarr/api/asynchronous.py:233: ZarrUserWarning: Consolidated metadata is currently not part in the Zarr format 3 specification. It may not be supported by other zarr implementations and may change in the future.\n",
      "  warnings.warn(\n",
      "/glade/work/ruppert/conda-envs/plotting/lib/python3.11/site-packages/distributed/client.py:3371: UserWarning: Sending large graph of size 19.79 MiB.\n",
      "This may cause some slowdown.\n",
      "Consider loading the data with Dask directly\n",
      " or using futures or delayed objects to embed the data into the graph without repetition.\n",
      "See also https://docs.dask.org/en/stable/best-practices.html#load-data-with-dask for more information.\n",
      "  warnings.warn(\n"
     ]
    },
    {
     "name": "stdout",
     "output_type": "stream",
     "text": [
      "Done writing /glade/derecho/scratch/ruppert/tc-crfrad/mpas/CLIM_RAD/CAPE_2000-05-02_00.00.00.zarr!\n"
     ]
    },
    {
     "name": "stderr",
     "output_type": "stream",
     "text": [
      "/glade/work/ruppert/conda-envs/plotting/lib/python3.11/site-packages/zarr/core/group.py:2566: ZarrUserWarning: The `compressor` argument is deprecated. Use `compressors` instead.\n",
      "  compressors = _parse_deprecated_compressor(\n",
      "/glade/work/ruppert/conda-envs/plotting/lib/python3.11/site-packages/zarr/api/asynchronous.py:233: ZarrUserWarning: Consolidated metadata is currently not part in the Zarr format 3 specification. It may not be supported by other zarr implementations and may change in the future.\n",
      "  warnings.warn(\n",
      "/glade/work/ruppert/conda-envs/plotting/lib/python3.11/site-packages/distributed/client.py:3371: UserWarning: Sending large graph of size 19.79 MiB.\n",
      "This may cause some slowdown.\n",
      "Consider loading the data with Dask directly\n",
      " or using futures or delayed objects to embed the data into the graph without repetition.\n",
      "See also https://docs.dask.org/en/stable/best-practices.html#load-data-with-dask for more information.\n",
      "  warnings.warn(\n"
     ]
    },
    {
     "name": "stdout",
     "output_type": "stream",
     "text": [
      "Done writing /glade/derecho/scratch/ruppert/tc-crfrad/mpas/CLIM_RAD/CAPE_2000-05-02_06.00.00.zarr!\n"
     ]
    },
    {
     "name": "stderr",
     "output_type": "stream",
     "text": [
      "/glade/work/ruppert/conda-envs/plotting/lib/python3.11/site-packages/zarr/core/group.py:2566: ZarrUserWarning: The `compressor` argument is deprecated. Use `compressors` instead.\n",
      "  compressors = _parse_deprecated_compressor(\n",
      "/glade/work/ruppert/conda-envs/plotting/lib/python3.11/site-packages/zarr/api/asynchronous.py:233: ZarrUserWarning: Consolidated metadata is currently not part in the Zarr format 3 specification. It may not be supported by other zarr implementations and may change in the future.\n",
      "  warnings.warn(\n",
      "/glade/work/ruppert/conda-envs/plotting/lib/python3.11/site-packages/distributed/client.py:3371: UserWarning: Sending large graph of size 19.79 MiB.\n",
      "This may cause some slowdown.\n",
      "Consider loading the data with Dask directly\n",
      " or using futures or delayed objects to embed the data into the graph without repetition.\n",
      "See also https://docs.dask.org/en/stable/best-practices.html#load-data-with-dask for more information.\n",
      "  warnings.warn(\n"
     ]
    },
    {
     "name": "stdout",
     "output_type": "stream",
     "text": [
      "Done writing /glade/derecho/scratch/ruppert/tc-crfrad/mpas/CLIM_RAD/CAPE_2000-05-02_12.00.00.zarr!\n"
     ]
    },
    {
     "name": "stderr",
     "output_type": "stream",
     "text": [
      "/glade/work/ruppert/conda-envs/plotting/lib/python3.11/site-packages/zarr/core/group.py:2566: ZarrUserWarning: The `compressor` argument is deprecated. Use `compressors` instead.\n",
      "  compressors = _parse_deprecated_compressor(\n",
      "/glade/work/ruppert/conda-envs/plotting/lib/python3.11/site-packages/zarr/api/asynchronous.py:233: ZarrUserWarning: Consolidated metadata is currently not part in the Zarr format 3 specification. It may not be supported by other zarr implementations and may change in the future.\n",
      "  warnings.warn(\n",
      "/glade/work/ruppert/conda-envs/plotting/lib/python3.11/site-packages/distributed/client.py:3371: UserWarning: Sending large graph of size 19.79 MiB.\n",
      "This may cause some slowdown.\n",
      "Consider loading the data with Dask directly\n",
      " or using futures or delayed objects to embed the data into the graph without repetition.\n",
      "See also https://docs.dask.org/en/stable/best-practices.html#load-data-with-dask for more information.\n",
      "  warnings.warn(\n"
     ]
    },
    {
     "name": "stdout",
     "output_type": "stream",
     "text": [
      "Done writing /glade/derecho/scratch/ruppert/tc-crfrad/mpas/CLIM_RAD/CAPE_2000-05-02_18.00.00.zarr!\n"
     ]
    },
    {
     "name": "stderr",
     "output_type": "stream",
     "text": [
      "/glade/work/ruppert/conda-envs/plotting/lib/python3.11/site-packages/zarr/core/group.py:2566: ZarrUserWarning: The `compressor` argument is deprecated. Use `compressors` instead.\n",
      "  compressors = _parse_deprecated_compressor(\n",
      "/glade/work/ruppert/conda-envs/plotting/lib/python3.11/site-packages/zarr/api/asynchronous.py:233: ZarrUserWarning: Consolidated metadata is currently not part in the Zarr format 3 specification. It may not be supported by other zarr implementations and may change in the future.\n",
      "  warnings.warn(\n",
      "/glade/work/ruppert/conda-envs/plotting/lib/python3.11/site-packages/distributed/client.py:3371: UserWarning: Sending large graph of size 19.79 MiB.\n",
      "This may cause some slowdown.\n",
      "Consider loading the data with Dask directly\n",
      " or using futures or delayed objects to embed the data into the graph without repetition.\n",
      "See also https://docs.dask.org/en/stable/best-practices.html#load-data-with-dask for more information.\n",
      "  warnings.warn(\n"
     ]
    },
    {
     "name": "stdout",
     "output_type": "stream",
     "text": [
      "Done writing /glade/derecho/scratch/ruppert/tc-crfrad/mpas/CLIM_RAD/CAPE_2000-05-03_00.00.00.zarr!\n"
     ]
    },
    {
     "name": "stderr",
     "output_type": "stream",
     "text": [
      "/glade/work/ruppert/conda-envs/plotting/lib/python3.11/site-packages/zarr/core/group.py:2566: ZarrUserWarning: The `compressor` argument is deprecated. Use `compressors` instead.\n",
      "  compressors = _parse_deprecated_compressor(\n",
      "/glade/work/ruppert/conda-envs/plotting/lib/python3.11/site-packages/zarr/api/asynchronous.py:233: ZarrUserWarning: Consolidated metadata is currently not part in the Zarr format 3 specification. It may not be supported by other zarr implementations and may change in the future.\n",
      "  warnings.warn(\n",
      "/glade/work/ruppert/conda-envs/plotting/lib/python3.11/site-packages/distributed/client.py:3371: UserWarning: Sending large graph of size 19.79 MiB.\n",
      "This may cause some slowdown.\n",
      "Consider loading the data with Dask directly\n",
      " or using futures or delayed objects to embed the data into the graph without repetition.\n",
      "See also https://docs.dask.org/en/stable/best-practices.html#load-data-with-dask for more information.\n",
      "  warnings.warn(\n"
     ]
    },
    {
     "name": "stdout",
     "output_type": "stream",
     "text": [
      "Done writing /glade/derecho/scratch/ruppert/tc-crfrad/mpas/CLIM_RAD/CAPE_2000-05-03_06.00.00.zarr!\n"
     ]
    },
    {
     "name": "stderr",
     "output_type": "stream",
     "text": [
      "/glade/work/ruppert/conda-envs/plotting/lib/python3.11/site-packages/zarr/core/group.py:2566: ZarrUserWarning: The `compressor` argument is deprecated. Use `compressors` instead.\n",
      "  compressors = _parse_deprecated_compressor(\n",
      "/glade/work/ruppert/conda-envs/plotting/lib/python3.11/site-packages/zarr/api/asynchronous.py:233: ZarrUserWarning: Consolidated metadata is currently not part in the Zarr format 3 specification. It may not be supported by other zarr implementations and may change in the future.\n",
      "  warnings.warn(\n",
      "/glade/work/ruppert/conda-envs/plotting/lib/python3.11/site-packages/distributed/client.py:3371: UserWarning: Sending large graph of size 19.79 MiB.\n",
      "This may cause some slowdown.\n",
      "Consider loading the data with Dask directly\n",
      " or using futures or delayed objects to embed the data into the graph without repetition.\n",
      "See also https://docs.dask.org/en/stable/best-practices.html#load-data-with-dask for more information.\n",
      "  warnings.warn(\n"
     ]
    },
    {
     "name": "stdout",
     "output_type": "stream",
     "text": [
      "Done writing /glade/derecho/scratch/ruppert/tc-crfrad/mpas/CLIM_RAD/CAPE_2000-05-03_12.00.00.zarr!\n"
     ]
    },
    {
     "name": "stderr",
     "output_type": "stream",
     "text": [
      "/glade/work/ruppert/conda-envs/plotting/lib/python3.11/site-packages/zarr/core/group.py:2566: ZarrUserWarning: The `compressor` argument is deprecated. Use `compressors` instead.\n",
      "  compressors = _parse_deprecated_compressor(\n",
      "/glade/work/ruppert/conda-envs/plotting/lib/python3.11/site-packages/zarr/api/asynchronous.py:233: ZarrUserWarning: Consolidated metadata is currently not part in the Zarr format 3 specification. It may not be supported by other zarr implementations and may change in the future.\n",
      "  warnings.warn(\n",
      "/glade/work/ruppert/conda-envs/plotting/lib/python3.11/site-packages/distributed/client.py:3371: UserWarning: Sending large graph of size 19.79 MiB.\n",
      "This may cause some slowdown.\n",
      "Consider loading the data with Dask directly\n",
      " or using futures or delayed objects to embed the data into the graph without repetition.\n",
      "See also https://docs.dask.org/en/stable/best-practices.html#load-data-with-dask for more information.\n",
      "  warnings.warn(\n"
     ]
    },
    {
     "name": "stdout",
     "output_type": "stream",
     "text": [
      "Done writing /glade/derecho/scratch/ruppert/tc-crfrad/mpas/CLIM_RAD/CAPE_2000-05-03_18.00.00.zarr!\n"
     ]
    },
    {
     "name": "stderr",
     "output_type": "stream",
     "text": [
      "/glade/work/ruppert/conda-envs/plotting/lib/python3.11/site-packages/zarr/core/group.py:2566: ZarrUserWarning: The `compressor` argument is deprecated. Use `compressors` instead.\n",
      "  compressors = _parse_deprecated_compressor(\n",
      "/glade/work/ruppert/conda-envs/plotting/lib/python3.11/site-packages/zarr/api/asynchronous.py:233: ZarrUserWarning: Consolidated metadata is currently not part in the Zarr format 3 specification. It may not be supported by other zarr implementations and may change in the future.\n",
      "  warnings.warn(\n",
      "/glade/work/ruppert/conda-envs/plotting/lib/python3.11/site-packages/distributed/client.py:3371: UserWarning: Sending large graph of size 19.79 MiB.\n",
      "This may cause some slowdown.\n",
      "Consider loading the data with Dask directly\n",
      " or using futures or delayed objects to embed the data into the graph without repetition.\n",
      "See also https://docs.dask.org/en/stable/best-practices.html#load-data-with-dask for more information.\n",
      "  warnings.warn(\n"
     ]
    },
    {
     "name": "stdout",
     "output_type": "stream",
     "text": [
      "Done writing /glade/derecho/scratch/ruppert/tc-crfrad/mpas/CLIM_RAD/CAPE_2000-05-04_00.00.00.zarr!\n"
     ]
    },
    {
     "name": "stderr",
     "output_type": "stream",
     "text": [
      "/glade/work/ruppert/conda-envs/plotting/lib/python3.11/site-packages/zarr/core/group.py:2566: ZarrUserWarning: The `compressor` argument is deprecated. Use `compressors` instead.\n",
      "  compressors = _parse_deprecated_compressor(\n",
      "/glade/work/ruppert/conda-envs/plotting/lib/python3.11/site-packages/zarr/api/asynchronous.py:233: ZarrUserWarning: Consolidated metadata is currently not part in the Zarr format 3 specification. It may not be supported by other zarr implementations and may change in the future.\n",
      "  warnings.warn(\n",
      "/glade/work/ruppert/conda-envs/plotting/lib/python3.11/site-packages/distributed/client.py:3371: UserWarning: Sending large graph of size 19.79 MiB.\n",
      "This may cause some slowdown.\n",
      "Consider loading the data with Dask directly\n",
      " or using futures or delayed objects to embed the data into the graph without repetition.\n",
      "See also https://docs.dask.org/en/stable/best-practices.html#load-data-with-dask for more information.\n",
      "  warnings.warn(\n"
     ]
    },
    {
     "name": "stdout",
     "output_type": "stream",
     "text": [
      "Done writing /glade/derecho/scratch/ruppert/tc-crfrad/mpas/CLIM_RAD/CAPE_2000-05-04_06.00.00.zarr!\n"
     ]
    },
    {
     "name": "stderr",
     "output_type": "stream",
     "text": [
      "/glade/work/ruppert/conda-envs/plotting/lib/python3.11/site-packages/zarr/core/group.py:2566: ZarrUserWarning: The `compressor` argument is deprecated. Use `compressors` instead.\n",
      "  compressors = _parse_deprecated_compressor(\n",
      "/glade/work/ruppert/conda-envs/plotting/lib/python3.11/site-packages/zarr/api/asynchronous.py:233: ZarrUserWarning: Consolidated metadata is currently not part in the Zarr format 3 specification. It may not be supported by other zarr implementations and may change in the future.\n",
      "  warnings.warn(\n",
      "/glade/work/ruppert/conda-envs/plotting/lib/python3.11/site-packages/distributed/client.py:3371: UserWarning: Sending large graph of size 19.79 MiB.\n",
      "This may cause some slowdown.\n",
      "Consider loading the data with Dask directly\n",
      " or using futures or delayed objects to embed the data into the graph without repetition.\n",
      "See also https://docs.dask.org/en/stable/best-practices.html#load-data-with-dask for more information.\n",
      "  warnings.warn(\n"
     ]
    },
    {
     "name": "stdout",
     "output_type": "stream",
     "text": [
      "Done writing /glade/derecho/scratch/ruppert/tc-crfrad/mpas/CLIM_RAD/CAPE_2000-05-04_12.00.00.zarr!\n"
     ]
    },
    {
     "name": "stderr",
     "output_type": "stream",
     "text": [
      "/glade/work/ruppert/conda-envs/plotting/lib/python3.11/site-packages/zarr/core/group.py:2566: ZarrUserWarning: The `compressor` argument is deprecated. Use `compressors` instead.\n",
      "  compressors = _parse_deprecated_compressor(\n",
      "/glade/work/ruppert/conda-envs/plotting/lib/python3.11/site-packages/zarr/api/asynchronous.py:233: ZarrUserWarning: Consolidated metadata is currently not part in the Zarr format 3 specification. It may not be supported by other zarr implementations and may change in the future.\n",
      "  warnings.warn(\n",
      "/glade/work/ruppert/conda-envs/plotting/lib/python3.11/site-packages/distributed/client.py:3371: UserWarning: Sending large graph of size 19.79 MiB.\n",
      "This may cause some slowdown.\n",
      "Consider loading the data with Dask directly\n",
      " or using futures or delayed objects to embed the data into the graph without repetition.\n",
      "See also https://docs.dask.org/en/stable/best-practices.html#load-data-with-dask for more information.\n",
      "  warnings.warn(\n"
     ]
    },
    {
     "name": "stdout",
     "output_type": "stream",
     "text": [
      "Done writing /glade/derecho/scratch/ruppert/tc-crfrad/mpas/CLIM_RAD/CAPE_2000-05-04_18.00.00.zarr!\n"
     ]
    },
    {
     "name": "stderr",
     "output_type": "stream",
     "text": [
      "/glade/work/ruppert/conda-envs/plotting/lib/python3.11/site-packages/zarr/core/group.py:2566: ZarrUserWarning: The `compressor` argument is deprecated. Use `compressors` instead.\n",
      "  compressors = _parse_deprecated_compressor(\n",
      "/glade/work/ruppert/conda-envs/plotting/lib/python3.11/site-packages/zarr/api/asynchronous.py:233: ZarrUserWarning: Consolidated metadata is currently not part in the Zarr format 3 specification. It may not be supported by other zarr implementations and may change in the future.\n",
      "  warnings.warn(\n",
      "/glade/work/ruppert/conda-envs/plotting/lib/python3.11/site-packages/distributed/client.py:3371: UserWarning: Sending large graph of size 19.79 MiB.\n",
      "This may cause some slowdown.\n",
      "Consider loading the data with Dask directly\n",
      " or using futures or delayed objects to embed the data into the graph without repetition.\n",
      "See also https://docs.dask.org/en/stable/best-practices.html#load-data-with-dask for more information.\n",
      "  warnings.warn(\n"
     ]
    },
    {
     "name": "stdout",
     "output_type": "stream",
     "text": [
      "Done writing /glade/derecho/scratch/ruppert/tc-crfrad/mpas/CLIM_RAD/CAPE_2000-05-05_00.00.00.zarr!\n"
     ]
    },
    {
     "name": "stderr",
     "output_type": "stream",
     "text": [
      "/glade/work/ruppert/conda-envs/plotting/lib/python3.11/site-packages/zarr/core/group.py:2566: ZarrUserWarning: The `compressor` argument is deprecated. Use `compressors` instead.\n",
      "  compressors = _parse_deprecated_compressor(\n",
      "/glade/work/ruppert/conda-envs/plotting/lib/python3.11/site-packages/zarr/api/asynchronous.py:233: ZarrUserWarning: Consolidated metadata is currently not part in the Zarr format 3 specification. It may not be supported by other zarr implementations and may change in the future.\n",
      "  warnings.warn(\n",
      "/glade/work/ruppert/conda-envs/plotting/lib/python3.11/site-packages/distributed/client.py:3371: UserWarning: Sending large graph of size 19.79 MiB.\n",
      "This may cause some slowdown.\n",
      "Consider loading the data with Dask directly\n",
      " or using futures or delayed objects to embed the data into the graph without repetition.\n",
      "See also https://docs.dask.org/en/stable/best-practices.html#load-data-with-dask for more information.\n",
      "  warnings.warn(\n"
     ]
    },
    {
     "name": "stdout",
     "output_type": "stream",
     "text": [
      "Done writing /glade/derecho/scratch/ruppert/tc-crfrad/mpas/CLIM_RAD/CAPE_2000-05-05_06.00.00.zarr!\n"
     ]
    },
    {
     "name": "stderr",
     "output_type": "stream",
     "text": [
      "/glade/work/ruppert/conda-envs/plotting/lib/python3.11/site-packages/zarr/core/group.py:2566: ZarrUserWarning: The `compressor` argument is deprecated. Use `compressors` instead.\n",
      "  compressors = _parse_deprecated_compressor(\n",
      "/glade/work/ruppert/conda-envs/plotting/lib/python3.11/site-packages/zarr/api/asynchronous.py:233: ZarrUserWarning: Consolidated metadata is currently not part in the Zarr format 3 specification. It may not be supported by other zarr implementations and may change in the future.\n",
      "  warnings.warn(\n",
      "/glade/work/ruppert/conda-envs/plotting/lib/python3.11/site-packages/distributed/client.py:3371: UserWarning: Sending large graph of size 19.79 MiB.\n",
      "This may cause some slowdown.\n",
      "Consider loading the data with Dask directly\n",
      " or using futures or delayed objects to embed the data into the graph without repetition.\n",
      "See also https://docs.dask.org/en/stable/best-practices.html#load-data-with-dask for more information.\n",
      "  warnings.warn(\n"
     ]
    },
    {
     "name": "stdout",
     "output_type": "stream",
     "text": [
      "Done writing /glade/derecho/scratch/ruppert/tc-crfrad/mpas/CLIM_RAD/CAPE_2000-05-05_12.00.00.zarr!\n"
     ]
    },
    {
     "name": "stderr",
     "output_type": "stream",
     "text": [
      "/glade/work/ruppert/conda-envs/plotting/lib/python3.11/site-packages/zarr/core/group.py:2566: ZarrUserWarning: The `compressor` argument is deprecated. Use `compressors` instead.\n",
      "  compressors = _parse_deprecated_compressor(\n",
      "/glade/work/ruppert/conda-envs/plotting/lib/python3.11/site-packages/zarr/api/asynchronous.py:233: ZarrUserWarning: Consolidated metadata is currently not part in the Zarr format 3 specification. It may not be supported by other zarr implementations and may change in the future.\n",
      "  warnings.warn(\n",
      "/glade/work/ruppert/conda-envs/plotting/lib/python3.11/site-packages/distributed/client.py:3371: UserWarning: Sending large graph of size 19.79 MiB.\n",
      "This may cause some slowdown.\n",
      "Consider loading the data with Dask directly\n",
      " or using futures or delayed objects to embed the data into the graph without repetition.\n",
      "See also https://docs.dask.org/en/stable/best-practices.html#load-data-with-dask for more information.\n",
      "  warnings.warn(\n"
     ]
    },
    {
     "name": "stdout",
     "output_type": "stream",
     "text": [
      "Done writing /glade/derecho/scratch/ruppert/tc-crfrad/mpas/CLIM_RAD/CAPE_2000-05-05_18.00.00.zarr!\n"
     ]
    },
    {
     "name": "stderr",
     "output_type": "stream",
     "text": [
      "/glade/work/ruppert/conda-envs/plotting/lib/python3.11/site-packages/zarr/core/group.py:2566: ZarrUserWarning: The `compressor` argument is deprecated. Use `compressors` instead.\n",
      "  compressors = _parse_deprecated_compressor(\n",
      "/glade/work/ruppert/conda-envs/plotting/lib/python3.11/site-packages/zarr/api/asynchronous.py:233: ZarrUserWarning: Consolidated metadata is currently not part in the Zarr format 3 specification. It may not be supported by other zarr implementations and may change in the future.\n",
      "  warnings.warn(\n",
      "/glade/work/ruppert/conda-envs/plotting/lib/python3.11/site-packages/distributed/client.py:3371: UserWarning: Sending large graph of size 19.79 MiB.\n",
      "This may cause some slowdown.\n",
      "Consider loading the data with Dask directly\n",
      " or using futures or delayed objects to embed the data into the graph without repetition.\n",
      "See also https://docs.dask.org/en/stable/best-practices.html#load-data-with-dask for more information.\n",
      "  warnings.warn(\n"
     ]
    },
    {
     "name": "stdout",
     "output_type": "stream",
     "text": [
      "Done writing /glade/derecho/scratch/ruppert/tc-crfrad/mpas/CLIM_RAD/CAPE_2000-05-06_00.00.00.zarr!\n"
     ]
    },
    {
     "name": "stderr",
     "output_type": "stream",
     "text": [
      "/glade/work/ruppert/conda-envs/plotting/lib/python3.11/site-packages/zarr/core/group.py:2566: ZarrUserWarning: The `compressor` argument is deprecated. Use `compressors` instead.\n",
      "  compressors = _parse_deprecated_compressor(\n",
      "/glade/work/ruppert/conda-envs/plotting/lib/python3.11/site-packages/zarr/api/asynchronous.py:233: ZarrUserWarning: Consolidated metadata is currently not part in the Zarr format 3 specification. It may not be supported by other zarr implementations and may change in the future.\n",
      "  warnings.warn(\n",
      "/glade/work/ruppert/conda-envs/plotting/lib/python3.11/site-packages/distributed/client.py:3371: UserWarning: Sending large graph of size 19.79 MiB.\n",
      "This may cause some slowdown.\n",
      "Consider loading the data with Dask directly\n",
      " or using futures or delayed objects to embed the data into the graph without repetition.\n",
      "See also https://docs.dask.org/en/stable/best-practices.html#load-data-with-dask for more information.\n",
      "  warnings.warn(\n"
     ]
    },
    {
     "name": "stdout",
     "output_type": "stream",
     "text": [
      "Done writing /glade/derecho/scratch/ruppert/tc-crfrad/mpas/CLIM_RAD/CAPE_2000-05-06_06.00.00.zarr!\n"
     ]
    },
    {
     "name": "stderr",
     "output_type": "stream",
     "text": [
      "/glade/work/ruppert/conda-envs/plotting/lib/python3.11/site-packages/zarr/core/group.py:2566: ZarrUserWarning: The `compressor` argument is deprecated. Use `compressors` instead.\n",
      "  compressors = _parse_deprecated_compressor(\n",
      "/glade/work/ruppert/conda-envs/plotting/lib/python3.11/site-packages/zarr/api/asynchronous.py:233: ZarrUserWarning: Consolidated metadata is currently not part in the Zarr format 3 specification. It may not be supported by other zarr implementations and may change in the future.\n",
      "  warnings.warn(\n",
      "/glade/work/ruppert/conda-envs/plotting/lib/python3.11/site-packages/distributed/client.py:3371: UserWarning: Sending large graph of size 19.79 MiB.\n",
      "This may cause some slowdown.\n",
      "Consider loading the data with Dask directly\n",
      " or using futures or delayed objects to embed the data into the graph without repetition.\n",
      "See also https://docs.dask.org/en/stable/best-practices.html#load-data-with-dask for more information.\n",
      "  warnings.warn(\n"
     ]
    },
    {
     "name": "stdout",
     "output_type": "stream",
     "text": [
      "Done writing /glade/derecho/scratch/ruppert/tc-crfrad/mpas/CLIM_RAD/CAPE_2000-05-06_12.00.00.zarr!\n"
     ]
    },
    {
     "name": "stderr",
     "output_type": "stream",
     "text": [
      "/glade/work/ruppert/conda-envs/plotting/lib/python3.11/site-packages/zarr/core/group.py:2566: ZarrUserWarning: The `compressor` argument is deprecated. Use `compressors` instead.\n",
      "  compressors = _parse_deprecated_compressor(\n",
      "/glade/work/ruppert/conda-envs/plotting/lib/python3.11/site-packages/zarr/api/asynchronous.py:233: ZarrUserWarning: Consolidated metadata is currently not part in the Zarr format 3 specification. It may not be supported by other zarr implementations and may change in the future.\n",
      "  warnings.warn(\n",
      "/glade/work/ruppert/conda-envs/plotting/lib/python3.11/site-packages/distributed/client.py:3371: UserWarning: Sending large graph of size 19.79 MiB.\n",
      "This may cause some slowdown.\n",
      "Consider loading the data with Dask directly\n",
      " or using futures or delayed objects to embed the data into the graph without repetition.\n",
      "See also https://docs.dask.org/en/stable/best-practices.html#load-data-with-dask for more information.\n",
      "  warnings.warn(\n"
     ]
    },
    {
     "name": "stdout",
     "output_type": "stream",
     "text": [
      "Done writing /glade/derecho/scratch/ruppert/tc-crfrad/mpas/CLIM_RAD/CAPE_2000-05-06_18.00.00.zarr!\n"
     ]
    },
    {
     "name": "stderr",
     "output_type": "stream",
     "text": [
      "/glade/work/ruppert/conda-envs/plotting/lib/python3.11/site-packages/zarr/core/group.py:2566: ZarrUserWarning: The `compressor` argument is deprecated. Use `compressors` instead.\n",
      "  compressors = _parse_deprecated_compressor(\n",
      "/glade/work/ruppert/conda-envs/plotting/lib/python3.11/site-packages/zarr/api/asynchronous.py:233: ZarrUserWarning: Consolidated metadata is currently not part in the Zarr format 3 specification. It may not be supported by other zarr implementations and may change in the future.\n",
      "  warnings.warn(\n",
      "/glade/work/ruppert/conda-envs/plotting/lib/python3.11/site-packages/distributed/client.py:3371: UserWarning: Sending large graph of size 19.79 MiB.\n",
      "This may cause some slowdown.\n",
      "Consider loading the data with Dask directly\n",
      " or using futures or delayed objects to embed the data into the graph without repetition.\n",
      "See also https://docs.dask.org/en/stable/best-practices.html#load-data-with-dask for more information.\n",
      "  warnings.warn(\n"
     ]
    },
    {
     "name": "stdout",
     "output_type": "stream",
     "text": [
      "Done writing /glade/derecho/scratch/ruppert/tc-crfrad/mpas/CLIM_RAD/CAPE_2000-05-07_00.00.00.zarr!\n"
     ]
    },
    {
     "name": "stderr",
     "output_type": "stream",
     "text": [
      "/glade/work/ruppert/conda-envs/plotting/lib/python3.11/site-packages/zarr/core/group.py:2566: ZarrUserWarning: The `compressor` argument is deprecated. Use `compressors` instead.\n",
      "  compressors = _parse_deprecated_compressor(\n",
      "/glade/work/ruppert/conda-envs/plotting/lib/python3.11/site-packages/zarr/api/asynchronous.py:233: ZarrUserWarning: Consolidated metadata is currently not part in the Zarr format 3 specification. It may not be supported by other zarr implementations and may change in the future.\n",
      "  warnings.warn(\n",
      "/glade/work/ruppert/conda-envs/plotting/lib/python3.11/site-packages/distributed/client.py:3371: UserWarning: Sending large graph of size 19.79 MiB.\n",
      "This may cause some slowdown.\n",
      "Consider loading the data with Dask directly\n",
      " or using futures or delayed objects to embed the data into the graph without repetition.\n",
      "See also https://docs.dask.org/en/stable/best-practices.html#load-data-with-dask for more information.\n",
      "  warnings.warn(\n"
     ]
    },
    {
     "name": "stdout",
     "output_type": "stream",
     "text": [
      "Done writing /glade/derecho/scratch/ruppert/tc-crfrad/mpas/CLIM_RAD/CAPE_2000-05-07_06.00.00.zarr!\n"
     ]
    },
    {
     "name": "stderr",
     "output_type": "stream",
     "text": [
      "/glade/work/ruppert/conda-envs/plotting/lib/python3.11/site-packages/zarr/core/group.py:2566: ZarrUserWarning: The `compressor` argument is deprecated. Use `compressors` instead.\n",
      "  compressors = _parse_deprecated_compressor(\n",
      "/glade/work/ruppert/conda-envs/plotting/lib/python3.11/site-packages/zarr/api/asynchronous.py:233: ZarrUserWarning: Consolidated metadata is currently not part in the Zarr format 3 specification. It may not be supported by other zarr implementations and may change in the future.\n",
      "  warnings.warn(\n",
      "/glade/work/ruppert/conda-envs/plotting/lib/python3.11/site-packages/distributed/client.py:3371: UserWarning: Sending large graph of size 19.79 MiB.\n",
      "This may cause some slowdown.\n",
      "Consider loading the data with Dask directly\n",
      " or using futures or delayed objects to embed the data into the graph without repetition.\n",
      "See also https://docs.dask.org/en/stable/best-practices.html#load-data-with-dask for more information.\n",
      "  warnings.warn(\n"
     ]
    },
    {
     "name": "stdout",
     "output_type": "stream",
     "text": [
      "Done writing /glade/derecho/scratch/ruppert/tc-crfrad/mpas/CLIM_RAD/CAPE_2000-05-07_12.00.00.zarr!\n"
     ]
    },
    {
     "name": "stderr",
     "output_type": "stream",
     "text": [
      "/glade/work/ruppert/conda-envs/plotting/lib/python3.11/site-packages/zarr/core/group.py:2566: ZarrUserWarning: The `compressor` argument is deprecated. Use `compressors` instead.\n",
      "  compressors = _parse_deprecated_compressor(\n",
      "/glade/work/ruppert/conda-envs/plotting/lib/python3.11/site-packages/zarr/api/asynchronous.py:233: ZarrUserWarning: Consolidated metadata is currently not part in the Zarr format 3 specification. It may not be supported by other zarr implementations and may change in the future.\n",
      "  warnings.warn(\n",
      "/glade/work/ruppert/conda-envs/plotting/lib/python3.11/site-packages/distributed/client.py:3371: UserWarning: Sending large graph of size 19.79 MiB.\n",
      "This may cause some slowdown.\n",
      "Consider loading the data with Dask directly\n",
      " or using futures or delayed objects to embed the data into the graph without repetition.\n",
      "See also https://docs.dask.org/en/stable/best-practices.html#load-data-with-dask for more information.\n",
      "  warnings.warn(\n"
     ]
    },
    {
     "name": "stdout",
     "output_type": "stream",
     "text": [
      "Done writing /glade/derecho/scratch/ruppert/tc-crfrad/mpas/CLIM_RAD/CAPE_2000-05-07_18.00.00.zarr!\n"
     ]
    },
    {
     "name": "stderr",
     "output_type": "stream",
     "text": [
      "/glade/work/ruppert/conda-envs/plotting/lib/python3.11/site-packages/zarr/core/group.py:2566: ZarrUserWarning: The `compressor` argument is deprecated. Use `compressors` instead.\n",
      "  compressors = _parse_deprecated_compressor(\n",
      "/glade/work/ruppert/conda-envs/plotting/lib/python3.11/site-packages/zarr/api/asynchronous.py:233: ZarrUserWarning: Consolidated metadata is currently not part in the Zarr format 3 specification. It may not be supported by other zarr implementations and may change in the future.\n",
      "  warnings.warn(\n",
      "/glade/work/ruppert/conda-envs/plotting/lib/python3.11/site-packages/distributed/client.py:3371: UserWarning: Sending large graph of size 19.79 MiB.\n",
      "This may cause some slowdown.\n",
      "Consider loading the data with Dask directly\n",
      " or using futures or delayed objects to embed the data into the graph without repetition.\n",
      "See also https://docs.dask.org/en/stable/best-practices.html#load-data-with-dask for more information.\n",
      "  warnings.warn(\n"
     ]
    },
    {
     "name": "stdout",
     "output_type": "stream",
     "text": [
      "Done writing /glade/derecho/scratch/ruppert/tc-crfrad/mpas/CLIM_RAD/CAPE_2000-05-08_00.00.00.zarr!\n"
     ]
    },
    {
     "name": "stderr",
     "output_type": "stream",
     "text": [
      "/glade/work/ruppert/conda-envs/plotting/lib/python3.11/site-packages/zarr/core/group.py:2566: ZarrUserWarning: The `compressor` argument is deprecated. Use `compressors` instead.\n",
      "  compressors = _parse_deprecated_compressor(\n",
      "/glade/work/ruppert/conda-envs/plotting/lib/python3.11/site-packages/zarr/api/asynchronous.py:233: ZarrUserWarning: Consolidated metadata is currently not part in the Zarr format 3 specification. It may not be supported by other zarr implementations and may change in the future.\n",
      "  warnings.warn(\n",
      "/glade/work/ruppert/conda-envs/plotting/lib/python3.11/site-packages/distributed/client.py:3371: UserWarning: Sending large graph of size 19.79 MiB.\n",
      "This may cause some slowdown.\n",
      "Consider loading the data with Dask directly\n",
      " or using futures or delayed objects to embed the data into the graph without repetition.\n",
      "See also https://docs.dask.org/en/stable/best-practices.html#load-data-with-dask for more information.\n",
      "  warnings.warn(\n"
     ]
    },
    {
     "name": "stdout",
     "output_type": "stream",
     "text": [
      "Done writing /glade/derecho/scratch/ruppert/tc-crfrad/mpas/CLIM_RAD/CAPE_2000-05-08_06.00.00.zarr!\n"
     ]
    },
    {
     "name": "stderr",
     "output_type": "stream",
     "text": [
      "/glade/work/ruppert/conda-envs/plotting/lib/python3.11/site-packages/zarr/core/group.py:2566: ZarrUserWarning: The `compressor` argument is deprecated. Use `compressors` instead.\n",
      "  compressors = _parse_deprecated_compressor(\n",
      "/glade/work/ruppert/conda-envs/plotting/lib/python3.11/site-packages/zarr/api/asynchronous.py:233: ZarrUserWarning: Consolidated metadata is currently not part in the Zarr format 3 specification. It may not be supported by other zarr implementations and may change in the future.\n",
      "  warnings.warn(\n",
      "/glade/work/ruppert/conda-envs/plotting/lib/python3.11/site-packages/distributed/client.py:3371: UserWarning: Sending large graph of size 19.79 MiB.\n",
      "This may cause some slowdown.\n",
      "Consider loading the data with Dask directly\n",
      " or using futures or delayed objects to embed the data into the graph without repetition.\n",
      "See also https://docs.dask.org/en/stable/best-practices.html#load-data-with-dask for more information.\n",
      "  warnings.warn(\n"
     ]
    },
    {
     "name": "stdout",
     "output_type": "stream",
     "text": [
      "Done writing /glade/derecho/scratch/ruppert/tc-crfrad/mpas/CLIM_RAD/CAPE_2000-05-08_12.00.00.zarr!\n"
     ]
    },
    {
     "name": "stderr",
     "output_type": "stream",
     "text": [
      "/glade/work/ruppert/conda-envs/plotting/lib/python3.11/site-packages/zarr/core/group.py:2566: ZarrUserWarning: The `compressor` argument is deprecated. Use `compressors` instead.\n",
      "  compressors = _parse_deprecated_compressor(\n",
      "/glade/work/ruppert/conda-envs/plotting/lib/python3.11/site-packages/zarr/api/asynchronous.py:233: ZarrUserWarning: Consolidated metadata is currently not part in the Zarr format 3 specification. It may not be supported by other zarr implementations and may change in the future.\n",
      "  warnings.warn(\n",
      "/glade/work/ruppert/conda-envs/plotting/lib/python3.11/site-packages/distributed/client.py:3371: UserWarning: Sending large graph of size 19.79 MiB.\n",
      "This may cause some slowdown.\n",
      "Consider loading the data with Dask directly\n",
      " or using futures or delayed objects to embed the data into the graph without repetition.\n",
      "See also https://docs.dask.org/en/stable/best-practices.html#load-data-with-dask for more information.\n",
      "  warnings.warn(\n"
     ]
    },
    {
     "name": "stdout",
     "output_type": "stream",
     "text": [
      "Done writing /glade/derecho/scratch/ruppert/tc-crfrad/mpas/CLIM_RAD/CAPE_2000-05-08_18.00.00.zarr!\n"
     ]
    },
    {
     "name": "stderr",
     "output_type": "stream",
     "text": [
      "/glade/work/ruppert/conda-envs/plotting/lib/python3.11/site-packages/zarr/core/group.py:2566: ZarrUserWarning: The `compressor` argument is deprecated. Use `compressors` instead.\n",
      "  compressors = _parse_deprecated_compressor(\n",
      "/glade/work/ruppert/conda-envs/plotting/lib/python3.11/site-packages/zarr/api/asynchronous.py:233: ZarrUserWarning: Consolidated metadata is currently not part in the Zarr format 3 specification. It may not be supported by other zarr implementations and may change in the future.\n",
      "  warnings.warn(\n",
      "/glade/work/ruppert/conda-envs/plotting/lib/python3.11/site-packages/distributed/client.py:3371: UserWarning: Sending large graph of size 19.79 MiB.\n",
      "This may cause some slowdown.\n",
      "Consider loading the data with Dask directly\n",
      " or using futures or delayed objects to embed the data into the graph without repetition.\n",
      "See also https://docs.dask.org/en/stable/best-practices.html#load-data-with-dask for more information.\n",
      "  warnings.warn(\n"
     ]
    },
    {
     "name": "stdout",
     "output_type": "stream",
     "text": [
      "Done writing /glade/derecho/scratch/ruppert/tc-crfrad/mpas/CLIM_RAD/CAPE_2000-05-09_00.00.00.zarr!\n"
     ]
    },
    {
     "name": "stderr",
     "output_type": "stream",
     "text": [
      "/glade/work/ruppert/conda-envs/plotting/lib/python3.11/site-packages/zarr/core/group.py:2566: ZarrUserWarning: The `compressor` argument is deprecated. Use `compressors` instead.\n",
      "  compressors = _parse_deprecated_compressor(\n",
      "/glade/work/ruppert/conda-envs/plotting/lib/python3.11/site-packages/zarr/api/asynchronous.py:233: ZarrUserWarning: Consolidated metadata is currently not part in the Zarr format 3 specification. It may not be supported by other zarr implementations and may change in the future.\n",
      "  warnings.warn(\n",
      "/glade/work/ruppert/conda-envs/plotting/lib/python3.11/site-packages/distributed/client.py:3371: UserWarning: Sending large graph of size 19.79 MiB.\n",
      "This may cause some slowdown.\n",
      "Consider loading the data with Dask directly\n",
      " or using futures or delayed objects to embed the data into the graph without repetition.\n",
      "See also https://docs.dask.org/en/stable/best-practices.html#load-data-with-dask for more information.\n",
      "  warnings.warn(\n"
     ]
    },
    {
     "name": "stdout",
     "output_type": "stream",
     "text": [
      "Done writing /glade/derecho/scratch/ruppert/tc-crfrad/mpas/CLIM_RAD/CAPE_2000-05-09_06.00.00.zarr!\n"
     ]
    },
    {
     "name": "stderr",
     "output_type": "stream",
     "text": [
      "/glade/work/ruppert/conda-envs/plotting/lib/python3.11/site-packages/zarr/core/group.py:2566: ZarrUserWarning: The `compressor` argument is deprecated. Use `compressors` instead.\n",
      "  compressors = _parse_deprecated_compressor(\n",
      "/glade/work/ruppert/conda-envs/plotting/lib/python3.11/site-packages/zarr/api/asynchronous.py:233: ZarrUserWarning: Consolidated metadata is currently not part in the Zarr format 3 specification. It may not be supported by other zarr implementations and may change in the future.\n",
      "  warnings.warn(\n",
      "/glade/work/ruppert/conda-envs/plotting/lib/python3.11/site-packages/distributed/client.py:3371: UserWarning: Sending large graph of size 19.79 MiB.\n",
      "This may cause some slowdown.\n",
      "Consider loading the data with Dask directly\n",
      " or using futures or delayed objects to embed the data into the graph without repetition.\n",
      "See also https://docs.dask.org/en/stable/best-practices.html#load-data-with-dask for more information.\n",
      "  warnings.warn(\n"
     ]
    },
    {
     "name": "stdout",
     "output_type": "stream",
     "text": [
      "Done writing /glade/derecho/scratch/ruppert/tc-crfrad/mpas/CLIM_RAD/CAPE_2000-05-09_12.00.00.zarr!\n"
     ]
    },
    {
     "name": "stderr",
     "output_type": "stream",
     "text": [
      "/glade/work/ruppert/conda-envs/plotting/lib/python3.11/site-packages/zarr/core/group.py:2566: ZarrUserWarning: The `compressor` argument is deprecated. Use `compressors` instead.\n",
      "  compressors = _parse_deprecated_compressor(\n",
      "/glade/work/ruppert/conda-envs/plotting/lib/python3.11/site-packages/zarr/api/asynchronous.py:233: ZarrUserWarning: Consolidated metadata is currently not part in the Zarr format 3 specification. It may not be supported by other zarr implementations and may change in the future.\n",
      "  warnings.warn(\n",
      "/glade/work/ruppert/conda-envs/plotting/lib/python3.11/site-packages/distributed/client.py:3371: UserWarning: Sending large graph of size 19.79 MiB.\n",
      "This may cause some slowdown.\n",
      "Consider loading the data with Dask directly\n",
      " or using futures or delayed objects to embed the data into the graph without repetition.\n",
      "See also https://docs.dask.org/en/stable/best-practices.html#load-data-with-dask for more information.\n",
      "  warnings.warn(\n"
     ]
    },
    {
     "name": "stdout",
     "output_type": "stream",
     "text": [
      "Done writing /glade/derecho/scratch/ruppert/tc-crfrad/mpas/CLIM_RAD/CAPE_2000-05-09_18.00.00.zarr!\n"
     ]
    },
    {
     "name": "stderr",
     "output_type": "stream",
     "text": [
      "/glade/work/ruppert/conda-envs/plotting/lib/python3.11/site-packages/zarr/core/group.py:2566: ZarrUserWarning: The `compressor` argument is deprecated. Use `compressors` instead.\n",
      "  compressors = _parse_deprecated_compressor(\n",
      "/glade/work/ruppert/conda-envs/plotting/lib/python3.11/site-packages/zarr/api/asynchronous.py:233: ZarrUserWarning: Consolidated metadata is currently not part in the Zarr format 3 specification. It may not be supported by other zarr implementations and may change in the future.\n",
      "  warnings.warn(\n",
      "/glade/work/ruppert/conda-envs/plotting/lib/python3.11/site-packages/distributed/client.py:3371: UserWarning: Sending large graph of size 19.79 MiB.\n",
      "This may cause some slowdown.\n",
      "Consider loading the data with Dask directly\n",
      " or using futures or delayed objects to embed the data into the graph without repetition.\n",
      "See also https://docs.dask.org/en/stable/best-practices.html#load-data-with-dask for more information.\n",
      "  warnings.warn(\n"
     ]
    },
    {
     "name": "stdout",
     "output_type": "stream",
     "text": [
      "Done writing /glade/derecho/scratch/ruppert/tc-crfrad/mpas/CLIM_RAD/CAPE_2000-05-10_00.00.00.zarr!\n"
     ]
    },
    {
     "name": "stderr",
     "output_type": "stream",
     "text": [
      "/glade/work/ruppert/conda-envs/plotting/lib/python3.11/site-packages/zarr/core/group.py:2566: ZarrUserWarning: The `compressor` argument is deprecated. Use `compressors` instead.\n",
      "  compressors = _parse_deprecated_compressor(\n",
      "/glade/work/ruppert/conda-envs/plotting/lib/python3.11/site-packages/zarr/api/asynchronous.py:233: ZarrUserWarning: Consolidated metadata is currently not part in the Zarr format 3 specification. It may not be supported by other zarr implementations and may change in the future.\n",
      "  warnings.warn(\n",
      "/glade/work/ruppert/conda-envs/plotting/lib/python3.11/site-packages/distributed/client.py:3371: UserWarning: Sending large graph of size 19.79 MiB.\n",
      "This may cause some slowdown.\n",
      "Consider loading the data with Dask directly\n",
      " or using futures or delayed objects to embed the data into the graph without repetition.\n",
      "See also https://docs.dask.org/en/stable/best-practices.html#load-data-with-dask for more information.\n",
      "  warnings.warn(\n"
     ]
    },
    {
     "name": "stdout",
     "output_type": "stream",
     "text": [
      "Done writing /glade/derecho/scratch/ruppert/tc-crfrad/mpas/CLIM_RAD/CAPE_2000-05-10_06.00.00.zarr!\n"
     ]
    },
    {
     "name": "stderr",
     "output_type": "stream",
     "text": [
      "/glade/work/ruppert/conda-envs/plotting/lib/python3.11/site-packages/zarr/core/group.py:2566: ZarrUserWarning: The `compressor` argument is deprecated. Use `compressors` instead.\n",
      "  compressors = _parse_deprecated_compressor(\n",
      "/glade/work/ruppert/conda-envs/plotting/lib/python3.11/site-packages/zarr/api/asynchronous.py:233: ZarrUserWarning: Consolidated metadata is currently not part in the Zarr format 3 specification. It may not be supported by other zarr implementations and may change in the future.\n",
      "  warnings.warn(\n",
      "/glade/work/ruppert/conda-envs/plotting/lib/python3.11/site-packages/distributed/client.py:3371: UserWarning: Sending large graph of size 19.79 MiB.\n",
      "This may cause some slowdown.\n",
      "Consider loading the data with Dask directly\n",
      " or using futures or delayed objects to embed the data into the graph without repetition.\n",
      "See also https://docs.dask.org/en/stable/best-practices.html#load-data-with-dask for more information.\n",
      "  warnings.warn(\n"
     ]
    },
    {
     "name": "stdout",
     "output_type": "stream",
     "text": [
      "Done writing /glade/derecho/scratch/ruppert/tc-crfrad/mpas/CLIM_RAD/CAPE_2000-05-10_12.00.00.zarr!\n"
     ]
    },
    {
     "name": "stderr",
     "output_type": "stream",
     "text": [
      "/glade/work/ruppert/conda-envs/plotting/lib/python3.11/site-packages/zarr/core/group.py:2566: ZarrUserWarning: The `compressor` argument is deprecated. Use `compressors` instead.\n",
      "  compressors = _parse_deprecated_compressor(\n",
      "/glade/work/ruppert/conda-envs/plotting/lib/python3.11/site-packages/zarr/api/asynchronous.py:233: ZarrUserWarning: Consolidated metadata is currently not part in the Zarr format 3 specification. It may not be supported by other zarr implementations and may change in the future.\n",
      "  warnings.warn(\n",
      "/glade/work/ruppert/conda-envs/plotting/lib/python3.11/site-packages/distributed/client.py:3371: UserWarning: Sending large graph of size 19.79 MiB.\n",
      "This may cause some slowdown.\n",
      "Consider loading the data with Dask directly\n",
      " or using futures or delayed objects to embed the data into the graph without repetition.\n",
      "See also https://docs.dask.org/en/stable/best-practices.html#load-data-with-dask for more information.\n",
      "  warnings.warn(\n"
     ]
    },
    {
     "name": "stdout",
     "output_type": "stream",
     "text": [
      "Done writing /glade/derecho/scratch/ruppert/tc-crfrad/mpas/CLIM_RAD/CAPE_2000-05-10_18.00.00.zarr!\n"
     ]
    },
    {
     "name": "stderr",
     "output_type": "stream",
     "text": [
      "/glade/work/ruppert/conda-envs/plotting/lib/python3.11/site-packages/zarr/core/group.py:2566: ZarrUserWarning: The `compressor` argument is deprecated. Use `compressors` instead.\n",
      "  compressors = _parse_deprecated_compressor(\n",
      "/glade/work/ruppert/conda-envs/plotting/lib/python3.11/site-packages/zarr/api/asynchronous.py:233: ZarrUserWarning: Consolidated metadata is currently not part in the Zarr format 3 specification. It may not be supported by other zarr implementations and may change in the future.\n",
      "  warnings.warn(\n",
      "/glade/work/ruppert/conda-envs/plotting/lib/python3.11/site-packages/distributed/client.py:3371: UserWarning: Sending large graph of size 19.79 MiB.\n",
      "This may cause some slowdown.\n",
      "Consider loading the data with Dask directly\n",
      " or using futures or delayed objects to embed the data into the graph without repetition.\n",
      "See also https://docs.dask.org/en/stable/best-practices.html#load-data-with-dask for more information.\n",
      "  warnings.warn(\n"
     ]
    },
    {
     "name": "stdout",
     "output_type": "stream",
     "text": [
      "Done writing /glade/derecho/scratch/ruppert/tc-crfrad/mpas/CLIM_RAD/CAPE_2000-05-11_00.00.00.zarr!\n"
     ]
    }
   ],
   "source": [
    "# Possible looping over time\n",
    "\n",
    "# if do_write:\n",
    "\n",
    "model_path = \"/glade/campaign/mmm/dpm/rberrios/glade_scratch/MPAS_APE/aqua_sstmax10N_ASD/\"\n",
    "\n",
    "for expName in exp_names:\n",
    "\n",
    "    writeout_path = f\"/glade/derecho/scratch/ruppert/tc-crfrad/mpas/{expName}\"\n",
    "\n",
    "    for it in range(ntimes):\n",
    "    # for it in range(19,20):\n",
    "\n",
    "        time = file_times[it]\n",
    "\n",
    "        out_path = f\"{writeout_path}/CAPE_{time}.zarr\"\n",
    "        if os.path.exists(out_path):\n",
    "            # shutil.rmtree(out_path)\n",
    "            print(f\"{out_path} exists, skipping...\")\n",
    "            continue\n",
    "\n",
    "        # Choose experiment and read in model data\n",
    "        data_path = f\"{model_path}{expName}/TC_3km/\"\n",
    "        diag_files = data_path+'diag.'+time+'.nc'\n",
    "\n",
    "        # nCells_chunk_size = 100000\n",
    "        nCells_chunk_size = 10000\n",
    "        ds = xr.open_mfdataset(diag_files,\n",
    "                    parallel=True, \n",
    "                    chunks={\"Time\": -1, \"nCells\": nCells_chunk_size})\n",
    "\n",
    "        ds = ds.isel(Time=0)#,  nCells=slice(0,10000))\n",
    "        # ds = ds.isel(nCells=slice(0,100000))\n",
    "\n",
    "        # apply function over chunks\n",
    "        cape, cin = xr.apply_ufunc(\n",
    "            cape_wrapper,\n",
    "            tmpk_from_theta(ds.theta, ds.pressure), ds.qv, ds.pressure,\n",
    "            input_core_dims=[[\"nVertLevels\"], [\"nVertLevels\"], [\"nVertLevels\"]],\n",
    "            output_core_dims=[[], []],     # scalar per column for both outputs\n",
    "            vectorize=False,\n",
    "            dask=\"parallelized\",\n",
    "            output_dtypes=[float, float],\n",
    "        )\n",
    "\n",
    "        cape.name = \"CAPE\"\n",
    "        cin.name = \"CIN\"\n",
    "\n",
    "        # Variables attributes\n",
    "        cape.attrs = {\n",
    "            \"long_name\": \"Surface parcel CAPE\",\n",
    "            \"units\": \"J kg-1\",\n",
    "            \"description\": \"Computed using pyPI functions from Daniel Gilford\"\n",
    "        }\n",
    "        cin.attrs = {\n",
    "            \"long_name\": \"Surface parcel CINH\",\n",
    "            \"units\": \"J kg-1\",\n",
    "            \"description\": \"Negative buoyant energy before reaching LFC\"\n",
    "        }\n",
    "\n",
    "        merged = xr.merge([cape, cin])\n",
    "\n",
    "        # out_path = f\"{writeout_path}/CAPE_{time}.nc\"\n",
    "        # merged.to_netcdf(out_path, mode=\"w\", compute=True, format='NETCDF4')\n",
    "\n",
    "        # Write to Zarr; Dask computes in chunks\n",
    "        merged.to_zarr(out_path, mode='w', compute=True,\n",
    "                    encoding = {\n",
    "                        \"CAPE\": {\"dtype\": \"float32\", \"chunks\": (nCells_chunk_size,), \"compressor\": None},\n",
    "                        \"CIN\":  {\"dtype\": \"float32\", \"chunks\": (nCells_chunk_size,), \"compressor\": None},\n",
    "                    })\n",
    "\n",
    "        print(f\"Done writing {out_path}!\")"
   ]
  },
  {
   "cell_type": "markdown",
   "metadata": {},
   "source": [
    "### Close cluster"
   ]
  },
  {
   "cell_type": "code",
   "execution_count": 9,
   "metadata": {},
   "outputs": [],
   "source": [
    "cluster.close()"
   ]
  },
  {
   "cell_type": "markdown",
   "metadata": {},
   "source": [
    "### Plot CAPE"
   ]
  },
  {
   "cell_type": "code",
   "execution_count": 10,
   "metadata": {},
   "outputs": [],
   "source": [
    "# ll_bounds = (0,60,0,30)\n",
    "# filter = np.where((lonCell >= ll_bounds[0]) &\n",
    "#                   (lonCell <= ll_bounds[1]) &\n",
    "#                   (latCell >= ll_bounds[2]) &\n",
    "#                   (latCell <= ll_bounds[3]))[0]"
   ]
  },
  {
   "cell_type": "code",
   "execution_count": 11,
   "metadata": {},
   "outputs": [],
   "source": [
    "# sns.set_palette('muted')\n",
    "\n",
    "# # for it, itime in enumerate(file_times_read):\n",
    "\n",
    "# fig = plt.figure(figsize=(12,10))\n",
    "# ax = fig.add_subplot(111, projection=ccrs.Mollweide())\n",
    "# ax.gridlines()#draw_labels=True, x_inline=False, y_inline=False)#, dms=True)\n",
    "\n",
    "# sc = ax.scatter(lonCell, latCell, c=cape, s=1, transform=ccrs.PlateCarree())\n",
    "\n",
    "# cbar=plt.colorbar(sc, ax=ax, fraction=0.03, pad=0.02, shrink=0.65)\n",
    "# ax.set_title(f\"CAPE ({expName}, {time})\", fontsize=16)\n",
    "# # plt.ylim((-5,25))\n",
    "\n",
    "# plt.tight_layout()\n",
    "# plt.show()\n",
    "# # plt.savefig(f\"cape_map_{expName}_{time}.png\", dpi=200)"
   ]
  }
 ],
 "metadata": {
  "kernelspec": {
   "display_name": "plotting",
   "language": "python",
   "name": "python3"
  },
  "language_info": {
   "codemirror_mode": {
    "name": "ipython",
    "version": 3
   },
   "file_extension": ".py",
   "mimetype": "text/x-python",
   "name": "python",
   "nbconvert_exporter": "python",
   "pygments_lexer": "ipython3",
   "version": "3.11.10"
  }
 },
 "nbformat": 4,
 "nbformat_minor": 2
}
