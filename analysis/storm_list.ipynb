{
 "cells": [
  {
   "cell_type": "markdown",
   "metadata": {},
   "source": [
    "Notebook to analyze list of tropical cyclones compiled from Best Track by Frederick Tam.\n",
    "\n",
    "James Ruppert  \n",
    "jruppert@ou.edu  \n",
    "10/07/24"
   ]
  },
  {
   "cell_type": "markdown",
   "metadata": {},
   "source": [
    "### Main settings"
   ]
  },
  {
   "cell_type": "code",
   "execution_count": 2,
   "metadata": {},
   "outputs": [],
   "source": [
    "import numpy as np\n",
    "import matplotlib.pyplot as plt\n",
    "from matplotlib import rc\n",
    "import pandas as pd\n",
    "import seaborn as sns"
   ]
  },
  {
   "cell_type": "code",
   "execution_count": 8,
   "metadata": {},
   "outputs": [
    {
     "data": {
      "text/plain": [
       "0      13\n",
       "1      19\n",
       "2      24\n",
       "3       2\n",
       "4       3\n",
       "       ..\n",
       "258     9\n",
       "259    16\n",
       "260    17\n",
       "261    24\n",
       "262    25\n",
       "Name: index, Length: 263, dtype: int64"
      ]
     },
     "execution_count": 8,
     "metadata": {},
     "output_type": "execute_result"
    }
   ],
   "source": [
    "list_path = \"../storm-lists/stormlist_withMPIdistance.csv\"\n",
    "df = pd.read_csv(list_path)#, sep=',', on_bad_lines='skip', skiprows=4)\n",
    "df['index']"
   ]
  }
 ],
 "metadata": {
  "kernelspec": {
   "display_name": "Python 3",
   "language": "python",
   "name": "python3"
  },
  "language_info": {
   "codemirror_mode": {
    "name": "ipython",
    "version": 3
   },
   "file_extension": ".py",
   "mimetype": "text/x-python",
   "name": "python",
   "nbconvert_exporter": "python",
   "pygments_lexer": "ipython3",
   "version": "3.8.13"
  }
 },
 "nbformat": 4,
 "nbformat_minor": 2
}
