{
 "cells": [
  {
   "cell_type": "markdown",
   "metadata": {},
   "source": [
    "#### Jupyter notebook to compute shear across ERA5 ensemble for Nepartak forcing data.\n",
    "\n",
    "James Ruppert  \n",
    "jruppert@ou.edu  \n",
    "6/15/25\n",
    "\n",
    "With support from ChatGPT"
   ]
  },
  {
   "cell_type": "markdown",
   "metadata": {},
   "source": [
    "#### Main Settings"
   ]
  },
  {
   "cell_type": "code",
   "execution_count": 1,
   "metadata": {},
   "outputs": [],
   "source": [
    "import numpy as np\n",
    "from matplotlib import rc\n",
    "import matplotlib.pyplot as plt\n",
    "import seaborn as sns\n",
    "from geopy.distance import distance\n",
    "from read_wrf_functions import *\n",
    "import xarray as xr\n",
    "from tropycal import tracks"
   ]
  },
  {
   "cell_type": "code",
   "execution_count": 2,
   "metadata": {},
   "outputs": [],
   "source": [
    "# Write pickle files out for shear?\n",
    "do_readwrite = True\n",
    "# do_readwrite = False\n",
    "\n",
    "#### Directories and grib files\n",
    "datdir = \"/glade/campaign/univ/uokl0049/nepartak/\"\n",
    "file_tag=\"mem*/grib/ERA*-pl*grib\"\n",
    "\n",
    "# Get grib file ensemble\n",
    "grib_files = get_wrf_file_list(datdir, file_tag)\n",
    "nmemb = len(grib_files)\n",
    "# grib_files\n",
    "\n",
    "# General regional subset to work with smaller dataset\n",
    "latmin, latmax, lonmin, lonmax = -4, 33.0, 110.0, 156.0\n",
    "\n",
    "# Get times\n",
    "grib_file = xr.open_mfdataset(grib_files[0], engine=\"cfgrib\", combine='by_coords')\n",
    "grib_file = grib_file.sel(latitude=slice(latmax, latmin), longitude=slice(lonmin, lonmax))\n",
    "grib_times = grib_file.time.values.astype('datetime64[m]')\n",
    "# Create 2D mesh of lat-lon points\n",
    "lat = grib_file['latitude']\n",
    "lon = grib_file['longitude']\n",
    "lon2d, lat2d = np.meshgrid(lon, lat)\n",
    "grib_file.close()\n",
    "\n",
    "nt_grib = len(grib_times)"
   ]
  },
  {
   "cell_type": "code",
   "execution_count": 3,
   "metadata": {},
   "outputs": [],
   "source": [
    "# # Print some metadata\n",
    "# ds_plevs = xr.open_mfdataset(grib_files[0], combine='by_coords', engine=\"cfgrib\", filter_by_keys={'typeOfLevel': 'isobaricInhPa'})\n",
    "\n",
    "# for ds in [ds_plevs]:\n",
    "#     for ivar in ds.data_vars:\n",
    "#         print(ivar)\n",
    "#         print(ds[ivar].attrs['standard_name'])\n",
    "#         print(ds[ivar].attrs['long_name'])\n",
    "#         print(ds[ivar].dims)\n",
    "#         print(ds[ivar].units)\n",
    "#         print(ds[ivar].shape)\n",
    "#         print()"
   ]
  },
  {
   "cell_type": "markdown",
   "metadata": {},
   "source": [
    "### Read and process data"
   ]
  },
  {
   "cell_type": "markdown",
   "metadata": {},
   "source": [
    "#### Read in observed storm track"
   ]
  },
  {
   "cell_type": "code",
   "execution_count": 5,
   "metadata": {},
   "outputs": [],
   "source": [
    "# Read in basin only if it hasn't been yet\n",
    "if 'basin' not in locals():\n",
    "    basin = tracks.TrackDataset(basin='west_pacific',source='ibtracs')\n",
    "storm = basin.get_storm(('nepartak',2016))\n",
    "tc_track = {\n",
    "    'vmax': storm.vars['vmax'],\n",
    "    'mslp': storm.vars['mslp'],\n",
    "    'lon': storm.vars['lon'],\n",
    "    'lat': storm.vars['lat'],\n",
    "    'time': np.array(storm.vars['time'], dtype='datetime64[m]'),\n",
    "    # 'lon': storm.vars['wmo_lon'],\n",
    "    # 'lat': storm.vars['wmo_lat'],\n",
    "    }"
   ]
  },
  {
   "cell_type": "code",
   "execution_count": 6,
   "metadata": {},
   "outputs": [],
   "source": [
    "# Interpolate observed TC track to GRIB data times\n",
    "\n",
    "valid_times = []\n",
    "vmax = []\n",
    "pres = []\n",
    "ilon = []\n",
    "ilat = []\n",
    "for it in range(nt_grib):\n",
    "    # Skip if the time is not in the TC track\n",
    "    if grib_times[it] < np.min(tc_track['time']) or grib_times[it] > np.max(tc_track['time']):\n",
    "        continue\n",
    "    # print(f\"Interpolating TC track for time {grib_times[it]}\")\n",
    "    valid_times.append(grib_times[it])\n",
    "    vmax.append(np.interp(grib_times[it].astype(float), tc_track['time'].astype(float), tc_track['vmax']))\n",
    "    pres.append(np.interp(grib_times[it].astype(float), tc_track['time'].astype(float), tc_track['mslp']))\n",
    "    ilon.append(np.interp(grib_times[it].astype(float), tc_track['time'].astype(float), tc_track['lon']))\n",
    "    ilat.append(np.interp(grib_times[it].astype(float), tc_track['time'].astype(float), tc_track['lat']))\n",
    "\n",
    "# Convert lists to numpy arrays\n",
    "tc_track_gribtimes = {\n",
    "    'time': np.array(valid_times, dtype='datetime64[m]'),\n",
    "    'vmax': np.array(vmax),\n",
    "    'mslp': np.array(pres),\n",
    "    'lon': np.array(ilon),\n",
    "    'lat': np.array(ilat),\n",
    "}\n",
    "\n",
    "nt_interp = len(tc_track_gribtimes['time'])"
   ]
  },
  {
   "cell_type": "markdown",
   "metadata": {},
   "source": [
    "#### Run ERA5 processing for testing"
   ]
  },
  {
   "cell_type": "code",
   "execution_count": 7,
   "metadata": {},
   "outputs": [],
   "source": [
    "# # Get list of surface files\n",
    "# file_tag=\"mem*/grib/ERA*-sl*grib\"\n",
    "# # Get grib file ensemble\n",
    "# sfc_grib_files = get_wrf_file_list(datdir, file_tag)\n",
    "# sfc_grib_files[0]"
   ]
  },
  {
   "cell_type": "code",
   "execution_count": 8,
   "metadata": {},
   "outputs": [],
   "source": [
    "# # Parameters for shear calculation\n",
    "# plevs_shear=(850,200)\n",
    "# radius_min_km = 200 # Maximum distance from TC center to compute shear\n",
    "# radius_max_km = 800\n",
    "\n",
    "# # Compute great-circle distance from each grid point to center point\n",
    "# def compute_distance_grid(lat_grid, lon_grid, center_lat, center_lon):\n",
    "#     flat_lat = lat_grid.ravel()\n",
    "#     flat_lon = lon_grid.ravel()\n",
    "#     distances = np.array([\n",
    "#         distance((center_lat, center_lon), (la, lo)).km\n",
    "#         for la, lo in zip(flat_lat, flat_lon)\n",
    "#     ])\n",
    "#     return distances.reshape(lat_grid.shape)\n",
    "\n",
    "# # mean_shear_ens = []\n",
    "\n",
    "# # for imember, grib_file in enumerate(tqdm_notebook(grib_files[:2])):\n",
    "\n",
    "# ds = xr.open_mfdataset(grib_files[0], engine=\"cfgrib\", combine='by_coords',\n",
    "#                        filter_by_keys={'typeOfLevel': 'isobaricInhPa'})\n",
    "# # ds = xr.open_mfdataset(sfc_grib_files[0], combine='by_coords', engine=\"cfgrib\",\n",
    "# #                            filter_by_keys={'typeOfLevel': 'surface'})\n",
    "# ds = ds.sel(latitude=slice(latmax, latmin), longitude=slice(lonmin, lonmax))\n",
    "\n",
    "# itime=3\n",
    "\n",
    "# u_itime = ds.u.sel(time=tc_track_gribtimes['time'][itime])\n",
    "# v_itime = ds.v.sel(time=tc_track_gribtimes['time'][itime])\n",
    "\n",
    "# # Get shear\n",
    "# u850 = u_itime.sel(isobaricInhPa=plevs_shear[0])\n",
    "# v850 = v_itime.sel(isobaricInhPa=plevs_shear[0])\n",
    "# u200 = u_itime.sel(isobaricInhPa=plevs_shear[1])\n",
    "# v200 = v_itime.sel(isobaricInhPa=plevs_shear[1])\n",
    "# # ushear = u200 - u850\n",
    "# # vshear = v200 - v850\n",
    "# # shear = np.sqrt(ushear**2 + vshear**2)\n",
    "\n",
    "# # shear = ds.u.sel(isobaricInhPa=plevs_shear[0])\n",
    "\n",
    "# # shear_plot = shear.sel(time=tc_track_gribtimes['time'][itime], method='nearest')\n",
    "\n",
    "# # # for itime in range(nt_interp):\n",
    "# # for itime in range(30,31):\n",
    "\n",
    "#     # Get the center point of the TC track at this time\n",
    "# lat_center = tc_track_gribtimes['lat'][itime]\n",
    "# lon_center = tc_track_gribtimes['lon'][itime]\n",
    "\n",
    "#     # Compute distance grid from center point\n",
    "# distance_grid = compute_distance_grid(lat2d, lon2d, lat_center, lon_center)\n",
    "#     # Mask the shear for current time step to annulus\n",
    "# # shear_plot = shear_plot.where(\n",
    "# #     ((distance_grid <= radius_max_km)))\n",
    "#     # ((distance_grid >= radius_min_km) & (distance_grid <= radius_max_km)))\n",
    "# u850_masked = u850.where(\n",
    "#     ((distance_grid <= radius_max_km)))\n",
    "# v850_masked = v850.where(\n",
    "#     ((distance_grid <= radius_max_km)))\n",
    "# u200_masked = u200.where(\n",
    "#     ((distance_grid <= radius_max_km)))\n",
    "# v200_masked = v200.where(\n",
    "#     ((distance_grid <= radius_max_km)))\n",
    "# u850_mean = u850_masked.mean(skipna=True)\n",
    "# v850_mean = v850_masked.mean(skipna=True)\n",
    "# u200_mean = u200_masked.mean(skipna=True)\n",
    "# v200_mean = v200_masked.mean(skipna=True)\n",
    "# ushear = u200_mean - u850_mean\n",
    "# vshear = v200_mean - v850_mean\n",
    "# shear = np.sqrt(ushear**2 + vshear**2)"
   ]
  },
  {
   "cell_type": "code",
   "execution_count": 9,
   "metadata": {},
   "outputs": [],
   "source": [
    "# # Plot a map of shear at a specific time\n",
    "# import matplotlib.pyplot as plt\n",
    "# import cartopy.crs as ccrs\n",
    "# import cartopy.feature as cfeature\n",
    "# import numpy as np\n",
    "\n",
    "# # Specific time index (if shear is time-dependent, select the appropriate slice)\n",
    "# # shear = shear[time_index, :, :]  # Uncomment if shear has a time dimension\n",
    "\n",
    "# # Create the map\n",
    "# fig, ax = plt.subplots(subplot_kw={'projection': ccrs.PlateCarree()}, figsize=(10, 6))\n",
    "\n",
    "# # Plot the shear data\n",
    "# plot_object = ax.pcolormesh(lon, lat, shear,\n",
    "#                            transform=ccrs.PlateCarree(), cmap='viridis', shading='nearest')\n",
    "\n",
    "# # Add map features\n",
    "# ax.coastlines()\n",
    "# ax.add_feature(cfeature.BORDERS, linestyle=':')\n",
    "# ax.set_title('Shear Map at Specific Time')\n",
    "\n",
    "# # Add a colorbar\n",
    "# cbar = plt.colorbar(plot_object, ax=ax, orientation='horizontal', pad=0.05)\n",
    "# cbar.set_label('Shear (units)')\n",
    "\n",
    "# # Show the plot\n",
    "# plt.show()"
   ]
  },
  {
   "cell_type": "markdown",
   "metadata": {},
   "source": [
    "#### Read in ERA5 shear"
   ]
  },
  {
   "cell_type": "code",
   "execution_count": 11,
   "metadata": {},
   "outputs": [],
   "source": [
    "# Read in processed data\n",
    "mean_shear = np.zeros((nmemb, nt_interp))\n",
    "for imemb in range(nmemb):\n",
    "    fileout = \"nepartak_shear_imemb_\" + str(imemb) + \".nc\"\n",
    "    ds = xr.open_dataset(fileout)\n",
    "    mean_shear_imemb = ds.mean_shear.values\n",
    "    mean_shear[imemb, :] = np.squeeze(mean_shear_imemb)\n",
    "    ds.close()\n",
    "\n",
    "# Write to combined netCDF file\n",
    "ds_all = xr.open_mfdataset(\"nepartak_shear_imemb_*.nc\")\n",
    "ds_all.to_netcdf(\"nepartak_shear_era5.nc\")\n",
    "ds_all.close()"
   ]
  },
  {
   "cell_type": "markdown",
   "metadata": {},
   "source": [
    "---\n",
    "### Plotting routines"
   ]
  },
  {
   "cell_type": "markdown",
   "metadata": {},
   "source": [
    "##### Plot functions"
   ]
  },
  {
   "cell_type": "code",
   "execution_count": 12,
   "metadata": {},
   "outputs": [],
   "source": [
    "font = {'family' : 'sans-serif',\n",
    "        'weight' : 'normal',\n",
    "        'size'   : 15}\n",
    "\n",
    "rc('font', **font)\n",
    "\n",
    "sns.set_theme(style=\"white\", rc={'xtick.bottom': True, 'ytick.left': True, \"axes.spines.right\": False, \"axes.spines.top\": False})"
   ]
  },
  {
   "cell_type": "markdown",
   "metadata": {},
   "source": [
    "#### Create plots"
   ]
  },
  {
   "cell_type": "code",
   "execution_count": 13,
   "metadata": {},
   "outputs": [
    {
     "ename": "NameError",
     "evalue": "name 'tc_track_gribtimes' is not defined",
     "output_type": "error",
     "traceback": [
      "\u001b[0;31m---------------------------------------------------------------------------\u001b[0m",
      "\u001b[0;31mNameError\u001b[0m                                 Traceback (most recent call last)",
      "Cell \u001b[0;32mIn[13], line 3\u001b[0m\n\u001b[1;32m      1\u001b[0m \u001b[38;5;66;03m# Get all times up to first time when vmax >= 64 kts\u001b[39;00m\n\u001b[1;32m      2\u001b[0m vmax_thresh \u001b[38;5;241m=\u001b[39m \u001b[38;5;241m64.0\u001b[39m\n\u001b[0;32m----> 3\u001b[0m t1_avg \u001b[38;5;241m=\u001b[39m np\u001b[38;5;241m.\u001b[39mwhere(\u001b[43mtc_track_gribtimes\u001b[49m[\u001b[38;5;124m'\u001b[39m\u001b[38;5;124mvmax\u001b[39m\u001b[38;5;124m'\u001b[39m] \u001b[38;5;241m>\u001b[39m\u001b[38;5;241m=\u001b[39m vmax_thresh)[\u001b[38;5;241m0\u001b[39m][\u001b[38;5;241m0\u001b[39m]\u001b[38;5;241m-\u001b[39m\u001b[38;5;241m1\u001b[39m\n\u001b[1;32m      4\u001b[0m avg_times \u001b[38;5;241m=\u001b[39m np\u001b[38;5;241m.\u001b[39marange(\u001b[38;5;241m0\u001b[39m, t1_avg\u001b[38;5;241m+\u001b[39m\u001b[38;5;241m1\u001b[39m)\n\u001b[1;32m      5\u001b[0m \u001b[38;5;66;03m# print(avg_times)\u001b[39;00m\n\u001b[1;32m      6\u001b[0m \u001b[38;5;66;03m# print(tc_track_gribtimes['time'][avg_times])\u001b[39;00m\n\u001b[1;32m      7\u001b[0m \u001b[38;5;66;03m# print(tc_track_gribtimes['time'])\u001b[39;00m\n",
      "\u001b[0;31mNameError\u001b[0m: name 'tc_track_gribtimes' is not defined"
     ]
    }
   ],
   "source": [
    "# Get all times up to first time when vmax >= 64 kts\n",
    "vmax_thresh = 64.0\n",
    "t1_avg = np.where(tc_track_gribtimes['vmax'] >= vmax_thresh)[0][0]-1\n",
    "avg_times = np.arange(0, t1_avg+1)\n",
    "# print(avg_times)\n",
    "# print(tc_track_gribtimes['time'][avg_times])\n",
    "# print(tc_track_gribtimes['time'])"
   ]
  },
  {
   "cell_type": "code",
   "execution_count": null,
   "metadata": {},
   "outputs": [
    {
     "data": {
      "image/png": "[encoded data removed]",
      "text/plain": [
       "<Figure size 650x500 with 1 Axes>"
      ]
     },
     "metadata": {},
     "output_type": "display_data"
    }
   ],
   "source": [
    "# Plot all ensemble members\n",
    "\n",
    "fig, ax = plt.subplots(1,1, figsize=(6.5,5), layout=\"constrained\",)\n",
    "\n",
    "# sns.boxplot([mean_shear[im,:] for im in range(nmemb)],\n",
    "sns.boxplot([mean_shear[im,avg_times] for im in range(nmemb)],\n",
    "            width=0.7, showmeans=True,\n",
    "            meanprops={\"marker\":\"o\", \"markerfacecolor\":\"white\", \n",
    "            \"markeredgecolor\":\"black\", \"markersize\":\"6\"},\n",
    "            showfliers=False,)\n",
    "\n",
    "# ax.set_ylim([1e-2,1e14])\n",
    "sns.despine(offset=10,ax=ax)\n",
    "plt.ylabel('m/s')\n",
    "plt.title(r'All ERA5 Members, $T_0\\rightarrow T_{64kts}$')\n",
    "plt.show()"
   ]
  },
  {
   "cell_type": "code",
   "execution_count": null,
   "metadata": {},
   "outputs": [
    {
     "data": {
      "text/plain": [
       "<Axes: >"
      ]
     },
     "execution_count": 36,
     "metadata": {},
     "output_type": "execute_result"
    },
    {
     "data": {
      "image/png": "[encoded data removed]",
      "text/plain": [
       "<Figure size 640x480 with 1 Axes>"
      ]
     },
     "metadata": {},
     "output_type": "display_data"
    }
   ],
   "source": [
    "sns.scatterplot(mean_shear[:,avg_times].flatten())"
   ]
  }
 ],
 "metadata": {
  "kernelspec": {
   "display_name": "plotting",
   "language": "python",
   "name": "python3"
  },
  "language_info": {
   "codemirror_mode": {
    "name": "ipython",
    "version": 3
   },
   "file_extension": ".py",
   "mimetype": "text/x-python",
   "name": "python",
   "nbconvert_exporter": "python",
   "pygments_lexer": "ipython3",
   "version": "3.11.10"
  }
 },
 "nbformat": 4,
 "nbformat_minor": 2
}
