{
 "cells": [
  {
   "cell_type": "code",
   "execution_count": 18,
   "id": "4d5588c0-1bcc-44b3-9cdb-8c30236a0662",
   "metadata": {},
   "outputs": [],
   "source": [
    "import xml.etree.ElementTree as ET\n",
    "import os\n",
    "import pandas as pd\n",
    "import matplotlib.pyplot as plt"
   ]
  },
  {
   "cell_type": "code",
   "execution_count": 3,
   "id": "390140fd-f31e-4df2-bc87-e4e71218f91c",
   "metadata": {},
   "outputs": [],
   "source": [
    "# XML TC track data path\n",
    "data_path = '/work/FAC/FGSE/IDYST/tbeucler/default/freddy0218/2024_TCG_VED_WRFsen/storage/tigge/'\n",
    "data_file = data_path+'z_tigge_c_kwbc_20160703120000_GEFS_glob_prod_esttr_glo.xml'\n",
    "\n",
    "# Parse XML track file\n",
    "tree = ET.parse(data_file)\n",
    "root = tree.getroot()"
   ]
  },
  {
   "cell_type": "code",
   "execution_count": 4,
   "id": "433f7c7b-5faf-43d2-9307-13acfce956d9",
   "metadata": {},
   "outputs": [],
   "source": [
    "def save_tigge_gefs_tracks(root):\n",
    "    # Initialize the list to store extracted data\n",
    "    data = []\n",
    "    \n",
    "    # Loop through each 'data' entry with ensemble forecast data\n",
    "    for data_entry in root.findall(\".//data[@type='ensembleForecast']\"):\n",
    "        member = data_entry.get(\"member\")  # Get the ensemble forecast member ID\n",
    "        # Loop through each disturbance in the data entry\n",
    "        for disturbance in data_entry.findall(\".//disturbance\"):\n",
    "            cyclone_name = disturbance.find(\"cycloneName\").text  # Get cyclone name\n",
    "            basin = disturbance.find(\"basin\").text  # Get basin\n",
    "            \n",
    "            # Loop through each 'fix' entry in the disturbance\n",
    "            for fix in disturbance.findall(\"fix\"):\n",
    "                # Extract data as before\n",
    "                hour = fix.get(\"hour\")\n",
    "                valid_time = fix.find(\"validTime\").text\n",
    "                latitude = fix.find(\"latitude\").text\n",
    "                longitude = fix.find(\"longitude\").text\n",
    "                sub_region = fix.find(\"subRegion\").text\n",
    "                pressure = fix.find(\"cycloneData/minimumPressure/pressure\").text\n",
    "                wind_speed = fix.find(\"cycloneData/maximumWind/speed\").text\n",
    "            \n",
    "                # Append the data to the list, including cyclone name and basin\n",
    "                data.append({\n",
    "                    \"Ensemble Member\": member,\n",
    "                    \"Cyclone Name\": cyclone_name,\n",
    "                    \"Basin\": basin,\n",
    "                    \"Hour\": hour,\n",
    "                    \"Valid Time\": valid_time,\n",
    "                    \"Latitude (deg N)\": latitude,\n",
    "                    \"Longitude (deg E)\": longitude,\n",
    "                    \"Sub Region\": sub_region,\n",
    "                    \"Pressure (hPa)\": pressure,\n",
    "                    \"Wind Speed (kt)\": wind_speed,\n",
    "                })\n",
    "    return pd.DataFrame(data)"
   ]
  },
  {
   "cell_type": "markdown",
   "id": "70cf78a3-0a37-4c97-b032-d30501e21123",
   "metadata": {},
   "source": [
    "# Data converted to pandas dataframes"
   ]
  },
  {
   "cell_type": "code",
   "execution_count": 5,
   "id": "f61d06cc-0874-49d0-844d-cffe80ac0ec2",
   "metadata": {},
   "outputs": [],
   "source": [
    "df = save_tigge_gefs_tracks(root)"
   ]
  },
  {
   "cell_type": "markdown",
   "id": "3e4b8224-7a32-49fc-a87a-82ffada49699",
   "metadata": {},
   "source": [
    "## What TCs are in the file?"
   ]
  },
  {
   "cell_type": "code",
   "execution_count": 7,
   "id": "6bc39636-6ec1-4f5e-8dcd-0bd07368519b",
   "metadata": {},
   "outputs": [
    {
     "name": "stdout",
     "output_type": "stream",
     "text": [
      "['Agatha' 'Nepartak' 'Blas'] ['EP' 'WP']\n"
     ]
    }
   ],
   "source": [
    "print(df['Cyclone Name'].unique(), df['Basin'].unique())"
   ]
  },
  {
   "cell_type": "markdown",
   "id": "70673e86-797d-469b-81ea-dd0828c7ad6d",
   "metadata": {},
   "source": [
    "## Read GEFS Forecasts for NEPARTAK"
   ]
  },
  {
   "cell_type": "code",
   "execution_count": 8,
   "id": "fc4f3ebc-322c-4dd7-8526-7ff10de5b847",
   "metadata": {},
   "outputs": [],
   "source": [
    "nepartak = df[df['Cyclone Name']=='Nepartak']"
   ]
  },
  {
   "cell_type": "code",
   "execution_count": 17,
   "id": "8ddeb858-7e87-4274-a02a-92f80f9f4ab3",
   "metadata": {},
   "outputs": [],
   "source": [
    "lat_memb1 = nepartak[nepartak['Ensemble Member']==str(1)]['Latitude (deg N)']\n",
    "lon_memb1 = nepartak[nepartak['Ensemble Member']==str(1)]['Longitude (deg E)']"
   ]
  },
  {
   "cell_type": "markdown",
   "id": "c1385efc-6caf-4b98-a32a-a26c9b45294f",
   "metadata": {},
   "source": [
    "## Plot em'!"
   ]
  },
  {
   "cell_type": "code",
   "execution_count": 34,
   "id": "65689b3a-97e3-4bad-a0e5-93a67c6e52fe",
   "metadata": {},
   "outputs": [
    {
     "data": {
      "image/png": "[encoded data removed]",
      "text/plain": [
       "<Figure size 432x288 with 1 Axes>"
      ]
     },
     "metadata": {
      "needs_background": "light"
     },
     "output_type": "display_data"
    }
   ],
   "source": [
    "plt.plot([float(obj) for obj in lon_memb1.to_list()],\n",
    "         [float(obj) for obj in lat_memb1.to_list()])\n",
    "plt.xlim(120,150)\n",
    "plt.show()"
   ]
  },
  {
   "cell_type": "code",
   "execution_count": 31,
   "id": "f0256e76-b5aa-4398-8dee-142ee54bc5dd",
   "metadata": {},
   "outputs": [
    {
     "data": {
      "text/plain": [
       "[144.2,\n",
       " 143.3,\n",
       " 142.5,\n",
       " 141.5,\n",
       " 140.2,\n",
       " 138.4,\n",
       " 136.8,\n",
       " 135.1,\n",
       " 133.6,\n",
       " 131.5,\n",
       " 129.6,\n",
       " 127.9,\n",
       " 126.6,\n",
       " 125.3,\n",
       " 124.3,\n",
       " 123.6,\n",
       " 123.1,\n",
       " 123.0,\n",
       " 123.0,\n",
       " 123.4,\n",
       " 123.9,\n",
       " 124.3,\n",
       " 125.0,\n",
       " 125.7,\n",
       " 126.3,\n",
       " 126.8,\n",
       " 127.8,\n",
       " 128.1,\n",
       " 128.6,\n",
       " 129.8,\n",
       " 131.8]"
      ]
     },
     "execution_count": 31,
     "metadata": {},
     "output_type": "execute_result"
    }
   ],
   "source": [
    "[float(obj) for obj in lon_memb1.to_list()]"
   ]
  },
  {
   "cell_type": "code",
   "execution_count": null,
   "id": "4bc069e4-f65a-48df-9415-b8247cb4fb34",
   "metadata": {},
   "outputs": [],
   "source": []
  }
 ],
 "metadata": {
  "kernelspec": {
   "display_name": "Python 3 (ipykernel)",
   "language": "python",
   "name": "python3"
  },
  "language_info": {
   "codemirror_mode": {
    "name": "ipython",
    "version": 3
   },
   "file_extension": ".py",
   "mimetype": "text/x-python",
   "name": "python",
   "nbconvert_exporter": "python",
   "pygments_lexer": "ipython3",
   "version": "3.9.16"
  }
 },
 "nbformat": 4,
 "nbformat_minor": 5
}
