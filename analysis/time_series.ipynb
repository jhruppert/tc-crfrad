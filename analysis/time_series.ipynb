{
 "cells": [
  {
   "cell_type": "markdown",
   "metadata": {},
   "source": [
    "Plot times series from ensemble TC tracks"
   ]
  },
  {
   "cell_type": "markdown",
   "metadata": {},
   "source": [
    "## Main settings"
   ]
  },
  {
   "cell_type": "code",
   "execution_count": 1,
   "metadata": {},
   "outputs": [],
   "source": [
    "import numpy as np\n",
    "import matplotlib.pyplot as plt\n",
    "import cartopy.crs as crs\n",
    "import cartopy.feature as cfeature\n",
    "from read_wrf_functions import *"
   ]
  },
  {
   "cell_type": "markdown",
   "metadata": {},
   "source": [
    "### Track types"
   ]
  },
  {
   "cell_type": "code",
   "execution_count": 2,
   "metadata": {},
   "outputs": [],
   "source": [
    "track_vars = [\n",
    "    'avor_850-600',\n",
    "    'slp',\n",
    "]"
   ]
  },
  {
   "cell_type": "markdown",
   "metadata": {},
   "source": [
    "### Directories and test selection"
   ]
  },
  {
   "cell_type": "code",
   "execution_count": 3,
   "metadata": {},
   "outputs": [],
   "source": [
    "case = \"nepartak\"\n",
    "test_process = \"ctl\"\n",
    "# test_process = \"ncrf12h\"\n",
    "\n",
    "wrf_dom = \"wrf_fine\"\n",
    "nmem = 10 # number of ensemble members\n",
    "\n",
    "datdir = \"/glade/campaign/univ/uokl0049/\"\n",
    "\n",
    "# Ens-member string tags (e.g., memb_01, memb_02, etc.)\n",
    "memb0=1 # Starting member to read\n",
    "memb_nums_str=np.arange(memb0,nmem+memb0,1).astype(str)\n",
    "nustr = np.char.zfill(memb_nums_str, 2)\n",
    "memb_all=np.char.add('memb_',nustr)\n",
    "\n",
    "outdir, postproc_files, nt, nx, ny = get_postproc_dims(datdir, case, test_process, wrf_dom, memb_all[0])"
   ]
  },
  {
   "cell_type": "markdown",
   "metadata": {},
   "source": [
    "### Read tracks"
   ]
  },
  {
   "cell_type": "code",
   "execution_count": 4,
   "metadata": {},
   "outputs": [],
   "source": [
    "ntracks = len(track_vars)\n",
    "dims = (ntracks, nt)\n",
    "clon = np.full(dims, np.nan)\n",
    "clat = np.full(dims, np.nan)\n",
    "\n",
    "for imemb in range(nmem):\n",
    "    outdir, postproc_files, nt, nx, ny = get_postproc_dims(datdir, case, test_process, wrf_dom, memb_all[imemb])\n",
    "    for ivar in range(ntracks):\n",
    "        # Read the data for the current member\n",
    "        i_clon, i_clat = read_tc_track(outdir, track_vars[ivar])\n",
    "        clon[ivar, :] = i_clon\n",
    "        clat[ivar, :] = i_clat"
   ]
  },
  {
   "cell_type": "markdown",
   "metadata": {},
   "source": [
    "## Plotting"
   ]
  },
  {
   "cell_type": "code",
   "execution_count": null,
   "metadata": {},
   "outputs": [],
   "source": []
  }
 ],
 "metadata": {
  "kernelspec": {
   "display_name": "plotting",
   "language": "python",
   "name": "python3"
  },
  "language_info": {
   "codemirror_mode": {
    "name": "ipython",
    "version": 3
   },
   "file_extension": ".py",
   "mimetype": "text/x-python",
   "name": "python",
   "nbconvert_exporter": "python",
   "pygments_lexer": "ipython3",
   "version": "3.11.10"
  }
 },
 "nbformat": 4,
 "nbformat_minor": 2
}
