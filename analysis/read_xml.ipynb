{
 "cells": [
  {
   "cell_type": "markdown",
   "metadata": {},
   "source": [
    "Notebook to read in TC track XML data"
   ]
  },
  {
   "cell_type": "code",
   "execution_count": 1,
   "metadata": {},
   "outputs": [],
   "source": [
    "import xml.etree.ElementTree as ET\n",
    "import os"
   ]
  },
  {
   "cell_type": "code",
   "execution_count": 3,
   "metadata": {},
   "outputs": [
    {
     "name": "stdout",
     "output_type": "stream",
     "text": [
      "something\n"
     ]
    }
   ],
   "source": [
    "# Read in XML TC track data\n",
    "data_path = 'tigge/'\n",
    "data_file = data_path+'z_tigge_c_kwbc_20160701120000_GEFS_glob_prod_esttr_glo.xml'\n",
    "\n",
    "# Parse the XML file\n",
    "tree = ET.parse(data_file)\n",
    "root = tree.getroot()\n",
    "\n",
    "# Function to extract and print relevant data\n",
    "def extract_tc_track_data(root):\n",
    "    print('something')\n",
    "    for track in root.findall('.//track'):\n",
    "        track_id = track.find('track_id').text\n",
    "        lat = track.find('lat').text\n",
    "        lon = track.find('lon').text\n",
    "        intensity = track.find('intensity').text\n",
    "        print(f'Track ID: {track_id}, Latitude: {lat}, Longitude: {lon}, Intensity: {intensity}')\n",
    "\n",
    "# Extract and print the data\n",
    "extract_tc_track_data(root)"
   ]
  },
  {
   "cell_type": "code",
   "execution_count": 4,
   "metadata": {},
   "outputs": [
    {
     "ename": "ModuleNotFoundError",
     "evalue": "No module named 'lxml'",
     "output_type": "error",
     "traceback": [
      "\u001b[0;31m---------------------------------------------------------------------------\u001b[0m",
      "\u001b[0;31mModuleNotFoundError\u001b[0m                       Traceback (most recent call last)",
      "Cell \u001b[0;32mIn[4], line 4\u001b[0m\n\u001b[1;32m      2\u001b[0m \u001b[38;5;28;01mimport\u001b[39;00m \u001b[38;5;21;01mpandas\u001b[39;00m \u001b[38;5;28;01mas\u001b[39;00m \u001b[38;5;21;01mpd\u001b[39;00m\n\u001b[1;32m      3\u001b[0m \u001b[38;5;28;01mimport\u001b[39;00m \u001b[38;5;21;01mos\u001b[39;00m\n\u001b[0;32m----> 4\u001b[0m \u001b[38;5;28;01mfrom\u001b[39;00m \u001b[38;5;21;01mlxml\u001b[39;00m \u001b[38;5;28;01mimport\u001b[39;00m etree\n",
      "\u001b[0;31mModuleNotFoundError\u001b[0m: No module named 'lxml'"
     ]
    }
   ],
   "source": [
    "import xml.etree.ElementTree as ET\n",
    "import pandas as pd\n",
    "import os\n",
    "from lxml import etree\n"
   ]
  },
  {
   "cell_type": "code",
   "execution_count": null,
   "metadata": {},
   "outputs": [],
   "source": [
    "# Define the file paths\n",
    "xml_file = 'tc.xml'\n",
    "xsl_file = 'tc.xsl'\n",
    "\n",
    "# Parse the XML file\n",
    "xml_tree = etree.parse(xml_file)\n",
    "\n",
    "# Parse the XSL file\n",
    "xsl_tree = etree.parse(xsl_file)\n",
    "transform = etree.XSLT(xsl_tree)\n",
    "\n",
    "# Apply the transformation\n",
    "transformed_tree = transform(xml_tree)\n",
    "\n",
    "# Convert the transformed XML to a string\n",
    "transformed_str = str(transformed_tree)\n",
    "\n",
    "# Read the transformed string into a Pandas DataFrame\n",
    "data = pd.read_csv(pd.compat.StringIO(transformed_str))\n",
    "\n",
    "# Display the DataFrame\n",
    "print(data)"
   ]
  }
 ],
 "metadata": {
  "kernelspec": {
   "display_name": "plotting",
   "language": "python",
   "name": "python3"
  },
  "language_info": {
   "codemirror_mode": {
    "name": "ipython",
    "version": 3
   },
   "file_extension": ".py",
   "mimetype": "text/x-python",
   "name": "python",
   "nbconvert_exporter": "python",
   "pygments_lexer": "ipython3",
   "version": "3.11.10"
  }
 },
 "nbformat": 4,
 "nbformat_minor": 2
}
